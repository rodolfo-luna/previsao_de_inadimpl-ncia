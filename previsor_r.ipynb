{
  "nbformat": 4,
  "nbformat_minor": 0,
  "metadata": {
    "colab": {
      "name": "previsor_r",
      "provenance": [],
      "collapsed_sections": [],
      "authorship_tag": "ABX9TyM51/GEJHsPT4BPIcXeePQt"
    },
    "kernelspec": {
      "name": "python3",
      "display_name": "Python 3"
    },
    "language_info": {
      "name": "python"
    }
  },
  "cells": [
    {
      "cell_type": "code",
      "execution_count": null,
      "metadata": {
        "id": "yhvH4fiAz2s4"
      },
      "outputs": [],
      "source": [
        "#*****************************************************************************\n",
        "#\n",
        "#               Microsoft Power BI Para Data Science, Versão 2.0\n",
        "#\n",
        "#                               Data Science Academy\n",
        "#\n",
        "#                                   Mini-Projeto 3\n",
        "#       \n",
        "#         Prevendo a Inadimplência de Clientes com Machine Learning e Power BI\n",
        "#\n",
        "#*****************************************************************************"
      ]
    },
    {
      "cell_type": "markdown",
      "source": [
        "# Introdução\n",
        "\n",
        "Esta pesquisa é voltada para o caso de inadimplência de clientes em Taiwan.\n",
        "\n",
        "Os detalhes e o dataset podem ser acessados pelo link: https://archive.ics.uci.edu/ml/datasets/default+of+credit+card+clients"
      ],
      "metadata": {
        "id": "AJbK4Ef6PMjV"
      }
    },
    {
      "cell_type": "code",
      "source": [
        "#Montando a pasta raiz do Google drive\n",
        "\n",
        "from google.colab import drive\n",
        "drive.mount('/content/drive')"
      ],
      "metadata": {
        "colab": {
          "base_uri": "https://localhost:8080/"
        },
        "id": "LGvup92x0FOv",
        "outputId": "61c2b239-87bf-46fa-cb30-43aedbdc2314"
      },
      "execution_count": null,
      "outputs": [
        {
          "output_type": "stream",
          "name": "stdout",
          "text": [
            "Mounted at /content/drive\n"
          ]
        }
      ]
    },
    {
      "cell_type": "code",
      "source": [
        "#Carregando o R magic\n",
        "%load_ext rpy2.ipython"
      ],
      "metadata": {
        "id": "y55V5Rf3z9vD"
      },
      "execution_count": null,
      "outputs": []
    },
    {
      "cell_type": "code",
      "source": [
        "#Ativando o R magic e carregando os dados.\n",
        "%%R\n",
        "url = ('/content/drive/MyDrive/Data science academy/Curso Power BI para data science/dataset.csv')\n",
        "dados_clientes = read.csv(url)"
      ],
      "metadata": {
        "id": "BAFstx3O0RJL"
      },
      "execution_count": null,
      "outputs": []
    },
    {
      "cell_type": "code",
      "source": [
        "#Instalando os pacotes para o projeto.\n",
        "%%R\n",
        "install.packages(\"Amelia\")\n",
        "install.packages(\"caret\")\n",
        "install.packages(\"ggplot2\")\n",
        "install.packages(\"dplyr\")\n",
        "install.packages(\"reshape\")\n",
        "install.packages(\"randomForest\")\n",
        "install.packages(\"e1071\")"
      ],
      "metadata": {
        "colab": {
          "base_uri": "https://localhost:8080/"
        },
        "id": "lmhFYsCv1TYw",
        "outputId": "d6cb3cde-0ffa-4494-e478-b58afa7d7ad6"
      },
      "execution_count": null,
      "outputs": [
        {
          "output_type": "stream",
          "name": "stderr",
          "text": [
            "R[write to console]: Installing package into ‘/usr/local/lib/R/site-library’\n",
            "(as ‘lib’ is unspecified)\n",
            "\n",
            "R[write to console]: also installing the dependency ‘RcppArmadillo’\n",
            "\n",
            "\n",
            "R[write to console]: trying URL 'https://cran.rstudio.com/src/contrib/RcppArmadillo_0.10.8.1.0.tar.gz'\n",
            "\n",
            "R[write to console]: Content type 'application/x-gzip'\n",
            "R[write to console]:  length 1364404 bytes (1.3 MB)\n",
            "\n",
            "R[write to console]: =\n",
            "R[write to console]: =\n",
            "R[write to console]: =\n",
            "R[write to console]: =\n",
            "R[write to console]: =\n",
            "R[write to console]: =\n",
            "R[write to console]: =\n",
            "R[write to console]: =\n",
            "R[write to console]: =\n",
            "R[write to console]: =\n",
            "R[write to console]: =\n",
            "R[write to console]: =\n",
            "R[write to console]: =\n",
            "R[write to console]: =\n",
            "R[write to console]: =\n",
            "R[write to console]: =\n",
            "R[write to console]: =\n",
            "R[write to console]: =\n",
            "R[write to console]: =\n",
            "R[write to console]: =\n",
            "R[write to console]: =\n",
            "R[write to console]: =\n",
            "R[write to console]: =\n",
            "R[write to console]: =\n",
            "R[write to console]: =\n",
            "R[write to console]: =\n",
            "R[write to console]: =\n",
            "R[write to console]: =\n",
            "R[write to console]: =\n",
            "R[write to console]: =\n",
            "R[write to console]: =\n",
            "R[write to console]: =\n",
            "R[write to console]: =\n",
            "R[write to console]: =\n",
            "R[write to console]: =\n",
            "R[write to console]: =\n",
            "R[write to console]: =\n",
            "R[write to console]: =\n",
            "R[write to console]: =\n",
            "R[write to console]: =\n",
            "R[write to console]: =\n",
            "R[write to console]: =\n",
            "R[write to console]: =\n",
            "R[write to console]: =\n",
            "R[write to console]: =\n",
            "R[write to console]: =\n",
            "R[write to console]: =\n",
            "R[write to console]: =\n",
            "R[write to console]: =\n",
            "R[write to console]: =\n",
            "R[write to console]: \n",
            "\n",
            "R[write to console]: downloaded 1.3 MB\n",
            "\n",
            "\n",
            "R[write to console]: trying URL 'https://cran.rstudio.com/src/contrib/Amelia_1.8.0.tar.gz'\n",
            "\n",
            "R[write to console]: Content type 'application/x-gzip'\n",
            "R[write to console]:  length 1568820 bytes (1.5 MB)\n",
            "\n",
            "R[write to console]: =\n",
            "R[write to console]: =\n",
            "R[write to console]: =\n",
            "R[write to console]: =\n",
            "R[write to console]: =\n",
            "R[write to console]: =\n",
            "R[write to console]: =\n",
            "R[write to console]: =\n",
            "R[write to console]: =\n",
            "R[write to console]: =\n",
            "R[write to console]: =\n",
            "R[write to console]: =\n",
            "R[write to console]: =\n",
            "R[write to console]: =\n",
            "R[write to console]: =\n",
            "R[write to console]: =\n",
            "R[write to console]: =\n",
            "R[write to console]: =\n",
            "R[write to console]: =\n",
            "R[write to console]: =\n",
            "R[write to console]: =\n",
            "R[write to console]: =\n",
            "R[write to console]: =\n",
            "R[write to console]: =\n",
            "R[write to console]: =\n",
            "R[write to console]: =\n",
            "R[write to console]: =\n",
            "R[write to console]: =\n",
            "R[write to console]: =\n",
            "R[write to console]: =\n",
            "R[write to console]: =\n",
            "R[write to console]: =\n",
            "R[write to console]: =\n",
            "R[write to console]: =\n",
            "R[write to console]: =\n",
            "R[write to console]: =\n",
            "R[write to console]: =\n",
            "R[write to console]: =\n",
            "R[write to console]: =\n",
            "R[write to console]: =\n",
            "R[write to console]: =\n",
            "R[write to console]: =\n",
            "R[write to console]: =\n",
            "R[write to console]: =\n",
            "R[write to console]: =\n",
            "R[write to console]: =\n",
            "R[write to console]: =\n",
            "R[write to console]: =\n",
            "R[write to console]: =\n",
            "R[write to console]: =\n",
            "R[write to console]: \n",
            "\n",
            "R[write to console]: downloaded 1.5 MB\n",
            "\n",
            "\n",
            "R[write to console]: \n",
            "\n",
            "R[write to console]: \n",
            "R[write to console]: The downloaded source packages are in\n",
            "\t‘/tmp/Rtmpbr5fDm/downloaded_packages’\n",
            "R[write to console]: \n",
            "R[write to console]: \n",
            "\n",
            "R[write to console]: Installing package into ‘/usr/local/lib/R/site-library’\n",
            "(as ‘lib’ is unspecified)\n",
            "\n",
            "R[write to console]: also installing the dependencies ‘listenv’, ‘parallelly’, ‘future’, ‘globals’, ‘future.apply’, ‘progressr’, ‘numDeriv’, ‘SQUAREM’, ‘lava’, ‘prodlim’, ‘proxy’, ‘iterators’, ‘gower’, ‘hardhat’, ‘ipred’, ‘timeDate’, ‘e1071’, ‘foreach’, ‘ModelMetrics’, ‘plyr’, ‘pROC’, ‘recipes’, ‘reshape2’\n",
            "\n",
            "\n",
            "R[write to console]: trying URL 'https://cran.rstudio.com/src/contrib/listenv_0.8.0.tar.gz'\n",
            "\n",
            "R[write to console]: Content type 'application/x-gzip'\n",
            "R[write to console]:  length 36762 bytes (35 KB)\n",
            "\n",
            "R[write to console]: =\n",
            "R[write to console]: =\n",
            "R[write to console]: =\n",
            "R[write to console]: =\n",
            "R[write to console]: =\n",
            "R[write to console]: =\n",
            "R[write to console]: =\n",
            "R[write to console]: =\n",
            "R[write to console]: =\n",
            "R[write to console]: =\n",
            "R[write to console]: =\n",
            "R[write to console]: =\n",
            "R[write to console]: =\n",
            "R[write to console]: =\n",
            "R[write to console]: =\n",
            "R[write to console]: =\n",
            "R[write to console]: =\n",
            "R[write to console]: =\n",
            "R[write to console]: =\n",
            "R[write to console]: =\n",
            "R[write to console]: =\n",
            "R[write to console]: =\n",
            "R[write to console]: =\n",
            "R[write to console]: =\n",
            "R[write to console]: =\n",
            "R[write to console]: =\n",
            "R[write to console]: =\n",
            "R[write to console]: =\n",
            "R[write to console]: =\n",
            "R[write to console]: =\n",
            "R[write to console]: =\n",
            "R[write to console]: =\n",
            "R[write to console]: =\n",
            "R[write to console]: =\n",
            "R[write to console]: =\n",
            "R[write to console]: =\n",
            "R[write to console]: =\n",
            "R[write to console]: =\n",
            "R[write to console]: =\n",
            "R[write to console]: =\n",
            "R[write to console]: =\n",
            "R[write to console]: =\n",
            "R[write to console]: =\n",
            "R[write to console]: =\n",
            "R[write to console]: =\n",
            "R[write to console]: =\n",
            "R[write to console]: =\n",
            "R[write to console]: =\n",
            "R[write to console]: =\n",
            "R[write to console]: =\n",
            "R[write to console]: \n",
            "\n",
            "R[write to console]: downloaded 35 KB\n",
            "\n",
            "\n",
            "R[write to console]: trying URL 'https://cran.rstudio.com/src/contrib/parallelly_1.30.0.tar.gz'\n",
            "\n",
            "R[write to console]: Content type 'application/x-gzip'\n",
            "R[write to console]:  length 115888 bytes (113 KB)\n",
            "\n",
            "R[write to console]: =\n",
            "R[write to console]: =\n",
            "R[write to console]: =\n",
            "R[write to console]: =\n",
            "R[write to console]: =\n",
            "R[write to console]: =\n",
            "R[write to console]: =\n",
            "R[write to console]: =\n",
            "R[write to console]: =\n",
            "R[write to console]: =\n",
            "R[write to console]: =\n",
            "R[write to console]: =\n",
            "R[write to console]: =\n",
            "R[write to console]: =\n",
            "R[write to console]: =\n",
            "R[write to console]: =\n",
            "R[write to console]: =\n",
            "R[write to console]: =\n",
            "R[write to console]: =\n",
            "R[write to console]: =\n",
            "R[write to console]: =\n",
            "R[write to console]: =\n",
            "R[write to console]: =\n",
            "R[write to console]: =\n",
            "R[write to console]: =\n",
            "R[write to console]: =\n",
            "R[write to console]: =\n",
            "R[write to console]: =\n",
            "R[write to console]: =\n",
            "R[write to console]: =\n",
            "R[write to console]: =\n",
            "R[write to console]: =\n",
            "R[write to console]: =\n",
            "R[write to console]: =\n",
            "R[write to console]: =\n",
            "R[write to console]: =\n",
            "R[write to console]: =\n",
            "R[write to console]: =\n",
            "R[write to console]: =\n",
            "R[write to console]: =\n",
            "R[write to console]: =\n",
            "R[write to console]: =\n",
            "R[write to console]: =\n",
            "R[write to console]: =\n",
            "R[write to console]: =\n",
            "R[write to console]: =\n",
            "R[write to console]: =\n",
            "R[write to console]: =\n",
            "R[write to console]: =\n",
            "R[write to console]: =\n",
            "R[write to console]: \n",
            "\n",
            "R[write to console]: downloaded 113 KB\n",
            "\n",
            "\n",
            "R[write to console]: trying URL 'https://cran.rstudio.com/src/contrib/future_1.24.0.tar.gz'\n",
            "\n",
            "R[write to console]: Content type 'application/x-gzip'\n",
            "R[write to console]:  length 354681 bytes (346 KB)\n",
            "\n",
            "R[write to console]: =\n",
            "R[write to console]: =\n",
            "R[write to console]: =\n",
            "R[write to console]: =\n",
            "R[write to console]: =\n",
            "R[write to console]: =\n",
            "R[write to console]: =\n",
            "R[write to console]: =\n",
            "R[write to console]: =\n",
            "R[write to console]: =\n",
            "R[write to console]: =\n",
            "R[write to console]: =\n",
            "R[write to console]: =\n",
            "R[write to console]: =\n",
            "R[write to console]: =\n",
            "R[write to console]: =\n",
            "R[write to console]: =\n",
            "R[write to console]: =\n",
            "R[write to console]: =\n",
            "R[write to console]: =\n",
            "R[write to console]: =\n",
            "R[write to console]: =\n",
            "R[write to console]: =\n",
            "R[write to console]: =\n",
            "R[write to console]: =\n",
            "R[write to console]: =\n",
            "R[write to console]: =\n",
            "R[write to console]: =\n",
            "R[write to console]: =\n",
            "R[write to console]: =\n",
            "R[write to console]: =\n",
            "R[write to console]: =\n",
            "R[write to console]: =\n",
            "R[write to console]: =\n",
            "R[write to console]: =\n",
            "R[write to console]: =\n",
            "R[write to console]: =\n",
            "R[write to console]: =\n",
            "R[write to console]: =\n",
            "R[write to console]: =\n",
            "R[write to console]: =\n",
            "R[write to console]: =\n",
            "R[write to console]: =\n",
            "R[write to console]: =\n",
            "R[write to console]: =\n",
            "R[write to console]: =\n",
            "R[write to console]: =\n",
            "R[write to console]: =\n",
            "R[write to console]: =\n",
            "R[write to console]: =\n",
            "R[write to console]: \n",
            "\n",
            "R[write to console]: downloaded 346 KB\n",
            "\n",
            "\n",
            "R[write to console]: trying URL 'https://cran.rstudio.com/src/contrib/globals_0.14.0.tar.gz'\n",
            "\n",
            "R[write to console]: Content type 'application/x-gzip'\n",
            "R[write to console]:  length 30786 bytes (30 KB)\n",
            "\n",
            "R[write to console]: =\n",
            "R[write to console]: =\n",
            "R[write to console]: =\n",
            "R[write to console]: =\n",
            "R[write to console]: =\n",
            "R[write to console]: =\n",
            "R[write to console]: =\n",
            "R[write to console]: =\n",
            "R[write to console]: =\n",
            "R[write to console]: =\n",
            "R[write to console]: =\n",
            "R[write to console]: =\n",
            "R[write to console]: =\n",
            "R[write to console]: =\n",
            "R[write to console]: =\n",
            "R[write to console]: =\n",
            "R[write to console]: =\n",
            "R[write to console]: =\n",
            "R[write to console]: =\n",
            "R[write to console]: =\n",
            "R[write to console]: =\n",
            "R[write to console]: =\n",
            "R[write to console]: =\n",
            "R[write to console]: =\n",
            "R[write to console]: =\n",
            "R[write to console]: =\n",
            "R[write to console]: =\n",
            "R[write to console]: =\n",
            "R[write to console]: =\n",
            "R[write to console]: =\n",
            "R[write to console]: =\n",
            "R[write to console]: =\n",
            "R[write to console]: =\n",
            "R[write to console]: =\n",
            "R[write to console]: =\n",
            "R[write to console]: =\n",
            "R[write to console]: =\n",
            "R[write to console]: =\n",
            "R[write to console]: =\n",
            "R[write to console]: =\n",
            "R[write to console]: =\n",
            "R[write to console]: =\n",
            "R[write to console]: =\n",
            "R[write to console]: =\n",
            "R[write to console]: =\n",
            "R[write to console]: =\n",
            "R[write to console]: =\n",
            "R[write to console]: =\n",
            "R[write to console]: =\n",
            "R[write to console]: =\n",
            "R[write to console]: \n",
            "\n",
            "R[write to console]: downloaded 30 KB\n",
            "\n",
            "\n",
            "R[write to console]: trying URL 'https://cran.rstudio.com/src/contrib/future.apply_1.8.1.tar.gz'\n",
            "\n",
            "R[write to console]: Content type 'application/x-gzip'\n",
            "R[write to console]:  length 63654 bytes (62 KB)\n",
            "\n",
            "R[write to console]: =\n",
            "R[write to console]: =\n",
            "R[write to console]: =\n",
            "R[write to console]: =\n",
            "R[write to console]: =\n",
            "R[write to console]: =\n",
            "R[write to console]: =\n",
            "R[write to console]: =\n",
            "R[write to console]: =\n",
            "R[write to console]: =\n",
            "R[write to console]: =\n",
            "R[write to console]: =\n",
            "R[write to console]: =\n",
            "R[write to console]: =\n",
            "R[write to console]: =\n",
            "R[write to console]: =\n",
            "R[write to console]: =\n",
            "R[write to console]: =\n",
            "R[write to console]: =\n",
            "R[write to console]: =\n",
            "R[write to console]: =\n",
            "R[write to console]: =\n",
            "R[write to console]: =\n",
            "R[write to console]: =\n",
            "R[write to console]: =\n",
            "R[write to console]: =\n",
            "R[write to console]: =\n",
            "R[write to console]: =\n",
            "R[write to console]: =\n",
            "R[write to console]: =\n",
            "R[write to console]: =\n",
            "R[write to console]: =\n",
            "R[write to console]: =\n",
            "R[write to console]: =\n",
            "R[write to console]: =\n",
            "R[write to console]: =\n",
            "R[write to console]: =\n",
            "R[write to console]: =\n",
            "R[write to console]: =\n",
            "R[write to console]: =\n",
            "R[write to console]: =\n",
            "R[write to console]: =\n",
            "R[write to console]: =\n",
            "R[write to console]: =\n",
            "R[write to console]: =\n",
            "R[write to console]: =\n",
            "R[write to console]: =\n",
            "R[write to console]: =\n",
            "R[write to console]: =\n",
            "R[write to console]: =\n",
            "R[write to console]: \n",
            "\n",
            "R[write to console]: downloaded 62 KB\n",
            "\n",
            "\n",
            "R[write to console]: trying URL 'https://cran.rstudio.com/src/contrib/progressr_0.10.0.tar.gz'\n",
            "\n",
            "R[write to console]: Content type 'application/x-gzip'\n",
            "R[write to console]:  length 108757 bytes (106 KB)\n",
            "\n",
            "R[write to console]: =\n",
            "R[write to console]: =\n",
            "R[write to console]: =\n",
            "R[write to console]: =\n",
            "R[write to console]: =\n",
            "R[write to console]: =\n",
            "R[write to console]: =\n",
            "R[write to console]: =\n",
            "R[write to console]: =\n",
            "R[write to console]: =\n",
            "R[write to console]: =\n",
            "R[write to console]: =\n",
            "R[write to console]: =\n",
            "R[write to console]: =\n",
            "R[write to console]: =\n",
            "R[write to console]: =\n",
            "R[write to console]: =\n",
            "R[write to console]: =\n",
            "R[write to console]: =\n",
            "R[write to console]: =\n",
            "R[write to console]: =\n",
            "R[write to console]: =\n",
            "R[write to console]: =\n",
            "R[write to console]: =\n",
            "R[write to console]: =\n",
            "R[write to console]: =\n",
            "R[write to console]: =\n",
            "R[write to console]: =\n",
            "R[write to console]: =\n",
            "R[write to console]: =\n",
            "R[write to console]: =\n",
            "R[write to console]: =\n",
            "R[write to console]: =\n",
            "R[write to console]: =\n",
            "R[write to console]: =\n",
            "R[write to console]: =\n",
            "R[write to console]: =\n",
            "R[write to console]: =\n",
            "R[write to console]: =\n",
            "R[write to console]: =\n",
            "R[write to console]: =\n",
            "R[write to console]: =\n",
            "R[write to console]: =\n",
            "R[write to console]: =\n",
            "R[write to console]: =\n",
            "R[write to console]: =\n",
            "R[write to console]: =\n",
            "R[write to console]: =\n",
            "R[write to console]: =\n",
            "R[write to console]: =\n",
            "R[write to console]: \n",
            "\n",
            "R[write to console]: downloaded 106 KB\n",
            "\n",
            "\n",
            "R[write to console]: trying URL 'https://cran.rstudio.com/src/contrib/numDeriv_2016.8-1.1.tar.gz'\n",
            "\n",
            "R[write to console]: Content type 'application/x-gzip'\n",
            "R[write to console]:  length 76053 bytes (74 KB)\n",
            "\n",
            "R[write to console]: =\n",
            "R[write to console]: =\n",
            "R[write to console]: =\n",
            "R[write to console]: =\n",
            "R[write to console]: =\n",
            "R[write to console]: =\n",
            "R[write to console]: =\n",
            "R[write to console]: =\n",
            "R[write to console]: =\n",
            "R[write to console]: =\n",
            "R[write to console]: =\n",
            "R[write to console]: =\n",
            "R[write to console]: =\n",
            "R[write to console]: =\n",
            "R[write to console]: =\n",
            "R[write to console]: =\n",
            "R[write to console]: =\n",
            "R[write to console]: =\n",
            "R[write to console]: =\n",
            "R[write to console]: =\n",
            "R[write to console]: =\n",
            "R[write to console]: =\n",
            "R[write to console]: =\n",
            "R[write to console]: =\n",
            "R[write to console]: =\n",
            "R[write to console]: =\n",
            "R[write to console]: =\n",
            "R[write to console]: =\n",
            "R[write to console]: =\n",
            "R[write to console]: =\n",
            "R[write to console]: =\n",
            "R[write to console]: =\n",
            "R[write to console]: =\n",
            "R[write to console]: =\n",
            "R[write to console]: =\n",
            "R[write to console]: =\n",
            "R[write to console]: =\n",
            "R[write to console]: =\n",
            "R[write to console]: =\n",
            "R[write to console]: =\n",
            "R[write to console]: =\n",
            "R[write to console]: =\n",
            "R[write to console]: =\n",
            "R[write to console]: =\n",
            "R[write to console]: =\n",
            "R[write to console]: =\n",
            "R[write to console]: =\n",
            "R[write to console]: =\n",
            "R[write to console]: =\n",
            "R[write to console]: =\n",
            "R[write to console]: \n",
            "\n",
            "R[write to console]: downloaded 74 KB\n",
            "\n",
            "\n",
            "R[write to console]: trying URL 'https://cran.rstudio.com/src/contrib/SQUAREM_2021.1.tar.gz'\n",
            "\n",
            "R[write to console]: Content type 'application/x-gzip'\n",
            "R[write to console]:  length 241534 bytes (235 KB)\n",
            "\n",
            "R[write to console]: =\n",
            "R[write to console]: =\n",
            "R[write to console]: =\n",
            "R[write to console]: =\n",
            "R[write to console]: =\n",
            "R[write to console]: =\n",
            "R[write to console]: =\n",
            "R[write to console]: =\n",
            "R[write to console]: =\n",
            "R[write to console]: =\n",
            "R[write to console]: =\n",
            "R[write to console]: =\n",
            "R[write to console]: =\n",
            "R[write to console]: =\n",
            "R[write to console]: =\n",
            "R[write to console]: =\n",
            "R[write to console]: =\n",
            "R[write to console]: =\n",
            "R[write to console]: =\n",
            "R[write to console]: =\n",
            "R[write to console]: =\n",
            "R[write to console]: =\n",
            "R[write to console]: =\n",
            "R[write to console]: =\n",
            "R[write to console]: =\n",
            "R[write to console]: =\n",
            "R[write to console]: =\n",
            "R[write to console]: =\n",
            "R[write to console]: =\n",
            "R[write to console]: =\n",
            "R[write to console]: =\n",
            "R[write to console]: =\n",
            "R[write to console]: =\n",
            "R[write to console]: =\n",
            "R[write to console]: =\n",
            "R[write to console]: =\n",
            "R[write to console]: =\n",
            "R[write to console]: =\n",
            "R[write to console]: =\n",
            "R[write to console]: =\n",
            "R[write to console]: =\n",
            "R[write to console]: =\n",
            "R[write to console]: =\n",
            "R[write to console]: =\n",
            "R[write to console]: =\n",
            "R[write to console]: =\n",
            "R[write to console]: =\n",
            "R[write to console]: =\n",
            "R[write to console]: =\n",
            "R[write to console]: =\n",
            "R[write to console]: \n",
            "\n",
            "R[write to console]: downloaded 235 KB\n",
            "\n",
            "\n",
            "R[write to console]: trying URL 'https://cran.rstudio.com/src/contrib/lava_1.6.10.tar.gz'\n",
            "\n",
            "R[write to console]: Content type 'application/x-gzip'\n",
            "R[write to console]:  length 1631414 bytes (1.6 MB)\n",
            "\n",
            "R[write to console]: =\n",
            "R[write to console]: =\n",
            "R[write to console]: =\n",
            "R[write to console]: =\n",
            "R[write to console]: =\n",
            "R[write to console]: =\n",
            "R[write to console]: =\n",
            "R[write to console]: =\n",
            "R[write to console]: =\n",
            "R[write to console]: =\n",
            "R[write to console]: =\n",
            "R[write to console]: =\n",
            "R[write to console]: =\n",
            "R[write to console]: =\n",
            "R[write to console]: =\n",
            "R[write to console]: =\n",
            "R[write to console]: =\n",
            "R[write to console]: =\n",
            "R[write to console]: =\n",
            "R[write to console]: =\n",
            "R[write to console]: =\n",
            "R[write to console]: =\n",
            "R[write to console]: =\n",
            "R[write to console]: =\n",
            "R[write to console]: =\n",
            "R[write to console]: =\n",
            "R[write to console]: =\n",
            "R[write to console]: =\n",
            "R[write to console]: =\n",
            "R[write to console]: =\n",
            "R[write to console]: =\n",
            "R[write to console]: =\n",
            "R[write to console]: =\n",
            "R[write to console]: =\n",
            "R[write to console]: =\n",
            "R[write to console]: =\n",
            "R[write to console]: =\n",
            "R[write to console]: =\n",
            "R[write to console]: =\n",
            "R[write to console]: =\n",
            "R[write to console]: =\n",
            "R[write to console]: =\n",
            "R[write to console]: =\n",
            "R[write to console]: =\n",
            "R[write to console]: =\n",
            "R[write to console]: =\n",
            "R[write to console]: =\n",
            "R[write to console]: =\n",
            "R[write to console]: =\n",
            "R[write to console]: =\n",
            "R[write to console]: \n",
            "\n",
            "R[write to console]: downloaded 1.6 MB\n",
            "\n",
            "\n",
            "R[write to console]: trying URL 'https://cran.rstudio.com/src/contrib/prodlim_2019.11.13.tar.gz'\n",
            "\n",
            "R[write to console]: Content type 'application/x-gzip'\n",
            "R[write to console]:  length 126048 bytes (123 KB)\n",
            "\n",
            "R[write to console]: =\n",
            "R[write to console]: =\n",
            "R[write to console]: =\n",
            "R[write to console]: =\n",
            "R[write to console]: =\n",
            "R[write to console]: =\n",
            "R[write to console]: =\n",
            "R[write to console]: =\n",
            "R[write to console]: =\n",
            "R[write to console]: =\n",
            "R[write to console]: =\n",
            "R[write to console]: =\n",
            "R[write to console]: =\n",
            "R[write to console]: =\n",
            "R[write to console]: =\n",
            "R[write to console]: =\n",
            "R[write to console]: =\n",
            "R[write to console]: =\n",
            "R[write to console]: =\n",
            "R[write to console]: =\n",
            "R[write to console]: =\n",
            "R[write to console]: =\n",
            "R[write to console]: =\n",
            "R[write to console]: =\n",
            "R[write to console]: =\n",
            "R[write to console]: =\n",
            "R[write to console]: =\n",
            "R[write to console]: =\n",
            "R[write to console]: =\n",
            "R[write to console]: =\n",
            "R[write to console]: =\n",
            "R[write to console]: =\n",
            "R[write to console]: =\n",
            "R[write to console]: =\n",
            "R[write to console]: =\n",
            "R[write to console]: =\n",
            "R[write to console]: =\n",
            "R[write to console]: =\n",
            "R[write to console]: =\n",
            "R[write to console]: =\n",
            "R[write to console]: =\n",
            "R[write to console]: =\n",
            "R[write to console]: =\n",
            "R[write to console]: =\n",
            "R[write to console]: =\n",
            "R[write to console]: =\n",
            "R[write to console]: =\n",
            "R[write to console]: =\n",
            "R[write to console]: =\n",
            "R[write to console]: =\n",
            "R[write to console]: \n",
            "\n",
            "R[write to console]: downloaded 123 KB\n",
            "\n",
            "\n",
            "R[write to console]: trying URL 'https://cran.rstudio.com/src/contrib/proxy_0.4-26.tar.gz'\n",
            "\n",
            "R[write to console]: Content type 'application/x-gzip'\n",
            "R[write to console]:  length 116286 bytes (113 KB)\n",
            "\n",
            "R[write to console]: =\n",
            "R[write to console]: =\n",
            "R[write to console]: =\n",
            "R[write to console]: =\n",
            "R[write to console]: =\n",
            "R[write to console]: =\n",
            "R[write to console]: =\n",
            "R[write to console]: =\n",
            "R[write to console]: =\n",
            "R[write to console]: =\n",
            "R[write to console]: =\n",
            "R[write to console]: =\n",
            "R[write to console]: =\n",
            "R[write to console]: =\n",
            "R[write to console]: =\n",
            "R[write to console]: =\n",
            "R[write to console]: =\n",
            "R[write to console]: =\n",
            "R[write to console]: =\n",
            "R[write to console]: =\n",
            "R[write to console]: =\n",
            "R[write to console]: =\n",
            "R[write to console]: =\n",
            "R[write to console]: =\n",
            "R[write to console]: =\n",
            "R[write to console]: =\n",
            "R[write to console]: =\n",
            "R[write to console]: =\n",
            "R[write to console]: =\n",
            "R[write to console]: =\n",
            "R[write to console]: =\n",
            "R[write to console]: =\n",
            "R[write to console]: =\n",
            "R[write to console]: =\n",
            "R[write to console]: =\n",
            "R[write to console]: =\n",
            "R[write to console]: =\n",
            "R[write to console]: =\n",
            "R[write to console]: =\n",
            "R[write to console]: =\n",
            "R[write to console]: =\n",
            "R[write to console]: =\n",
            "R[write to console]: =\n",
            "R[write to console]: =\n",
            "R[write to console]: =\n",
            "R[write to console]: =\n",
            "R[write to console]: =\n",
            "R[write to console]: =\n",
            "R[write to console]: =\n",
            "R[write to console]: =\n",
            "R[write to console]: \n",
            "\n",
            "R[write to console]: downloaded 113 KB\n",
            "\n",
            "\n",
            "R[write to console]: trying URL 'https://cran.rstudio.com/src/contrib/iterators_1.0.14.tar.gz'\n",
            "\n",
            "R[write to console]: Content type 'application/x-gzip'\n",
            "R[write to console]:  length 300266 bytes (293 KB)\n",
            "\n",
            "R[write to console]: =\n",
            "R[write to console]: =\n",
            "R[write to console]: =\n",
            "R[write to console]: =\n",
            "R[write to console]: =\n",
            "R[write to console]: =\n",
            "R[write to console]: =\n",
            "R[write to console]: =\n",
            "R[write to console]: =\n",
            "R[write to console]: =\n",
            "R[write to console]: =\n",
            "R[write to console]: =\n",
            "R[write to console]: =\n",
            "R[write to console]: =\n",
            "R[write to console]: =\n",
            "R[write to console]: =\n",
            "R[write to console]: =\n",
            "R[write to console]: =\n",
            "R[write to console]: =\n",
            "R[write to console]: =\n",
            "R[write to console]: =\n",
            "R[write to console]: =\n",
            "R[write to console]: =\n",
            "R[write to console]: =\n",
            "R[write to console]: =\n",
            "R[write to console]: =\n",
            "R[write to console]: =\n",
            "R[write to console]: =\n",
            "R[write to console]: =\n",
            "R[write to console]: =\n",
            "R[write to console]: =\n",
            "R[write to console]: =\n",
            "R[write to console]: =\n",
            "R[write to console]: =\n",
            "R[write to console]: =\n",
            "R[write to console]: =\n",
            "R[write to console]: =\n",
            "R[write to console]: =\n",
            "R[write to console]: =\n",
            "R[write to console]: =\n",
            "R[write to console]: =\n",
            "R[write to console]: =\n",
            "R[write to console]: =\n",
            "R[write to console]: =\n",
            "R[write to console]: =\n",
            "R[write to console]: =\n",
            "R[write to console]: =\n",
            "R[write to console]: =\n",
            "R[write to console]: =\n",
            "R[write to console]: =\n",
            "R[write to console]: \n",
            "\n",
            "R[write to console]: downloaded 293 KB\n",
            "\n",
            "\n",
            "R[write to console]: trying URL 'https://cran.rstudio.com/src/contrib/gower_1.0.0.tar.gz'\n",
            "\n",
            "R[write to console]: Content type 'application/x-gzip'\n",
            "R[write to console]:  length 139299 bytes (136 KB)\n",
            "\n",
            "R[write to console]: =\n",
            "R[write to console]: =\n",
            "R[write to console]: =\n",
            "R[write to console]: =\n",
            "R[write to console]: =\n",
            "R[write to console]: =\n",
            "R[write to console]: =\n",
            "R[write to console]: =\n",
            "R[write to console]: =\n",
            "R[write to console]: =\n",
            "R[write to console]: =\n",
            "R[write to console]: =\n",
            "R[write to console]: =\n",
            "R[write to console]: =\n",
            "R[write to console]: =\n",
            "R[write to console]: =\n",
            "R[write to console]: =\n",
            "R[write to console]: =\n",
            "R[write to console]: =\n",
            "R[write to console]: =\n",
            "R[write to console]: =\n",
            "R[write to console]: =\n",
            "R[write to console]: =\n",
            "R[write to console]: =\n",
            "R[write to console]: =\n",
            "R[write to console]: =\n",
            "R[write to console]: =\n",
            "R[write to console]: =\n",
            "R[write to console]: =\n",
            "R[write to console]: =\n",
            "R[write to console]: =\n",
            "R[write to console]: =\n",
            "R[write to console]: =\n",
            "R[write to console]: =\n",
            "R[write to console]: =\n",
            "R[write to console]: =\n",
            "R[write to console]: =\n",
            "R[write to console]: =\n",
            "R[write to console]: =\n",
            "R[write to console]: =\n",
            "R[write to console]: =\n",
            "R[write to console]: =\n",
            "R[write to console]: =\n",
            "R[write to console]: =\n",
            "R[write to console]: =\n",
            "R[write to console]: =\n",
            "R[write to console]: =\n",
            "R[write to console]: =\n",
            "R[write to console]: =\n",
            "R[write to console]: =\n",
            "R[write to console]: \n",
            "\n",
            "R[write to console]: downloaded 136 KB\n",
            "\n",
            "\n",
            "R[write to console]: trying URL 'https://cran.rstudio.com/src/contrib/hardhat_0.2.0.tar.gz'\n",
            "\n",
            "R[write to console]: Content type 'application/x-gzip'\n",
            "R[write to console]:  length 898777 bytes (877 KB)\n",
            "\n",
            "R[write to console]: =\n",
            "R[write to console]: =\n",
            "R[write to console]: =\n",
            "R[write to console]: =\n",
            "R[write to console]: =\n",
            "R[write to console]: =\n",
            "R[write to console]: =\n",
            "R[write to console]: =\n",
            "R[write to console]: =\n",
            "R[write to console]: =\n",
            "R[write to console]: =\n",
            "R[write to console]: =\n",
            "R[write to console]: =\n",
            "R[write to console]: =\n",
            "R[write to console]: =\n",
            "R[write to console]: =\n",
            "R[write to console]: =\n",
            "R[write to console]: =\n",
            "R[write to console]: =\n",
            "R[write to console]: =\n",
            "R[write to console]: =\n",
            "R[write to console]: =\n",
            "R[write to console]: =\n",
            "R[write to console]: =\n",
            "R[write to console]: =\n",
            "R[write to console]: =\n",
            "R[write to console]: =\n",
            "R[write to console]: =\n",
            "R[write to console]: =\n",
            "R[write to console]: =\n",
            "R[write to console]: =\n",
            "R[write to console]: =\n",
            "R[write to console]: =\n",
            "R[write to console]: =\n",
            "R[write to console]: =\n",
            "R[write to console]: =\n",
            "R[write to console]: =\n",
            "R[write to console]: =\n",
            "R[write to console]: =\n",
            "R[write to console]: =\n",
            "R[write to console]: =\n",
            "R[write to console]: =\n",
            "R[write to console]: =\n",
            "R[write to console]: =\n",
            "R[write to console]: =\n",
            "R[write to console]: =\n",
            "R[write to console]: =\n",
            "R[write to console]: =\n",
            "R[write to console]: =\n",
            "R[write to console]: =\n",
            "R[write to console]: \n",
            "\n",
            "R[write to console]: downloaded 877 KB\n",
            "\n",
            "\n",
            "R[write to console]: trying URL 'https://cran.rstudio.com/src/contrib/ipred_0.9-12.tar.gz'\n",
            "\n",
            "R[write to console]: Content type 'application/x-gzip'\n",
            "R[write to console]:  length 178866 bytes (174 KB)\n",
            "\n",
            "R[write to console]: =\n",
            "R[write to console]: =\n",
            "R[write to console]: =\n",
            "R[write to console]: =\n",
            "R[write to console]: =\n",
            "R[write to console]: =\n",
            "R[write to console]: =\n",
            "R[write to console]: =\n",
            "R[write to console]: =\n",
            "R[write to console]: =\n",
            "R[write to console]: =\n",
            "R[write to console]: =\n",
            "R[write to console]: =\n",
            "R[write to console]: =\n",
            "R[write to console]: =\n",
            "R[write to console]: =\n",
            "R[write to console]: =\n",
            "R[write to console]: =\n",
            "R[write to console]: =\n",
            "R[write to console]: =\n",
            "R[write to console]: =\n",
            "R[write to console]: =\n",
            "R[write to console]: =\n",
            "R[write to console]: =\n",
            "R[write to console]: =\n",
            "R[write to console]: =\n",
            "R[write to console]: =\n",
            "R[write to console]: =\n",
            "R[write to console]: =\n",
            "R[write to console]: =\n",
            "R[write to console]: =\n",
            "R[write to console]: =\n",
            "R[write to console]: =\n",
            "R[write to console]: =\n",
            "R[write to console]: =\n",
            "R[write to console]: =\n",
            "R[write to console]: =\n",
            "R[write to console]: =\n",
            "R[write to console]: =\n",
            "R[write to console]: =\n",
            "R[write to console]: =\n",
            "R[write to console]: =\n",
            "R[write to console]: =\n",
            "R[write to console]: =\n",
            "R[write to console]: =\n",
            "R[write to console]: =\n",
            "R[write to console]: =\n",
            "R[write to console]: =\n",
            "R[write to console]: =\n",
            "R[write to console]: =\n",
            "R[write to console]: \n",
            "\n",
            "R[write to console]: downloaded 174 KB\n",
            "\n",
            "\n",
            "R[write to console]: trying URL 'https://cran.rstudio.com/src/contrib/timeDate_3043.102.tar.gz'\n",
            "\n",
            "R[write to console]: Content type 'application/x-gzip'\n",
            "R[write to console]:  length 314656 bytes (307 KB)\n",
            "\n",
            "R[write to console]: =\n",
            "R[write to console]: =\n",
            "R[write to console]: =\n",
            "R[write to console]: =\n",
            "R[write to console]: =\n",
            "R[write to console]: =\n",
            "R[write to console]: =\n",
            "R[write to console]: =\n",
            "R[write to console]: =\n",
            "R[write to console]: =\n",
            "R[write to console]: =\n",
            "R[write to console]: =\n",
            "R[write to console]: =\n",
            "R[write to console]: =\n",
            "R[write to console]: =\n",
            "R[write to console]: =\n",
            "R[write to console]: =\n",
            "R[write to console]: =\n",
            "R[write to console]: =\n",
            "R[write to console]: =\n",
            "R[write to console]: =\n",
            "R[write to console]: =\n",
            "R[write to console]: =\n",
            "R[write to console]: =\n",
            "R[write to console]: =\n",
            "R[write to console]: =\n",
            "R[write to console]: =\n",
            "R[write to console]: =\n",
            "R[write to console]: =\n",
            "R[write to console]: =\n",
            "R[write to console]: =\n",
            "R[write to console]: =\n",
            "R[write to console]: =\n",
            "R[write to console]: =\n",
            "R[write to console]: =\n",
            "R[write to console]: =\n",
            "R[write to console]: =\n",
            "R[write to console]: =\n",
            "R[write to console]: =\n",
            "R[write to console]: =\n",
            "R[write to console]: =\n",
            "R[write to console]: =\n",
            "R[write to console]: =\n",
            "R[write to console]: =\n",
            "R[write to console]: =\n",
            "R[write to console]: =\n",
            "R[write to console]: =\n",
            "R[write to console]: =\n",
            "R[write to console]: =\n",
            "R[write to console]: =\n",
            "R[write to console]: \n",
            "\n",
            "R[write to console]: downloaded 307 KB\n",
            "\n",
            "\n",
            "R[write to console]: trying URL 'https://cran.rstudio.com/src/contrib/e1071_1.7-9.tar.gz'\n",
            "\n",
            "R[write to console]: Content type 'application/x-gzip'\n",
            "R[write to console]:  length 566723 bytes (553 KB)\n",
            "\n",
            "R[write to console]: =\n",
            "R[write to console]: =\n",
            "R[write to console]: =\n",
            "R[write to console]: =\n",
            "R[write to console]: =\n",
            "R[write to console]: =\n",
            "R[write to console]: =\n",
            "R[write to console]: =\n",
            "R[write to console]: =\n",
            "R[write to console]: =\n",
            "R[write to console]: =\n",
            "R[write to console]: =\n",
            "R[write to console]: =\n",
            "R[write to console]: =\n",
            "R[write to console]: =\n",
            "R[write to console]: =\n",
            "R[write to console]: =\n",
            "R[write to console]: =\n",
            "R[write to console]: =\n",
            "R[write to console]: =\n",
            "R[write to console]: =\n",
            "R[write to console]: =\n",
            "R[write to console]: =\n",
            "R[write to console]: =\n",
            "R[write to console]: =\n",
            "R[write to console]: =\n",
            "R[write to console]: =\n",
            "R[write to console]: =\n",
            "R[write to console]: =\n",
            "R[write to console]: =\n",
            "R[write to console]: =\n",
            "R[write to console]: =\n",
            "R[write to console]: =\n",
            "R[write to console]: =\n",
            "R[write to console]: =\n",
            "R[write to console]: =\n",
            "R[write to console]: =\n",
            "R[write to console]: =\n",
            "R[write to console]: =\n",
            "R[write to console]: =\n",
            "R[write to console]: =\n",
            "R[write to console]: =\n",
            "R[write to console]: =\n",
            "R[write to console]: =\n",
            "R[write to console]: =\n",
            "R[write to console]: =\n",
            "R[write to console]: =\n",
            "R[write to console]: =\n",
            "R[write to console]: =\n",
            "R[write to console]: =\n",
            "R[write to console]: \n",
            "\n",
            "R[write to console]: downloaded 553 KB\n",
            "\n",
            "\n",
            "R[write to console]: trying URL 'https://cran.rstudio.com/src/contrib/foreach_1.5.2.tar.gz'\n",
            "\n",
            "R[write to console]: Content type 'application/x-gzip'\n",
            "R[write to console]:  length 89758 bytes (87 KB)\n",
            "\n",
            "R[write to console]: =\n",
            "R[write to console]: =\n",
            "R[write to console]: =\n",
            "R[write to console]: =\n",
            "R[write to console]: =\n",
            "R[write to console]: =\n",
            "R[write to console]: =\n",
            "R[write to console]: =\n",
            "R[write to console]: =\n",
            "R[write to console]: =\n",
            "R[write to console]: =\n",
            "R[write to console]: =\n",
            "R[write to console]: =\n",
            "R[write to console]: =\n",
            "R[write to console]: =\n",
            "R[write to console]: =\n",
            "R[write to console]: =\n",
            "R[write to console]: =\n",
            "R[write to console]: =\n",
            "R[write to console]: =\n",
            "R[write to console]: =\n",
            "R[write to console]: =\n",
            "R[write to console]: =\n",
            "R[write to console]: =\n",
            "R[write to console]: =\n",
            "R[write to console]: =\n",
            "R[write to console]: =\n",
            "R[write to console]: =\n",
            "R[write to console]: =\n",
            "R[write to console]: =\n",
            "R[write to console]: =\n",
            "R[write to console]: =\n",
            "R[write to console]: =\n",
            "R[write to console]: =\n",
            "R[write to console]: =\n",
            "R[write to console]: =\n",
            "R[write to console]: =\n",
            "R[write to console]: =\n",
            "R[write to console]: =\n",
            "R[write to console]: =\n",
            "R[write to console]: =\n",
            "R[write to console]: =\n",
            "R[write to console]: =\n",
            "R[write to console]: =\n",
            "R[write to console]: =\n",
            "R[write to console]: =\n",
            "R[write to console]: =\n",
            "R[write to console]: =\n",
            "R[write to console]: =\n",
            "R[write to console]: =\n",
            "R[write to console]: \n",
            "\n",
            "R[write to console]: downloaded 87 KB\n",
            "\n",
            "\n",
            "R[write to console]: trying URL 'https://cran.rstudio.com/src/contrib/ModelMetrics_1.2.2.2.tar.gz'\n",
            "\n",
            "R[write to console]: Content type 'application/x-gzip'\n",
            "R[write to console]:  length 17078 bytes (16 KB)\n",
            "\n",
            "R[write to console]: =\n",
            "R[write to console]: =\n",
            "R[write to console]: =\n",
            "R[write to console]: =\n",
            "R[write to console]: =\n",
            "R[write to console]: =\n",
            "R[write to console]: =\n",
            "R[write to console]: =\n",
            "R[write to console]: =\n",
            "R[write to console]: =\n",
            "R[write to console]: =\n",
            "R[write to console]: =\n",
            "R[write to console]: =\n",
            "R[write to console]: =\n",
            "R[write to console]: =\n",
            "R[write to console]: =\n",
            "R[write to console]: =\n",
            "R[write to console]: =\n",
            "R[write to console]: =\n",
            "R[write to console]: =\n",
            "R[write to console]: =\n",
            "R[write to console]: =\n",
            "R[write to console]: =\n",
            "R[write to console]: =\n",
            "R[write to console]: =\n",
            "R[write to console]: =\n",
            "R[write to console]: =\n",
            "R[write to console]: =\n",
            "R[write to console]: =\n",
            "R[write to console]: =\n",
            "R[write to console]: =\n",
            "R[write to console]: =\n",
            "R[write to console]: =\n",
            "R[write to console]: =\n",
            "R[write to console]: =\n",
            "R[write to console]: =\n",
            "R[write to console]: =\n",
            "R[write to console]: =\n",
            "R[write to console]: =\n",
            "R[write to console]: =\n",
            "R[write to console]: =\n",
            "R[write to console]: =\n",
            "R[write to console]: =\n",
            "R[write to console]: =\n",
            "R[write to console]: =\n",
            "R[write to console]: =\n",
            "R[write to console]: =\n",
            "R[write to console]: =\n",
            "R[write to console]: =\n",
            "R[write to console]: =\n",
            "R[write to console]: \n",
            "\n",
            "R[write to console]: downloaded 16 KB\n",
            "\n",
            "\n",
            "R[write to console]: trying URL 'https://cran.rstudio.com/src/contrib/plyr_1.8.6.tar.gz'\n",
            "\n",
            "R[write to console]: Content type 'application/x-gzip'\n",
            "R[write to console]:  length 401191 bytes (391 KB)\n",
            "\n",
            "R[write to console]: =\n",
            "R[write to console]: =\n",
            "R[write to console]: =\n",
            "R[write to console]: =\n",
            "R[write to console]: =\n",
            "R[write to console]: =\n",
            "R[write to console]: =\n",
            "R[write to console]: =\n",
            "R[write to console]: =\n",
            "R[write to console]: =\n",
            "R[write to console]: =\n",
            "R[write to console]: =\n",
            "R[write to console]: =\n",
            "R[write to console]: =\n",
            "R[write to console]: =\n",
            "R[write to console]: =\n",
            "R[write to console]: =\n",
            "R[write to console]: =\n",
            "R[write to console]: =\n",
            "R[write to console]: =\n",
            "R[write to console]: =\n",
            "R[write to console]: =\n",
            "R[write to console]: =\n",
            "R[write to console]: =\n",
            "R[write to console]: =\n",
            "R[write to console]: =\n",
            "R[write to console]: =\n",
            "R[write to console]: =\n",
            "R[write to console]: =\n",
            "R[write to console]: =\n",
            "R[write to console]: =\n",
            "R[write to console]: =\n",
            "R[write to console]: =\n",
            "R[write to console]: =\n",
            "R[write to console]: =\n",
            "R[write to console]: =\n",
            "R[write to console]: =\n",
            "R[write to console]: =\n",
            "R[write to console]: =\n",
            "R[write to console]: =\n",
            "R[write to console]: =\n",
            "R[write to console]: =\n",
            "R[write to console]: =\n",
            "R[write to console]: =\n",
            "R[write to console]: =\n",
            "R[write to console]: =\n",
            "R[write to console]: =\n",
            "R[write to console]: =\n",
            "R[write to console]: =\n",
            "R[write to console]: =\n",
            "R[write to console]: \n",
            "\n",
            "R[write to console]: downloaded 391 KB\n",
            "\n",
            "\n",
            "R[write to console]: trying URL 'https://cran.rstudio.com/src/contrib/pROC_1.18.0.tar.gz'\n",
            "\n",
            "R[write to console]: Content type 'application/x-gzip'\n",
            "R[write to console]:  length 688430 bytes (672 KB)\n",
            "\n",
            "R[write to console]: =\n",
            "R[write to console]: =\n",
            "R[write to console]: =\n",
            "R[write to console]: =\n",
            "R[write to console]: =\n",
            "R[write to console]: =\n",
            "R[write to console]: =\n",
            "R[write to console]: =\n",
            "R[write to console]: =\n",
            "R[write to console]: =\n",
            "R[write to console]: =\n",
            "R[write to console]: =\n",
            "R[write to console]: =\n",
            "R[write to console]: =\n",
            "R[write to console]: =\n",
            "R[write to console]: =\n",
            "R[write to console]: =\n",
            "R[write to console]: =\n",
            "R[write to console]: =\n",
            "R[write to console]: =\n",
            "R[write to console]: =\n",
            "R[write to console]: =\n",
            "R[write to console]: =\n",
            "R[write to console]: =\n",
            "R[write to console]: =\n",
            "R[write to console]: =\n",
            "R[write to console]: =\n",
            "R[write to console]: =\n",
            "R[write to console]: =\n",
            "R[write to console]: =\n",
            "R[write to console]: =\n",
            "R[write to console]: =\n",
            "R[write to console]: =\n",
            "R[write to console]: =\n",
            "R[write to console]: =\n",
            "R[write to console]: =\n",
            "R[write to console]: =\n",
            "R[write to console]: =\n",
            "R[write to console]: =\n",
            "R[write to console]: =\n",
            "R[write to console]: =\n",
            "R[write to console]: =\n",
            "R[write to console]: =\n",
            "R[write to console]: =\n",
            "R[write to console]: =\n",
            "R[write to console]: =\n",
            "R[write to console]: =\n",
            "R[write to console]: =\n",
            "R[write to console]: =\n",
            "R[write to console]: =\n",
            "R[write to console]: \n",
            "\n",
            "R[write to console]: downloaded 672 KB\n",
            "\n",
            "\n",
            "R[write to console]: trying URL 'https://cran.rstudio.com/src/contrib/recipes_0.2.0.tar.gz'\n",
            "\n",
            "R[write to console]: Content type 'application/x-gzip'\n",
            "R[write to console]:  length 582287 bytes (568 KB)\n",
            "\n",
            "R[write to console]: =\n",
            "R[write to console]: =\n",
            "R[write to console]: =\n",
            "R[write to console]: =\n",
            "R[write to console]: =\n",
            "R[write to console]: =\n",
            "R[write to console]: =\n",
            "R[write to console]: =\n",
            "R[write to console]: =\n",
            "R[write to console]: =\n",
            "R[write to console]: =\n",
            "R[write to console]: =\n",
            "R[write to console]: =\n",
            "R[write to console]: =\n",
            "R[write to console]: =\n",
            "R[write to console]: =\n",
            "R[write to console]: =\n",
            "R[write to console]: =\n",
            "R[write to console]: =\n",
            "R[write to console]: =\n",
            "R[write to console]: =\n",
            "R[write to console]: =\n",
            "R[write to console]: =\n",
            "R[write to console]: =\n",
            "R[write to console]: =\n",
            "R[write to console]: =\n",
            "R[write to console]: =\n",
            "R[write to console]: =\n",
            "R[write to console]: =\n",
            "R[write to console]: =\n",
            "R[write to console]: =\n",
            "R[write to console]: =\n",
            "R[write to console]: =\n",
            "R[write to console]: =\n",
            "R[write to console]: =\n",
            "R[write to console]: =\n",
            "R[write to console]: =\n",
            "R[write to console]: =\n",
            "R[write to console]: =\n",
            "R[write to console]: =\n",
            "R[write to console]: =\n",
            "R[write to console]: =\n",
            "R[write to console]: =\n",
            "R[write to console]: =\n",
            "R[write to console]: =\n",
            "R[write to console]: =\n",
            "R[write to console]: =\n",
            "R[write to console]: =\n",
            "R[write to console]: =\n",
            "R[write to console]: =\n",
            "R[write to console]: \n",
            "\n",
            "R[write to console]: downloaded 568 KB\n",
            "\n",
            "\n",
            "R[write to console]: trying URL 'https://cran.rstudio.com/src/contrib/reshape2_1.4.4.tar.gz'\n",
            "\n",
            "R[write to console]: Content type 'application/x-gzip'\n",
            "R[write to console]:  length 37307 bytes (36 KB)\n",
            "\n",
            "R[write to console]: =\n",
            "R[write to console]: =\n",
            "R[write to console]: =\n",
            "R[write to console]: =\n",
            "R[write to console]: =\n",
            "R[write to console]: =\n",
            "R[write to console]: =\n",
            "R[write to console]: =\n",
            "R[write to console]: =\n",
            "R[write to console]: =\n",
            "R[write to console]: =\n",
            "R[write to console]: =\n",
            "R[write to console]: =\n",
            "R[write to console]: =\n",
            "R[write to console]: =\n",
            "R[write to console]: =\n",
            "R[write to console]: =\n",
            "R[write to console]: =\n",
            "R[write to console]: =\n",
            "R[write to console]: =\n",
            "R[write to console]: =\n",
            "R[write to console]: =\n",
            "R[write to console]: =\n",
            "R[write to console]: =\n",
            "R[write to console]: =\n",
            "R[write to console]: =\n",
            "R[write to console]: =\n",
            "R[write to console]: =\n",
            "R[write to console]: =\n",
            "R[write to console]: =\n",
            "R[write to console]: =\n",
            "R[write to console]: =\n",
            "R[write to console]: =\n",
            "R[write to console]: =\n",
            "R[write to console]: =\n",
            "R[write to console]: =\n",
            "R[write to console]: =\n",
            "R[write to console]: =\n",
            "R[write to console]: =\n",
            "R[write to console]: =\n",
            "R[write to console]: =\n",
            "R[write to console]: =\n",
            "R[write to console]: =\n",
            "R[write to console]: =\n",
            "R[write to console]: =\n",
            "R[write to console]: =\n",
            "R[write to console]: =\n",
            "R[write to console]: =\n",
            "R[write to console]: =\n",
            "R[write to console]: =\n",
            "R[write to console]: \n",
            "\n",
            "R[write to console]: downloaded 36 KB\n",
            "\n",
            "\n",
            "R[write to console]: trying URL 'https://cran.rstudio.com/src/contrib/caret_6.0-90.tar.gz'\n",
            "\n",
            "R[write to console]: Content type 'application/x-gzip'\n",
            "R[write to console]:  length 2335088 bytes (2.2 MB)\n",
            "\n",
            "R[write to console]: =\n",
            "R[write to console]: =\n",
            "R[write to console]: =\n",
            "R[write to console]: =\n",
            "R[write to console]: =\n",
            "R[write to console]: =\n",
            "R[write to console]: =\n",
            "R[write to console]: =\n",
            "R[write to console]: =\n",
            "R[write to console]: =\n",
            "R[write to console]: =\n",
            "R[write to console]: =\n",
            "R[write to console]: =\n",
            "R[write to console]: =\n",
            "R[write to console]: =\n",
            "R[write to console]: =\n",
            "R[write to console]: =\n",
            "R[write to console]: =\n",
            "R[write to console]: =\n",
            "R[write to console]: =\n",
            "R[write to console]: =\n",
            "R[write to console]: =\n",
            "R[write to console]: =\n",
            "R[write to console]: =\n",
            "R[write to console]: =\n",
            "R[write to console]: =\n",
            "R[write to console]: =\n",
            "R[write to console]: =\n",
            "R[write to console]: =\n",
            "R[write to console]: =\n",
            "R[write to console]: =\n",
            "R[write to console]: =\n",
            "R[write to console]: =\n",
            "R[write to console]: =\n",
            "R[write to console]: =\n",
            "R[write to console]: =\n",
            "R[write to console]: =\n",
            "R[write to console]: =\n",
            "R[write to console]: =\n",
            "R[write to console]: =\n",
            "R[write to console]: =\n",
            "R[write to console]: =\n",
            "R[write to console]: =\n",
            "R[write to console]: =\n",
            "R[write to console]: =\n",
            "R[write to console]: =\n",
            "R[write to console]: =\n",
            "R[write to console]: =\n",
            "R[write to console]: =\n",
            "R[write to console]: =\n",
            "R[write to console]: \n",
            "\n",
            "R[write to console]: downloaded 2.2 MB\n",
            "\n",
            "\n",
            "R[write to console]: \n",
            "\n",
            "R[write to console]: \n",
            "R[write to console]: The downloaded source packages are in\n",
            "\t‘/tmp/Rtmpbr5fDm/downloaded_packages’\n",
            "R[write to console]: \n",
            "R[write to console]: \n",
            "\n",
            "R[write to console]: Installing package into ‘/usr/local/lib/R/site-library’\n",
            "(as ‘lib’ is unspecified)\n",
            "\n",
            "R[write to console]: trying URL 'https://cran.rstudio.com/src/contrib/ggplot2_3.3.5.tar.gz'\n",
            "\n",
            "R[write to console]: Content type 'application/x-gzip'\n",
            "R[write to console]:  length 3063309 bytes (2.9 MB)\n",
            "\n",
            "R[write to console]: =\n",
            "R[write to console]: =\n",
            "R[write to console]: =\n",
            "R[write to console]: =\n",
            "R[write to console]: =\n",
            "R[write to console]: =\n",
            "R[write to console]: =\n",
            "R[write to console]: =\n",
            "R[write to console]: =\n",
            "R[write to console]: =\n",
            "R[write to console]: =\n",
            "R[write to console]: =\n",
            "R[write to console]: =\n",
            "R[write to console]: =\n",
            "R[write to console]: =\n",
            "R[write to console]: =\n",
            "R[write to console]: =\n",
            "R[write to console]: =\n",
            "R[write to console]: =\n",
            "R[write to console]: =\n",
            "R[write to console]: =\n",
            "R[write to console]: =\n",
            "R[write to console]: =\n",
            "R[write to console]: =\n",
            "R[write to console]: =\n",
            "R[write to console]: =\n",
            "R[write to console]: =\n",
            "R[write to console]: =\n",
            "R[write to console]: =\n",
            "R[write to console]: =\n",
            "R[write to console]: =\n",
            "R[write to console]: =\n",
            "R[write to console]: =\n",
            "R[write to console]: =\n",
            "R[write to console]: =\n",
            "R[write to console]: =\n",
            "R[write to console]: =\n",
            "R[write to console]: =\n",
            "R[write to console]: =\n",
            "R[write to console]: =\n",
            "R[write to console]: =\n",
            "R[write to console]: =\n",
            "R[write to console]: =\n",
            "R[write to console]: =\n",
            "R[write to console]: =\n",
            "R[write to console]: =\n",
            "R[write to console]: =\n",
            "R[write to console]: =\n",
            "R[write to console]: =\n",
            "R[write to console]: =\n",
            "R[write to console]: \n",
            "\n",
            "R[write to console]: downloaded 2.9 MB\n",
            "\n",
            "\n",
            "R[write to console]: \n",
            "\n",
            "R[write to console]: \n",
            "R[write to console]: The downloaded source packages are in\n",
            "\t‘/tmp/Rtmpbr5fDm/downloaded_packages’\n",
            "R[write to console]: \n",
            "R[write to console]: \n",
            "\n",
            "R[write to console]: Installing package into ‘/usr/local/lib/R/site-library’\n",
            "(as ‘lib’ is unspecified)\n",
            "\n",
            "R[write to console]: trying URL 'https://cran.rstudio.com/src/contrib/dplyr_1.0.8.tar.gz'\n",
            "\n",
            "R[write to console]: Content type 'application/x-gzip'\n",
            "R[write to console]:  length 880713 bytes (860 KB)\n",
            "\n",
            "R[write to console]: =\n",
            "R[write to console]: =\n",
            "R[write to console]: =\n",
            "R[write to console]: =\n",
            "R[write to console]: =\n",
            "R[write to console]: =\n",
            "R[write to console]: =\n",
            "R[write to console]: =\n",
            "R[write to console]: =\n",
            "R[write to console]: =\n",
            "R[write to console]: =\n",
            "R[write to console]: =\n",
            "R[write to console]: =\n",
            "R[write to console]: =\n",
            "R[write to console]: =\n",
            "R[write to console]: =\n",
            "R[write to console]: =\n",
            "R[write to console]: =\n",
            "R[write to console]: =\n",
            "R[write to console]: =\n",
            "R[write to console]: =\n",
            "R[write to console]: =\n",
            "R[write to console]: =\n",
            "R[write to console]: =\n",
            "R[write to console]: =\n",
            "R[write to console]: =\n",
            "R[write to console]: =\n",
            "R[write to console]: =\n",
            "R[write to console]: =\n",
            "R[write to console]: =\n",
            "R[write to console]: =\n",
            "R[write to console]: =\n",
            "R[write to console]: =\n",
            "R[write to console]: =\n",
            "R[write to console]: =\n",
            "R[write to console]: =\n",
            "R[write to console]: =\n",
            "R[write to console]: =\n",
            "R[write to console]: =\n",
            "R[write to console]: =\n",
            "R[write to console]: =\n",
            "R[write to console]: =\n",
            "R[write to console]: =\n",
            "R[write to console]: =\n",
            "R[write to console]: =\n",
            "R[write to console]: =\n",
            "R[write to console]: =\n",
            "R[write to console]: =\n",
            "R[write to console]: =\n",
            "R[write to console]: =\n",
            "R[write to console]: \n",
            "\n",
            "R[write to console]: downloaded 860 KB\n",
            "\n",
            "\n",
            "R[write to console]: \n",
            "\n",
            "R[write to console]: \n",
            "R[write to console]: The downloaded source packages are in\n",
            "\t‘/tmp/Rtmpbr5fDm/downloaded_packages’\n",
            "R[write to console]: \n",
            "R[write to console]: \n",
            "\n",
            "R[write to console]: Installing package into ‘/usr/local/lib/R/site-library’\n",
            "(as ‘lib’ is unspecified)\n",
            "\n",
            "R[write to console]: trying URL 'https://cran.rstudio.com/src/contrib/reshape_0.8.8.tar.gz'\n",
            "\n",
            "R[write to console]: Content type 'application/x-gzip'\n",
            "R[write to console]:  length 42558 bytes (41 KB)\n",
            "\n",
            "R[write to console]: =\n",
            "R[write to console]: =\n",
            "R[write to console]: =\n",
            "R[write to console]: =\n",
            "R[write to console]: =\n",
            "R[write to console]: =\n",
            "R[write to console]: =\n",
            "R[write to console]: =\n",
            "R[write to console]: =\n",
            "R[write to console]: =\n",
            "R[write to console]: =\n",
            "R[write to console]: =\n",
            "R[write to console]: =\n",
            "R[write to console]: =\n",
            "R[write to console]: =\n",
            "R[write to console]: =\n",
            "R[write to console]: =\n",
            "R[write to console]: =\n",
            "R[write to console]: =\n",
            "R[write to console]: =\n",
            "R[write to console]: =\n",
            "R[write to console]: =\n",
            "R[write to console]: =\n",
            "R[write to console]: =\n",
            "R[write to console]: =\n",
            "R[write to console]: =\n",
            "R[write to console]: =\n",
            "R[write to console]: =\n",
            "R[write to console]: =\n",
            "R[write to console]: =\n",
            "R[write to console]: =\n",
            "R[write to console]: =\n",
            "R[write to console]: =\n",
            "R[write to console]: =\n",
            "R[write to console]: =\n",
            "R[write to console]: =\n",
            "R[write to console]: =\n",
            "R[write to console]: =\n",
            "R[write to console]: =\n",
            "R[write to console]: =\n",
            "R[write to console]: =\n",
            "R[write to console]: =\n",
            "R[write to console]: =\n",
            "R[write to console]: =\n",
            "R[write to console]: =\n",
            "R[write to console]: =\n",
            "R[write to console]: =\n",
            "R[write to console]: =\n",
            "R[write to console]: =\n",
            "R[write to console]: =\n",
            "R[write to console]: \n",
            "\n",
            "R[write to console]: downloaded 41 KB\n",
            "\n",
            "\n",
            "R[write to console]: \n",
            "\n",
            "R[write to console]: \n",
            "R[write to console]: The downloaded source packages are in\n",
            "\t‘/tmp/Rtmpbr5fDm/downloaded_packages’\n",
            "R[write to console]: \n",
            "R[write to console]: \n",
            "\n",
            "R[write to console]: Installing package into ‘/usr/local/lib/R/site-library’\n",
            "(as ‘lib’ is unspecified)\n",
            "\n",
            "R[write to console]: trying URL 'https://cran.rstudio.com/src/contrib/randomForest_4.7-1.tar.gz'\n",
            "\n",
            "R[write to console]: Content type 'application/x-gzip'\n",
            "R[write to console]:  length 80852 bytes (78 KB)\n",
            "\n",
            "R[write to console]: =\n",
            "R[write to console]: =\n",
            "R[write to console]: =\n",
            "R[write to console]: =\n",
            "R[write to console]: =\n",
            "R[write to console]: =\n",
            "R[write to console]: =\n",
            "R[write to console]: =\n",
            "R[write to console]: =\n",
            "R[write to console]: =\n",
            "R[write to console]: =\n",
            "R[write to console]: =\n",
            "R[write to console]: =\n",
            "R[write to console]: =\n",
            "R[write to console]: =\n",
            "R[write to console]: =\n",
            "R[write to console]: =\n",
            "R[write to console]: =\n",
            "R[write to console]: =\n",
            "R[write to console]: =\n",
            "R[write to console]: =\n",
            "R[write to console]: =\n",
            "R[write to console]: =\n",
            "R[write to console]: =\n",
            "R[write to console]: =\n",
            "R[write to console]: =\n",
            "R[write to console]: =\n",
            "R[write to console]: =\n",
            "R[write to console]: =\n",
            "R[write to console]: =\n",
            "R[write to console]: =\n",
            "R[write to console]: =\n",
            "R[write to console]: =\n",
            "R[write to console]: =\n",
            "R[write to console]: =\n",
            "R[write to console]: =\n",
            "R[write to console]: =\n",
            "R[write to console]: =\n",
            "R[write to console]: =\n",
            "R[write to console]: =\n",
            "R[write to console]: =\n",
            "R[write to console]: =\n",
            "R[write to console]: =\n",
            "R[write to console]: =\n",
            "R[write to console]: =\n",
            "R[write to console]: =\n",
            "R[write to console]: =\n",
            "R[write to console]: =\n",
            "R[write to console]: =\n",
            "R[write to console]: =\n",
            "R[write to console]: \n",
            "\n",
            "R[write to console]: downloaded 78 KB\n",
            "\n",
            "\n",
            "R[write to console]: \n",
            "\n",
            "R[write to console]: \n",
            "R[write to console]: The downloaded source packages are in\n",
            "\t‘/tmp/Rtmpbr5fDm/downloaded_packages’\n",
            "R[write to console]: \n",
            "R[write to console]: \n",
            "\n",
            "R[write to console]: Installing package into ‘/usr/local/lib/R/site-library’\n",
            "(as ‘lib’ is unspecified)\n",
            "\n",
            "R[write to console]: trying URL 'https://cran.rstudio.com/src/contrib/e1071_1.7-9.tar.gz'\n",
            "\n",
            "R[write to console]: Content type 'application/x-gzip'\n",
            "R[write to console]:  length 566723 bytes (553 KB)\n",
            "\n",
            "R[write to console]: =\n",
            "R[write to console]: =\n",
            "R[write to console]: =\n",
            "R[write to console]: =\n",
            "R[write to console]: =\n",
            "R[write to console]: =\n",
            "R[write to console]: =\n",
            "R[write to console]: =\n",
            "R[write to console]: =\n",
            "R[write to console]: =\n",
            "R[write to console]: =\n",
            "R[write to console]: =\n",
            "R[write to console]: =\n",
            "R[write to console]: =\n",
            "R[write to console]: =\n",
            "R[write to console]: =\n",
            "R[write to console]: =\n",
            "R[write to console]: =\n",
            "R[write to console]: =\n",
            "R[write to console]: =\n",
            "R[write to console]: =\n",
            "R[write to console]: =\n",
            "R[write to console]: =\n",
            "R[write to console]: =\n",
            "R[write to console]: =\n",
            "R[write to console]: =\n",
            "R[write to console]: =\n",
            "R[write to console]: =\n",
            "R[write to console]: =\n",
            "R[write to console]: =\n",
            "R[write to console]: =\n",
            "R[write to console]: =\n",
            "R[write to console]: =\n",
            "R[write to console]: =\n",
            "R[write to console]: =\n",
            "R[write to console]: =\n",
            "R[write to console]: =\n",
            "R[write to console]: =\n",
            "R[write to console]: =\n",
            "R[write to console]: =\n",
            "R[write to console]: =\n",
            "R[write to console]: =\n",
            "R[write to console]: =\n",
            "R[write to console]: =\n",
            "R[write to console]: =\n",
            "R[write to console]: =\n",
            "R[write to console]: =\n",
            "R[write to console]: =\n",
            "R[write to console]: =\n",
            "R[write to console]: =\n",
            "R[write to console]: \n",
            "\n",
            "R[write to console]: downloaded 553 KB\n",
            "\n",
            "\n",
            "R[write to console]: \n",
            "\n",
            "R[write to console]: \n",
            "R[write to console]: The downloaded source packages are in\n",
            "\t‘/tmp/Rtmpbr5fDm/downloaded_packages’\n",
            "R[write to console]: \n",
            "R[write to console]: \n",
            "\n"
          ]
        }
      ]
    },
    {
      "cell_type": "code",
      "source": [
        "# Carregando os pacotes \n",
        "%%R\n",
        "library(Amelia)\n",
        "library(ggplot2)\n",
        "library(caret)\n",
        "library(reshape)\n",
        "library(randomForest)\n",
        "library(dplyr)\n",
        "library(e1071)"
      ],
      "metadata": {
        "colab": {
          "base_uri": "https://localhost:8080/"
        },
        "id": "DhK2PAO40tvr",
        "outputId": "dddb46a0-eafa-4158-d202-70b4d0441388"
      },
      "execution_count": null,
      "outputs": [
        {
          "output_type": "stream",
          "name": "stderr",
          "text": [
            "R[write to console]: Loading required package: Rcpp\n",
            "\n",
            "R[write to console]: ## \n",
            "## Amelia II: Multiple Imputation\n",
            "## (Version 1.8.0, built: 2021-05-26)\n",
            "## Copyright (C) 2005-2022 James Honaker, Gary King and Matthew Blackwell\n",
            "## Refer to http://gking.harvard.edu/amelia/ for more information\n",
            "## \n",
            "\n",
            "R[write to console]: Loading required package: lattice\n",
            "\n",
            "R[write to console]: randomForest 4.7-1\n",
            "\n",
            "R[write to console]: Type rfNews() to see new features/changes/bug fixes.\n",
            "\n",
            "R[write to console]: \n",
            "Attaching package: ‘randomForest’\n",
            "\n",
            "\n",
            "R[write to console]: The following object is masked from ‘package:ggplot2’:\n",
            "\n",
            "    margin\n",
            "\n",
            "\n",
            "R[write to console]: \n",
            "Attaching package: ‘dplyr’\n",
            "\n",
            "\n",
            "R[write to console]: The following object is masked from ‘package:randomForest’:\n",
            "\n",
            "    combine\n",
            "\n",
            "\n",
            "R[write to console]: The following object is masked from ‘package:reshape’:\n",
            "\n",
            "    rename\n",
            "\n",
            "\n",
            "R[write to console]: The following objects are masked from ‘package:stats’:\n",
            "\n",
            "    filter, lag\n",
            "\n",
            "\n",
            "R[write to console]: The following objects are masked from ‘package:base’:\n",
            "\n",
            "    intersect, setdiff, setequal, union\n",
            "\n",
            "\n"
          ]
        }
      ]
    },
    {
      "cell_type": "code",
      "source": [
        "# Visualizando os dados e sua estrutura\n",
        "%%R\n",
        "dim(dados_clientes)"
      ],
      "metadata": {
        "colab": {
          "base_uri": "https://localhost:8080/"
        },
        "id": "hzANVGPU2SOA",
        "outputId": "f8b6edfd-b301-467d-e96b-af04e9f4917c"
      },
      "execution_count": null,
      "outputs": [
        {
          "output_type": "stream",
          "name": "stdout",
          "text": [
            "[1] 30000    25\n"
          ]
        }
      ]
    },
    {
      "cell_type": "markdown",
      "source": [
        "Nesse dataset temos 30000 linhas e 25 colunas."
      ],
      "metadata": {
        "id": "6nXVYaw17f_v"
      }
    },
    {
      "cell_type": "code",
      "source": [
        "%%R\n",
        "head(dados_clientes)"
      ],
      "metadata": {
        "colab": {
          "base_uri": "https://localhost:8080/"
        },
        "id": "2HNsoCI81AOP",
        "outputId": "0d622b6d-0eb8-47f0-ba31-3a8ff203cd95"
      },
      "execution_count": null,
      "outputs": [
        {
          "output_type": "stream",
          "name": "stdout",
          "text": [
            "  ID LIMIT_BAL SEX EDUCATION MARRIAGE AGE PAY_0 PAY_2 PAY_3 PAY_4 PAY_5 PAY_6\n",
            "1  1     20000   2         2        1  24     2     2    -1    -1    -2    -2\n",
            "2  2    120000   2         2        2  26    -1     2     0     0     0     2\n",
            "3  3     90000   2         2        2  34     0     0     0     0     0     0\n",
            "4  4     50000   2         2        1  37     0     0     0     0     0     0\n",
            "5  5     50000   1         2        1  57    -1     0    -1     0     0     0\n",
            "6  6     50000   1         1        2  37     0     0     0     0     0     0\n",
            "  BILL_AMT1 BILL_AMT2 BILL_AMT3 BILL_AMT4 BILL_AMT5 BILL_AMT6 PAY_AMT1 PAY_AMT2\n",
            "1      3913      3102       689         0         0         0        0      689\n",
            "2      2682      1725      2682      3272      3455      3261        0     1000\n",
            "3     29239     14027     13559     14331     14948     15549     1518     1500\n",
            "4     46990     48233     49291     28314     28959     29547     2000     2019\n",
            "5      8617      5670     35835     20940     19146     19131     2000    36681\n",
            "6     64400     57069     57608     19394     19619     20024     2500     1815\n",
            "  PAY_AMT3 PAY_AMT4 PAY_AMT5 PAY_AMT6 default.payment.next.month\n",
            "1        0        0        0        0                          1\n",
            "2     1000     1000        0     2000                          1\n",
            "3     1000     1000     1000     5000                          0\n",
            "4     1200     1100     1069     1000                          0\n",
            "5    10000     9000      689      679                          0\n",
            "6      657     1000     1000      800                          0\n"
          ]
        }
      ]
    },
    {
      "cell_type": "code",
      "source": [
        "%%R\n",
        "str(dados_clientes) "
      ],
      "metadata": {
        "colab": {
          "base_uri": "https://localhost:8080/"
        },
        "id": "BgNGo-7T3CWs",
        "outputId": "0fbb356e-3c7d-4c4a-8973-9ec126b85ecd"
      },
      "execution_count": null,
      "outputs": [
        {
          "output_type": "stream",
          "name": "stdout",
          "text": [
            "'data.frame':\t30000 obs. of  25 variables:\n",
            " $ ID                        : int  1 2 3 4 5 6 7 8 9 10 ...\n",
            " $ LIMIT_BAL                 : int  20000 120000 90000 50000 50000 50000 500000 100000 140000 20000 ...\n",
            " $ SEX                       : int  2 2 2 2 1 1 1 2 2 1 ...\n",
            " $ EDUCATION                 : int  2 2 2 2 2 1 1 2 3 3 ...\n",
            " $ MARRIAGE                  : int  1 2 2 1 1 2 2 2 1 2 ...\n",
            " $ AGE                       : int  24 26 34 37 57 37 29 23 28 35 ...\n",
            " $ PAY_0                     : int  2 -1 0 0 -1 0 0 0 0 -2 ...\n",
            " $ PAY_2                     : int  2 2 0 0 0 0 0 -1 0 -2 ...\n",
            " $ PAY_3                     : int  -1 0 0 0 -1 0 0 -1 2 -2 ...\n",
            " $ PAY_4                     : int  -1 0 0 0 0 0 0 0 0 -2 ...\n",
            " $ PAY_5                     : int  -2 0 0 0 0 0 0 0 0 -1 ...\n",
            " $ PAY_6                     : int  -2 2 0 0 0 0 0 -1 0 -1 ...\n",
            " $ BILL_AMT1                 : int  3913 2682 29239 46990 8617 64400 367965 11876 11285 0 ...\n",
            " $ BILL_AMT2                 : int  3102 1725 14027 48233 5670 57069 412023 380 14096 0 ...\n",
            " $ BILL_AMT3                 : int  689 2682 13559 49291 35835 57608 445007 601 12108 0 ...\n",
            " $ BILL_AMT4                 : int  0 3272 14331 28314 20940 19394 542653 221 12211 0 ...\n",
            " $ BILL_AMT5                 : int  0 3455 14948 28959 19146 19619 483003 -159 11793 13007 ...\n",
            " $ BILL_AMT6                 : int  0 3261 15549 29547 19131 20024 473944 567 3719 13912 ...\n",
            " $ PAY_AMT1                  : int  0 0 1518 2000 2000 2500 55000 380 3329 0 ...\n",
            " $ PAY_AMT2                  : int  689 1000 1500 2019 36681 1815 40000 601 0 0 ...\n",
            " $ PAY_AMT3                  : int  0 1000 1000 1200 10000 657 38000 0 432 0 ...\n",
            " $ PAY_AMT4                  : int  0 1000 1000 1100 9000 1000 20239 581 1000 13007 ...\n",
            " $ PAY_AMT5                  : int  0 0 1000 1069 689 1000 13750 1687 1000 1122 ...\n",
            " $ PAY_AMT6                  : int  0 2000 5000 1000 679 800 13770 1542 1000 0 ...\n",
            " $ default.payment.next.month: int  1 1 0 0 0 0 0 0 0 0 ...\n"
          ]
        }
      ]
    },
    {
      "cell_type": "markdown",
      "source": [
        "Todas as variáveis foram identificadas como inteiras."
      ],
      "metadata": {
        "id": "82AFCdS_Bqgx"
      }
    },
    {
      "cell_type": "markdown",
      "source": [
        "Verificamos os nomes das colunas acima. As descrições são as seguintes:\n",
        "\n",
        "ID: Id do cliente.\n",
        "\n",
        "LIMIT_BAL: Limite de credito disponível pra o cliente.\n",
        "\n",
        "SEX: Gênero, onde 1 e masculino e 2 e feminino.\n",
        "\n",
        "EDUCATION: Graduação do cliente(1-pos-graduado, 2-universitário, 3-ensino médio, 4-outros.\n",
        "\n",
        "MARRIAGE: estado civil(1-casado, 2-solteiro, 3-outros).\n",
        "\n",
        "AGE: Idade.\n",
        "\n",
        "PAY_0 ate PAY_6: Histórico de pagamentos anteriores(-1-Fez o pagamento, 1-Fez  pagamento com 1 mês de atraso, 2-Fez o pagamento com 2 meses de atraso, 9-Fez o pagamento com  meses de atraso).\n",
        "\n",
        "BILL_AMT1 ate BILL_AMT6: Valores a serem pagos das faturas.\n",
        "\n",
        "PAY_AMT1 ate PAY_AMT6: Valores pagos das faturas.\n",
        "\n",
        "default.payment.nex.month: Indica se a pessoa pagou a fatura(0-não pagou, 1-pagou).\n"
      ],
      "metadata": {
        "id": "RWTOhiqu8I_j"
      }
    },
    {
      "cell_type": "code",
      "source": [
        "%%R\n",
        "summary(dados_clientes)"
      ],
      "metadata": {
        "colab": {
          "base_uri": "https://localhost:8080/"
        },
        "id": "eF3I059B3Mo5",
        "outputId": "7ca074c6-ba22-4c85-f146-0a0a13a4a267"
      },
      "execution_count": null,
      "outputs": [
        {
          "output_type": "stream",
          "name": "stdout",
          "text": [
            "       ID          LIMIT_BAL            SEX          EDUCATION    \n",
            " Min.   :    1   Min.   :  10000   Min.   :1.000   Min.   :0.000  \n",
            " 1st Qu.: 7501   1st Qu.:  50000   1st Qu.:1.000   1st Qu.:1.000  \n",
            " Median :15000   Median : 140000   Median :2.000   Median :2.000  \n",
            " Mean   :15000   Mean   : 167484   Mean   :1.604   Mean   :1.853  \n",
            " 3rd Qu.:22500   3rd Qu.: 240000   3rd Qu.:2.000   3rd Qu.:2.000  \n",
            " Max.   :30000   Max.   :1000000   Max.   :2.000   Max.   :6.000  \n",
            "    MARRIAGE          AGE            PAY_0             PAY_2        \n",
            " Min.   :0.000   Min.   :21.00   Min.   :-2.0000   Min.   :-2.0000  \n",
            " 1st Qu.:1.000   1st Qu.:28.00   1st Qu.:-1.0000   1st Qu.:-1.0000  \n",
            " Median :2.000   Median :34.00   Median : 0.0000   Median : 0.0000  \n",
            " Mean   :1.552   Mean   :35.49   Mean   :-0.0167   Mean   :-0.1338  \n",
            " 3rd Qu.:2.000   3rd Qu.:41.00   3rd Qu.: 0.0000   3rd Qu.: 0.0000  \n",
            " Max.   :3.000   Max.   :79.00   Max.   : 8.0000   Max.   : 8.0000  \n",
            "     PAY_3             PAY_4             PAY_5             PAY_6        \n",
            " Min.   :-2.0000   Min.   :-2.0000   Min.   :-2.0000   Min.   :-2.0000  \n",
            " 1st Qu.:-1.0000   1st Qu.:-1.0000   1st Qu.:-1.0000   1st Qu.:-1.0000  \n",
            " Median : 0.0000   Median : 0.0000   Median : 0.0000   Median : 0.0000  \n",
            " Mean   :-0.1662   Mean   :-0.2207   Mean   :-0.2662   Mean   :-0.2911  \n",
            " 3rd Qu.: 0.0000   3rd Qu.: 0.0000   3rd Qu.: 0.0000   3rd Qu.: 0.0000  \n",
            " Max.   : 8.0000   Max.   : 8.0000   Max.   : 8.0000   Max.   : 8.0000  \n",
            "   BILL_AMT1         BILL_AMT2        BILL_AMT3         BILL_AMT4      \n",
            " Min.   :-165580   Min.   :-69777   Min.   :-157264   Min.   :-170000  \n",
            " 1st Qu.:   3559   1st Qu.:  2985   1st Qu.:   2666   1st Qu.:   2327  \n",
            " Median :  22382   Median : 21200   Median :  20088   Median :  19052  \n",
            " Mean   :  51223   Mean   : 49179   Mean   :  47013   Mean   :  43263  \n",
            " 3rd Qu.:  67091   3rd Qu.: 64006   3rd Qu.:  60165   3rd Qu.:  54506  \n",
            " Max.   : 964511   Max.   :983931   Max.   :1664089   Max.   : 891586  \n",
            "   BILL_AMT5        BILL_AMT6          PAY_AMT1         PAY_AMT2      \n",
            " Min.   :-81334   Min.   :-339603   Min.   :     0   Min.   :      0  \n",
            " 1st Qu.:  1763   1st Qu.:   1256   1st Qu.:  1000   1st Qu.:    833  \n",
            " Median : 18104   Median :  17071   Median :  2100   Median :   2009  \n",
            " Mean   : 40311   Mean   :  38872   Mean   :  5664   Mean   :   5921  \n",
            " 3rd Qu.: 50190   3rd Qu.:  49198   3rd Qu.:  5006   3rd Qu.:   5000  \n",
            " Max.   :927171   Max.   : 961664   Max.   :873552   Max.   :1684259  \n",
            "    PAY_AMT3         PAY_AMT4         PAY_AMT5           PAY_AMT6       \n",
            " Min.   :     0   Min.   :     0   Min.   :     0.0   Min.   :     0.0  \n",
            " 1st Qu.:   390   1st Qu.:   296   1st Qu.:   252.5   1st Qu.:   117.8  \n",
            " Median :  1800   Median :  1500   Median :  1500.0   Median :  1500.0  \n",
            " Mean   :  5226   Mean   :  4826   Mean   :  4799.4   Mean   :  5215.5  \n",
            " 3rd Qu.:  4505   3rd Qu.:  4013   3rd Qu.:  4031.5   3rd Qu.:  4000.0  \n",
            " Max.   :896040   Max.   :621000   Max.   :426529.0   Max.   :528666.0  \n",
            " default.payment.next.month\n",
            " Min.   :0.0000            \n",
            " 1st Qu.:0.0000            \n",
            " Median :0.0000            \n",
            " Mean   :0.2212            \n",
            " 3rd Qu.:0.0000            \n",
            " Max.   :1.0000            \n"
          ]
        }
      ]
    },
    {
      "cell_type": "code",
      "source": [
        "#################### Análise Exploratória, Limpeza e Transformação ####################"
      ],
      "metadata": {
        "id": "rXA1wIxv3jrS"
      },
      "execution_count": null,
      "outputs": []
    },
    {
      "cell_type": "code",
      "source": [
        "# Removendo a primeira coluna ID\n",
        "%%R\n",
        "dados_clientes$ID <- NULL"
      ],
      "metadata": {
        "id": "7yna9Kqy3oBB"
      },
      "execution_count": null,
      "outputs": []
    },
    {
      "cell_type": "code",
      "source": [
        "%%R\n",
        "dim(dados_clientes)"
      ],
      "metadata": {
        "colab": {
          "base_uri": "https://localhost:8080/"
        },
        "id": "kABaq4H-3uAU",
        "outputId": "18891301-5c9e-46f6-8d48-08fa52b616c7"
      },
      "execution_count": null,
      "outputs": [
        {
          "output_type": "stream",
          "name": "stdout",
          "text": [
            "[1] 30000    24\n"
          ]
        }
      ]
    },
    {
      "cell_type": "code",
      "source": [
        "%%R\n",
        "head(dados_clientes)"
      ],
      "metadata": {
        "colab": {
          "base_uri": "https://localhost:8080/"
        },
        "id": "ch1eSq1s3zSS",
        "outputId": "6ee6e14d-8be6-4ab6-dead-753574601b88"
      },
      "execution_count": null,
      "outputs": [
        {
          "output_type": "stream",
          "name": "stdout",
          "text": [
            "  LIMIT_BAL SEX EDUCATION MARRIAGE AGE PAY_0 PAY_2 PAY_3 PAY_4 PAY_5 PAY_6\n",
            "1     20000   2         2        1  24     2     2    -1    -1    -2    -2\n",
            "2    120000   2         2        2  26    -1     2     0     0     0     2\n",
            "3     90000   2         2        2  34     0     0     0     0     0     0\n",
            "4     50000   2         2        1  37     0     0     0     0     0     0\n",
            "5     50000   1         2        1  57    -1     0    -1     0     0     0\n",
            "6     50000   1         1        2  37     0     0     0     0     0     0\n",
            "  BILL_AMT1 BILL_AMT2 BILL_AMT3 BILL_AMT4 BILL_AMT5 BILL_AMT6 PAY_AMT1 PAY_AMT2\n",
            "1      3913      3102       689         0         0         0        0      689\n",
            "2      2682      1725      2682      3272      3455      3261        0     1000\n",
            "3     29239     14027     13559     14331     14948     15549     1518     1500\n",
            "4     46990     48233     49291     28314     28959     29547     2000     2019\n",
            "5      8617      5670     35835     20940     19146     19131     2000    36681\n",
            "6     64400     57069     57608     19394     19619     20024     2500     1815\n",
            "  PAY_AMT3 PAY_AMT4 PAY_AMT5 PAY_AMT6 default.payment.next.month\n",
            "1        0        0        0        0                          1\n",
            "2     1000     1000        0     2000                          1\n",
            "3     1000     1000     1000     5000                          0\n",
            "4     1200     1100     1069     1000                          0\n",
            "5    10000     9000      689      679                          0\n",
            "6      657     1000     1000      800                          0\n"
          ]
        }
      ]
    },
    {
      "cell_type": "code",
      "source": [
        "# Renomeando a coluna de classe\n",
        "%%R\n",
        "colnames(dados_clientes)"
      ],
      "metadata": {
        "colab": {
          "base_uri": "https://localhost:8080/"
        },
        "id": "tZwxoO_l33qn",
        "outputId": "27df027f-52c1-42f4-9bab-07cb3ac1366c"
      },
      "execution_count": null,
      "outputs": [
        {
          "output_type": "stream",
          "name": "stdout",
          "text": [
            " [1] \"LIMIT_BAL\"                  \"SEX\"                       \n",
            " [3] \"EDUCATION\"                  \"MARRIAGE\"                  \n",
            " [5] \"AGE\"                        \"PAY_0\"                     \n",
            " [7] \"PAY_2\"                      \"PAY_3\"                     \n",
            " [9] \"PAY_4\"                      \"PAY_5\"                     \n",
            "[11] \"PAY_6\"                      \"BILL_AMT1\"                 \n",
            "[13] \"BILL_AMT2\"                  \"BILL_AMT3\"                 \n",
            "[15] \"BILL_AMT4\"                  \"BILL_AMT5\"                 \n",
            "[17] \"BILL_AMT6\"                  \"PAY_AMT1\"                  \n",
            "[19] \"PAY_AMT2\"                   \"PAY_AMT3\"                  \n",
            "[21] \"PAY_AMT4\"                   \"PAY_AMT5\"                  \n",
            "[23] \"PAY_AMT6\"                   \"default.payment.next.month\"\n"
          ]
        }
      ]
    },
    {
      "cell_type": "code",
      "source": [
        "%%R\n",
        "colnames(dados_clientes)[24] <- \"inadimplente\""
      ],
      "metadata": {
        "id": "IJObohDr4E8e"
      },
      "execution_count": null,
      "outputs": []
    },
    {
      "cell_type": "code",
      "source": [
        "%%R\n",
        "colnames(dados_clientes)"
      ],
      "metadata": {
        "colab": {
          "base_uri": "https://localhost:8080/"
        },
        "id": "Ik1weRwf4KuA",
        "outputId": "c313cd1e-fd8d-4a4c-c22f-81d55603c79a"
      },
      "execution_count": null,
      "outputs": [
        {
          "output_type": "stream",
          "name": "stdout",
          "text": [
            " [1] \"LIMIT_BAL\"    \"SEX\"          \"EDUCATION\"    \"MARRIAGE\"     \"AGE\"         \n",
            " [6] \"PAY_0\"        \"PAY_2\"        \"PAY_3\"        \"PAY_4\"        \"PAY_5\"       \n",
            "[11] \"PAY_6\"        \"BILL_AMT1\"    \"BILL_AMT2\"    \"BILL_AMT3\"    \"BILL_AMT4\"   \n",
            "[16] \"BILL_AMT5\"    \"BILL_AMT6\"    \"PAY_AMT1\"     \"PAY_AMT2\"     \"PAY_AMT3\"    \n",
            "[21] \"PAY_AMT4\"     \"PAY_AMT5\"     \"PAY_AMT6\"     \"inadimplente\"\n"
          ]
        }
      ]
    },
    {
      "cell_type": "code",
      "source": [
        "%%R\n",
        "head(dados_clientes)"
      ],
      "metadata": {
        "colab": {
          "base_uri": "https://localhost:8080/"
        },
        "id": "VYnz1aki4N4-",
        "outputId": "02758e5b-d8f4-4222-e3bf-36a34a1b2a78"
      },
      "execution_count": null,
      "outputs": [
        {
          "output_type": "stream",
          "name": "stdout",
          "text": [
            "  LIMIT_BAL SEX EDUCATION MARRIAGE AGE PAY_0 PAY_2 PAY_3 PAY_4 PAY_5 PAY_6\n",
            "1     20000   2         2        1  24     2     2    -1    -1    -2    -2\n",
            "2    120000   2         2        2  26    -1     2     0     0     0     2\n",
            "3     90000   2         2        2  34     0     0     0     0     0     0\n",
            "4     50000   2         2        1  37     0     0     0     0     0     0\n",
            "5     50000   1         2        1  57    -1     0    -1     0     0     0\n",
            "6     50000   1         1        2  37     0     0     0     0     0     0\n",
            "  BILL_AMT1 BILL_AMT2 BILL_AMT3 BILL_AMT4 BILL_AMT5 BILL_AMT6 PAY_AMT1 PAY_AMT2\n",
            "1      3913      3102       689         0         0         0        0      689\n",
            "2      2682      1725      2682      3272      3455      3261        0     1000\n",
            "3     29239     14027     13559     14331     14948     15549     1518     1500\n",
            "4     46990     48233     49291     28314     28959     29547     2000     2019\n",
            "5      8617      5670     35835     20940     19146     19131     2000    36681\n",
            "6     64400     57069     57608     19394     19619     20024     2500     1815\n",
            "  PAY_AMT3 PAY_AMT4 PAY_AMT5 PAY_AMT6 inadimplente\n",
            "1        0        0        0        0            1\n",
            "2     1000     1000        0     2000            1\n",
            "3     1000     1000     1000     5000            0\n",
            "4     1200     1100     1069     1000            0\n",
            "5    10000     9000      689      679            0\n",
            "6      657     1000     1000      800            0\n"
          ]
        }
      ]
    },
    {
      "cell_type": "code",
      "source": [
        "# Verificando valores ausentes e removendo do dataset\n",
        "%%R\n",
        "sapply(dados_clientes, function(x) sum(is.na(x)))"
      ],
      "metadata": {
        "colab": {
          "base_uri": "https://localhost:8080/"
        },
        "id": "NpxxcERF4UKu",
        "outputId": "8fb23697-ad0d-4d18-be7b-4a90dd1da582"
      },
      "execution_count": null,
      "outputs": [
        {
          "output_type": "stream",
          "name": "stdout",
          "text": [
            "   LIMIT_BAL          SEX    EDUCATION     MARRIAGE          AGE        PAY_0 \n",
            "           0            0            0            0            0            0 \n",
            "       PAY_2        PAY_3        PAY_4        PAY_5        PAY_6    BILL_AMT1 \n",
            "           0            0            0            0            0            0 \n",
            "   BILL_AMT2    BILL_AMT3    BILL_AMT4    BILL_AMT5    BILL_AMT6     PAY_AMT1 \n",
            "           0            0            0            0            0            0 \n",
            "    PAY_AMT2     PAY_AMT3     PAY_AMT4     PAY_AMT5     PAY_AMT6 inadimplente \n",
            "           0            0            0            0            0            0 \n"
          ]
        }
      ]
    },
    {
      "cell_type": "code",
      "source": [
        "%%R\n",
        "missmap(dados_clientes, main = \"Valores Missing Observados\")"
      ],
      "metadata": {
        "colab": {
          "base_uri": "https://localhost:8080/",
          "height": 496
        },
        "id": "0Ep90SZ64lWd",
        "outputId": "94cff980-bfc8-4e55-8d23-a42dfbe8df5d"
      },
      "execution_count": null,
      "outputs": [
        {
          "output_type": "display_data",
          "data": {
            "image/png": "[encoded data removed]"
          },
          "metadata": {}
        }
      ]
    },
    {
      "cell_type": "markdown",
      "source": [
        "Não foram encontrados valores ausentes."
      ],
      "metadata": {
        "id": "1cW49PU0DoFf"
      }
    },
    {
      "cell_type": "code",
      "source": [
        "# Convertendo os atributos genero, escolaridade, estado civil e idade \n",
        "# para fatores (categorias)\n",
        "%%R\n",
        "str(dados_clientes) "
      ],
      "metadata": {
        "colab": {
          "base_uri": "https://localhost:8080/"
        },
        "id": "CeXinhUp4xsf",
        "outputId": "75764f79-8420-4e9c-a5db-46105a59cd65"
      },
      "execution_count": null,
      "outputs": [
        {
          "output_type": "stream",
          "name": "stdout",
          "text": [
            "'data.frame':\t30000 obs. of  24 variables:\n",
            " $ LIMIT_BAL   : int  20000 120000 90000 50000 50000 50000 500000 100000 140000 20000 ...\n",
            " $ SEX         : int  2 2 2 2 1 1 1 2 2 1 ...\n",
            " $ EDUCATION   : int  2 2 2 2 2 1 1 2 3 3 ...\n",
            " $ MARRIAGE    : int  1 2 2 1 1 2 2 2 1 2 ...\n",
            " $ AGE         : int  24 26 34 37 57 37 29 23 28 35 ...\n",
            " $ PAY_0       : int  2 -1 0 0 -1 0 0 0 0 -2 ...\n",
            " $ PAY_2       : int  2 2 0 0 0 0 0 -1 0 -2 ...\n",
            " $ PAY_3       : int  -1 0 0 0 -1 0 0 -1 2 -2 ...\n",
            " $ PAY_4       : int  -1 0 0 0 0 0 0 0 0 -2 ...\n",
            " $ PAY_5       : int  -2 0 0 0 0 0 0 0 0 -1 ...\n",
            " $ PAY_6       : int  -2 2 0 0 0 0 0 -1 0 -1 ...\n",
            " $ BILL_AMT1   : int  3913 2682 29239 46990 8617 64400 367965 11876 11285 0 ...\n",
            " $ BILL_AMT2   : int  3102 1725 14027 48233 5670 57069 412023 380 14096 0 ...\n",
            " $ BILL_AMT3   : int  689 2682 13559 49291 35835 57608 445007 601 12108 0 ...\n",
            " $ BILL_AMT4   : int  0 3272 14331 28314 20940 19394 542653 221 12211 0 ...\n",
            " $ BILL_AMT5   : int  0 3455 14948 28959 19146 19619 483003 -159 11793 13007 ...\n",
            " $ BILL_AMT6   : int  0 3261 15549 29547 19131 20024 473944 567 3719 13912 ...\n",
            " $ PAY_AMT1    : int  0 0 1518 2000 2000 2500 55000 380 3329 0 ...\n",
            " $ PAY_AMT2    : int  689 1000 1500 2019 36681 1815 40000 601 0 0 ...\n",
            " $ PAY_AMT3    : int  0 1000 1000 1200 10000 657 38000 0 432 0 ...\n",
            " $ PAY_AMT4    : int  0 1000 1000 1100 9000 1000 20239 581 1000 13007 ...\n",
            " $ PAY_AMT5    : int  0 0 1000 1069 689 1000 13750 1687 1000 1122 ...\n",
            " $ PAY_AMT6    : int  0 2000 5000 1000 679 800 13770 1542 1000 0 ...\n",
            " $ inadimplente: int  1 1 0 0 0 0 0 0 0 0 ...\n"
          ]
        }
      ]
    },
    {
      "cell_type": "code",
      "source": [
        "# Renomeando colunas categóricas\n",
        "%%R\n",
        "colnames(dados_clientes)"
      ],
      "metadata": {
        "colab": {
          "base_uri": "https://localhost:8080/"
        },
        "id": "dFOkh_8044Zq",
        "outputId": "15c56a42-14b5-4176-8cad-1fb20d4eee24"
      },
      "execution_count": null,
      "outputs": [
        {
          "output_type": "stream",
          "name": "stdout",
          "text": [
            " [1] \"LIMIT_BAL\"    \"SEX\"          \"EDUCATION\"    \"MARRIAGE\"     \"AGE\"         \n",
            " [6] \"PAY_0\"        \"PAY_2\"        \"PAY_3\"        \"PAY_4\"        \"PAY_5\"       \n",
            "[11] \"PAY_6\"        \"BILL_AMT1\"    \"BILL_AMT2\"    \"BILL_AMT3\"    \"BILL_AMT4\"   \n",
            "[16] \"BILL_AMT5\"    \"BILL_AMT6\"    \"PAY_AMT1\"     \"PAY_AMT2\"     \"PAY_AMT3\"    \n",
            "[21] \"PAY_AMT4\"     \"PAY_AMT5\"     \"PAY_AMT6\"     \"inadimplente\"\n"
          ]
        }
      ]
    },
    {
      "cell_type": "code",
      "source": [
        "%%R\n",
        "colnames(dados_clientes)[2] <- \"Genero\"\n",
        "colnames(dados_clientes)[3] <- \"Escolaridade\"\n",
        "colnames(dados_clientes)[4] <- \"Estado_Civil\"\n",
        "colnames(dados_clientes)[5] <- \"Idade\""
      ],
      "metadata": {
        "id": "QSGL15a_4-f0"
      },
      "execution_count": null,
      "outputs": []
    },
    {
      "cell_type": "code",
      "source": [
        "%%R\n",
        "colnames(dados_clientes)"
      ],
      "metadata": {
        "colab": {
          "base_uri": "https://localhost:8080/"
        },
        "id": "m-mvqlbQ5ElE",
        "outputId": "c606b65a-dca5-4f13-dc3e-68c774f8a3a5"
      },
      "execution_count": null,
      "outputs": [
        {
          "output_type": "stream",
          "name": "stdout",
          "text": [
            " [1] \"LIMIT_BAL\"    \"Genero\"       \"Escolaridade\" \"Estado_Civil\" \"Idade\"       \n",
            " [6] \"PAY_0\"        \"PAY_2\"        \"PAY_3\"        \"PAY_4\"        \"PAY_5\"       \n",
            "[11] \"PAY_6\"        \"BILL_AMT1\"    \"BILL_AMT2\"    \"BILL_AMT3\"    \"BILL_AMT4\"   \n",
            "[16] \"BILL_AMT5\"    \"BILL_AMT6\"    \"PAY_AMT1\"     \"PAY_AMT2\"     \"PAY_AMT3\"    \n",
            "[21] \"PAY_AMT4\"     \"PAY_AMT5\"     \"PAY_AMT6\"     \"inadimplente\"\n"
          ]
        }
      ]
    },
    {
      "cell_type": "code",
      "source": [
        "%%R\n",
        "head(dados_clientes)"
      ],
      "metadata": {
        "colab": {
          "base_uri": "https://localhost:8080/"
        },
        "id": "oHx6lWTG5Hzv",
        "outputId": "128dff27-d9e1-4338-addd-19c1999a0b76"
      },
      "execution_count": null,
      "outputs": [
        {
          "output_type": "stream",
          "name": "stdout",
          "text": [
            "  LIMIT_BAL Genero Escolaridade Estado_Civil Idade PAY_0 PAY_2 PAY_3 PAY_4\n",
            "1     20000      2            2            1    24     2     2    -1    -1\n",
            "2    120000      2            2            2    26    -1     2     0     0\n",
            "3     90000      2            2            2    34     0     0     0     0\n",
            "4     50000      2            2            1    37     0     0     0     0\n",
            "5     50000      1            2            1    57    -1     0    -1     0\n",
            "6     50000      1            1            2    37     0     0     0     0\n",
            "  PAY_5 PAY_6 BILL_AMT1 BILL_AMT2 BILL_AMT3 BILL_AMT4 BILL_AMT5 BILL_AMT6\n",
            "1    -2    -2      3913      3102       689         0         0         0\n",
            "2     0     2      2682      1725      2682      3272      3455      3261\n",
            "3     0     0     29239     14027     13559     14331     14948     15549\n",
            "4     0     0     46990     48233     49291     28314     28959     29547\n",
            "5     0     0      8617      5670     35835     20940     19146     19131\n",
            "6     0     0     64400     57069     57608     19394     19619     20024\n",
            "  PAY_AMT1 PAY_AMT2 PAY_AMT3 PAY_AMT4 PAY_AMT5 PAY_AMT6 inadimplente\n",
            "1        0      689        0        0        0        0            1\n",
            "2        0     1000     1000     1000        0     2000            1\n",
            "3     1518     1500     1000     1000     1000     5000            0\n",
            "4     2000     2019     1200     1100     1069     1000            0\n",
            "5     2000    36681    10000     9000      689      679            0\n",
            "6     2500     1815      657     1000     1000      800            0\n"
          ]
        }
      ]
    },
    {
      "cell_type": "code",
      "source": [
        "# Genero\n",
        "%%R\n",
        "head(dados_clientes$Genero) "
      ],
      "metadata": {
        "colab": {
          "base_uri": "https://localhost:8080/"
        },
        "id": "rzN9sz-e5MUc",
        "outputId": "ef1369ec-b342-4d65-a39f-c4b26abdea73"
      },
      "execution_count": null,
      "outputs": [
        {
          "output_type": "stream",
          "name": "stdout",
          "text": [
            "[1] 2 2 2 2 1 1\n"
          ]
        }
      ]
    },
    {
      "cell_type": "code",
      "source": [
        "%%R\n",
        "str(dados_clientes$Genero) "
      ],
      "metadata": {
        "colab": {
          "base_uri": "https://localhost:8080/"
        },
        "id": "8KsUjJxS5SsW",
        "outputId": "3ef443dc-55b9-498b-ee46-e74ff053612c"
      },
      "execution_count": null,
      "outputs": [
        {
          "output_type": "stream",
          "name": "stdout",
          "text": [
            " int [1:30000] 2 2 2 2 1 1 1 2 2 1 ...\n"
          ]
        }
      ]
    },
    {
      "cell_type": "code",
      "source": [
        "%%R\n",
        "summary(dados_clientes$Genero) "
      ],
      "metadata": {
        "colab": {
          "base_uri": "https://localhost:8080/"
        },
        "id": "L5SpWov65W6u",
        "outputId": "69b08b90-ec44-446d-b692-df7271f4bc12"
      },
      "execution_count": null,
      "outputs": [
        {
          "output_type": "stream",
          "name": "stdout",
          "text": [
            "   Min. 1st Qu.  Median    Mean 3rd Qu.    Max. \n",
            "  1.000   1.000   2.000   1.604   2.000   2.000 \n"
          ]
        }
      ]
    },
    {
      "cell_type": "code",
      "source": [
        "%%R\n",
        "dados_clientes$Genero <- cut(dados_clientes$Genero, \n",
        "                             c(0,1,2), \n",
        "                             labels = c(\"Masculino\",\n",
        "                                        \"Feminino\"))"
      ],
      "metadata": {
        "id": "GGm6h1JZ5fZ7"
      },
      "execution_count": null,
      "outputs": []
    },
    {
      "cell_type": "code",
      "source": [
        "%%R\n",
        "head(dados_clientes$Genero) "
      ],
      "metadata": {
        "colab": {
          "base_uri": "https://localhost:8080/"
        },
        "id": "QOQk674A5oOZ",
        "outputId": "85f5234a-1dec-4073-fef2-d1250097222e"
      },
      "execution_count": null,
      "outputs": [
        {
          "output_type": "stream",
          "name": "stdout",
          "text": [
            "[1] Feminino  Feminino  Feminino  Feminino  Masculino Masculino\n",
            "Levels: Masculino Feminino\n"
          ]
        }
      ]
    },
    {
      "cell_type": "code",
      "source": [
        "%%R\n",
        "str(dados_clientes$Genero) "
      ],
      "metadata": {
        "colab": {
          "base_uri": "https://localhost:8080/"
        },
        "id": "HJ2JdmWK5tMo",
        "outputId": "ee513274-c2ab-463e-e88d-bfea23d12211"
      },
      "execution_count": null,
      "outputs": [
        {
          "output_type": "stream",
          "name": "stdout",
          "text": [
            " Factor w/ 2 levels \"Masculino\",\"Feminino\": 2 2 2 2 1 1 1 2 2 1 ...\n"
          ]
        }
      ]
    },
    {
      "cell_type": "code",
      "source": [
        "%%R\n",
        "summary(dados_clientes$Genero) "
      ],
      "metadata": {
        "colab": {
          "base_uri": "https://localhost:8080/"
        },
        "id": "KCChim8y5w-p",
        "outputId": "1d0355d7-b911-4ff7-d8a5-21e518f5a5fa"
      },
      "execution_count": null,
      "outputs": [
        {
          "output_type": "stream",
          "name": "stdout",
          "text": [
            "Masculino  Feminino \n",
            "    11888     18112 \n"
          ]
        }
      ]
    },
    {
      "cell_type": "code",
      "source": [
        "# Escolaridade\n",
        "%%R\n",
        "str(dados_clientes$Escolaridade)"
      ],
      "metadata": {
        "colab": {
          "base_uri": "https://localhost:8080/"
        },
        "id": "PHamXdyx50XC",
        "outputId": "aad3c32a-9174-44ab-8c81-a98945ae772a"
      },
      "execution_count": null,
      "outputs": [
        {
          "output_type": "stream",
          "name": "stdout",
          "text": [
            " int [1:30000] 2 2 2 2 2 1 1 2 3 3 ...\n"
          ]
        }
      ]
    },
    {
      "cell_type": "code",
      "source": [
        "%%R\n",
        "summary(dados_clientes$Escolaridade) "
      ],
      "metadata": {
        "colab": {
          "base_uri": "https://localhost:8080/"
        },
        "id": "KtiNPlCB56d_",
        "outputId": "3054063f-7ceb-4bd7-f3c3-70d0bca60eb6"
      },
      "execution_count": null,
      "outputs": [
        {
          "output_type": "stream",
          "name": "stdout",
          "text": [
            "   Min. 1st Qu.  Median    Mean 3rd Qu.    Max. \n",
            "  0.000   1.000   2.000   1.853   2.000   6.000 \n"
          ]
        }
      ]
    },
    {
      "cell_type": "code",
      "source": [
        "%%R\n",
        "dados_clientes$Escolaridade <- cut(dados_clientes$Escolaridade, \n",
        "                                   c(0,1,2,3,4), \n",
        "                                   labels = c(\"Pos Graduado\",\n",
        "                                              \"Graduado\",\n",
        "                                              \"Ensino Medio\",\n",
        "                                              \"Outros\"))"
      ],
      "metadata": {
        "id": "Bc-DNbla5-RU"
      },
      "execution_count": null,
      "outputs": []
    },
    {
      "cell_type": "code",
      "source": [
        "%%R\n",
        "head(dados_clientes$Escolaridade) "
      ],
      "metadata": {
        "colab": {
          "base_uri": "https://localhost:8080/"
        },
        "id": "GKMpCOsp6D8u",
        "outputId": "1b889950-c9d1-42b1-bcb7-77af445c41a0"
      },
      "execution_count": null,
      "outputs": [
        {
          "output_type": "stream",
          "name": "stdout",
          "text": [
            "[1] Graduado     Graduado     Graduado     Graduado     Graduado    \n",
            "[6] Pos Graduado\n",
            "Levels: Pos Graduado Graduado Ensino Medio Outros\n"
          ]
        }
      ]
    },
    {
      "cell_type": "code",
      "source": [
        "%%R\n",
        "str(dados_clientes$Escolaridade) "
      ],
      "metadata": {
        "colab": {
          "base_uri": "https://localhost:8080/"
        },
        "id": "zi_zCLh96Idi",
        "outputId": "7f107cad-1dfc-4546-ca98-967c0e8c9bcf"
      },
      "execution_count": null,
      "outputs": [
        {
          "output_type": "stream",
          "name": "stdout",
          "text": [
            " Factor w/ 4 levels \"Pos Graduado\",..: 2 2 2 2 2 1 1 2 3 3 ...\n"
          ]
        }
      ]
    },
    {
      "cell_type": "code",
      "source": [
        "%%R\n",
        "summary(dados_clientes$Escolaridade) "
      ],
      "metadata": {
        "colab": {
          "base_uri": "https://localhost:8080/"
        },
        "id": "rpooA9dh6Mqv",
        "outputId": "ad54db06-4c77-4ad2-d091-2dcbc1c768f4"
      },
      "execution_count": null,
      "outputs": [
        {
          "output_type": "stream",
          "name": "stdout",
          "text": [
            "Pos Graduado     Graduado Ensino Medio       Outros         NA's \n",
            "       10585        14030         4917          123          345 \n"
          ]
        }
      ]
    },
    {
      "cell_type": "code",
      "source": [
        "# Estado Civil\n",
        "%%R\n",
        "str(dados_clientes$Estado_Civil)"
      ],
      "metadata": {
        "colab": {
          "base_uri": "https://localhost:8080/"
        },
        "id": "faYqFoVg6RDp",
        "outputId": "b08728bf-6aa6-404e-d1ab-a13e904202d6"
      },
      "execution_count": null,
      "outputs": [
        {
          "output_type": "stream",
          "name": "stdout",
          "text": [
            " int [1:30000] 1 2 2 1 1 2 2 2 1 2 ...\n"
          ]
        }
      ]
    },
    {
      "cell_type": "code",
      "source": [
        "%%R\n",
        "summary(dados_clientes$Estado_Civil) "
      ],
      "metadata": {
        "colab": {
          "base_uri": "https://localhost:8080/"
        },
        "id": "rrggCpOU75aB",
        "outputId": "81cbf136-1579-4559-f2f3-5d1c43d44d7e"
      },
      "execution_count": null,
      "outputs": [
        {
          "output_type": "stream",
          "name": "stdout",
          "text": [
            "   Min. 1st Qu.  Median    Mean 3rd Qu.    Max. \n",
            "  0.000   1.000   2.000   1.552   2.000   3.000 \n"
          ]
        }
      ]
    },
    {
      "cell_type": "code",
      "source": [
        "%%R\n",
        "dados_clientes$Estado_Civil <- cut(dados_clientes$Estado_Civil, \n",
        "                                   c(-1,0,1,2,3),\n",
        "                                   labels = c(\"Desconhecido\",\n",
        "                                              \"Casado\",\n",
        "                                              \"Solteiro\",\n",
        "                                              \"Outro\"))"
      ],
      "metadata": {
        "id": "-tyK8Epc78xP"
      },
      "execution_count": null,
      "outputs": []
    },
    {
      "cell_type": "code",
      "source": [
        "%%R\n",
        "head(dados_clientes$Estado_Civil)"
      ],
      "metadata": {
        "colab": {
          "base_uri": "https://localhost:8080/"
        },
        "id": "mZfaYkz08BEy",
        "outputId": "4fb8fd89-ce9b-4e81-d4ea-15abe1d90fc8"
      },
      "execution_count": null,
      "outputs": [
        {
          "output_type": "stream",
          "name": "stdout",
          "text": [
            "[1] Casado   Solteiro Solteiro Casado   Casado   Solteiro\n",
            "Levels: Desconhecido Casado Solteiro Outro\n"
          ]
        }
      ]
    },
    {
      "cell_type": "code",
      "source": [
        "%%R\n",
        "str(dados_clientes$Estado_Civil) "
      ],
      "metadata": {
        "colab": {
          "base_uri": "https://localhost:8080/"
        },
        "id": "y_W_WdQZ8GGq",
        "outputId": "ea983b79-bf31-4f14-c356-4b24883924d0"
      },
      "execution_count": null,
      "outputs": [
        {
          "output_type": "stream",
          "name": "stdout",
          "text": [
            " Factor w/ 4 levels \"Desconhecido\",..: 2 3 3 2 2 3 3 3 2 3 ...\n"
          ]
        }
      ]
    },
    {
      "cell_type": "code",
      "source": [
        "%%R\n",
        "summary(dados_clientes$Estado_Civil) "
      ],
      "metadata": {
        "colab": {
          "base_uri": "https://localhost:8080/"
        },
        "id": "Dnp7wgxe8KEq",
        "outputId": "e578b4f3-2130-4155-97dd-0ee7163b825e"
      },
      "execution_count": null,
      "outputs": [
        {
          "output_type": "stream",
          "name": "stdout",
          "text": [
            "Desconhecido       Casado     Solteiro        Outro \n",
            "          54        13659        15964          323 \n"
          ]
        }
      ]
    },
    {
      "cell_type": "code",
      "source": [
        "# Convertendo a variável para o tipo fator com faixa etária\n",
        "%%R\n",
        "str(dados_clientes$Idade)"
      ],
      "metadata": {
        "colab": {
          "base_uri": "https://localhost:8080/"
        },
        "id": "CSfhuurP8oFs",
        "outputId": "b146c298-408b-4f7e-c68a-652314ad66de"
      },
      "execution_count": null,
      "outputs": [
        {
          "output_type": "stream",
          "name": "stdout",
          "text": [
            " int [1:30000] 24 26 34 37 57 37 29 23 28 35 ...\n"
          ]
        }
      ]
    },
    {
      "cell_type": "code",
      "source": [
        "%%R\n",
        "summary(dados_clientes$Idade) "
      ],
      "metadata": {
        "colab": {
          "base_uri": "https://localhost:8080/"
        },
        "id": "WKn23fVi8w6A",
        "outputId": "df5b0161-5134-4237-daf8-c07eefbfeeb3"
      },
      "execution_count": null,
      "outputs": [
        {
          "output_type": "stream",
          "name": "stdout",
          "text": [
            "   Min. 1st Qu.  Median    Mean 3rd Qu.    Max. \n",
            "  21.00   28.00   34.00   35.49   41.00   79.00 \n"
          ]
        }
      ]
    },
    {
      "cell_type": "code",
      "source": [
        "%%R\n",
        "hist(dados_clientes$Idade)"
      ],
      "metadata": {
        "colab": {
          "base_uri": "https://localhost:8080/",
          "height": 496
        },
        "id": "jm2jfSZI8yNE",
        "outputId": "adfb2a2d-d7e4-4ee8-87e4-9a16ace24bf0"
      },
      "execution_count": null,
      "outputs": [
        {
          "output_type": "display_data",
          "data": {
            "image/png": "[encoded data removed]"
          },
          "metadata": {}
        }
      ]
    },
    {
      "cell_type": "code",
      "source": [
        "%%R\n",
        "dados_clientes$Idade <- cut(dados_clientes$Idade, \n",
        "                            c(0,30,50,100), \n",
        "                            labels = c(\"Jovem\", \n",
        "                                       \"Adulto\", \n",
        "                                       \"Idoso\"))"
      ],
      "metadata": {
        "id": "EQ_5Bo4D81h2"
      },
      "execution_count": null,
      "outputs": []
    },
    {
      "cell_type": "code",
      "source": [
        "%%R\n",
        "head(dados_clientes$Idade) "
      ],
      "metadata": {
        "colab": {
          "base_uri": "https://localhost:8080/"
        },
        "id": "DHxOnXXg87p1",
        "outputId": "2e9721c7-767c-4828-8de1-dbb233d5e862"
      },
      "execution_count": null,
      "outputs": [
        {
          "output_type": "stream",
          "name": "stdout",
          "text": [
            "[1] Jovem  Jovem  Adulto Adulto Idoso  Adulto\n",
            "Levels: Jovem Adulto Idoso\n"
          ]
        }
      ]
    },
    {
      "cell_type": "code",
      "source": [
        "%%R\n",
        "str(dados_clientes$Idade) "
      ],
      "metadata": {
        "colab": {
          "base_uri": "https://localhost:8080/"
        },
        "id": "EU3mNZgm9Jqa",
        "outputId": "dbaba58a-5d02-4375-a74f-532bda88fdfb"
      },
      "execution_count": null,
      "outputs": [
        {
          "output_type": "stream",
          "name": "stdout",
          "text": [
            " Factor w/ 3 levels \"Jovem\",\"Adulto\",..: 1 1 2 2 3 2 1 1 1 2 ...\n"
          ]
        }
      ]
    },
    {
      "cell_type": "code",
      "source": [
        "%%R\n",
        "summary(dados_clientes$Idade)"
      ],
      "metadata": {
        "colab": {
          "base_uri": "https://localhost:8080/"
        },
        "id": "jLr3WNWt9Oc1",
        "outputId": "1f9ae682-6a6f-4301-a02b-8bceb19430f1"
      },
      "execution_count": null,
      "outputs": [
        {
          "output_type": "stream",
          "name": "stdout",
          "text": [
            " Jovem Adulto  Idoso \n",
            " 11013  16718   2269 \n"
          ]
        }
      ]
    },
    {
      "cell_type": "code",
      "source": [
        "%%R\n",
        "head(dados_clientes)"
      ],
      "metadata": {
        "colab": {
          "base_uri": "https://localhost:8080/"
        },
        "id": "nDLNFsKi9WZt",
        "outputId": "aa71ab6e-1bce-4f0d-f8b7-eabc4779b0dc"
      },
      "execution_count": null,
      "outputs": [
        {
          "output_type": "stream",
          "name": "stdout",
          "text": [
            "  LIMIT_BAL    Genero Escolaridade Estado_Civil  Idade PAY_0 PAY_2 PAY_3 PAY_4\n",
            "1     20000  Feminino     Graduado       Casado  Jovem     2     2    -1    -1\n",
            "2    120000  Feminino     Graduado     Solteiro  Jovem    -1     2     0     0\n",
            "3     90000  Feminino     Graduado     Solteiro Adulto     0     0     0     0\n",
            "4     50000  Feminino     Graduado       Casado Adulto     0     0     0     0\n",
            "5     50000 Masculino     Graduado       Casado  Idoso    -1     0    -1     0\n",
            "6     50000 Masculino Pos Graduado     Solteiro Adulto     0     0     0     0\n",
            "  PAY_5 PAY_6 BILL_AMT1 BILL_AMT2 BILL_AMT3 BILL_AMT4 BILL_AMT5 BILL_AMT6\n",
            "1    -2    -2      3913      3102       689         0         0         0\n",
            "2     0     2      2682      1725      2682      3272      3455      3261\n",
            "3     0     0     29239     14027     13559     14331     14948     15549\n",
            "4     0     0     46990     48233     49291     28314     28959     29547\n",
            "5     0     0      8617      5670     35835     20940     19146     19131\n",
            "6     0     0     64400     57069     57608     19394     19619     20024\n",
            "  PAY_AMT1 PAY_AMT2 PAY_AMT3 PAY_AMT4 PAY_AMT5 PAY_AMT6 inadimplente\n",
            "1        0      689        0        0        0        0            1\n",
            "2        0     1000     1000     1000        0     2000            1\n",
            "3     1518     1500     1000     1000     1000     5000            0\n",
            "4     2000     2019     1200     1100     1069     1000            0\n",
            "5     2000    36681    10000     9000      689      679            0\n",
            "6     2500     1815      657     1000     1000      800            0\n"
          ]
        }
      ]
    },
    {
      "cell_type": "code",
      "source": [
        "# Convertendo a variável que indica pagamentos para o tipo fator\n",
        "%%R\n",
        "dados_clientes$PAY_0 <- as.factor(dados_clientes$PAY_0)\n",
        "dados_clientes$PAY_2 <- as.factor(dados_clientes$PAY_2)\n",
        "dados_clientes$PAY_3 <- as.factor(dados_clientes$PAY_3)\n",
        "dados_clientes$PAY_4 <- as.factor(dados_clientes$PAY_4)\n",
        "dados_clientes$PAY_5 <- as.factor(dados_clientes$PAY_5)\n",
        "dados_clientes$PAY_6 <- as.factor(dados_clientes$PAY_6)"
      ],
      "metadata": {
        "id": "a6ZWdhQp9cn_"
      },
      "execution_count": null,
      "outputs": []
    },
    {
      "cell_type": "code",
      "source": [
        "# Dataset após as conversões\n",
        "%%R\n",
        "str(dados_clientes) "
      ],
      "metadata": {
        "colab": {
          "base_uri": "https://localhost:8080/"
        },
        "id": "fgfDum0e9kB5",
        "outputId": "a1939f4c-b1b5-4a42-c7e9-99d0e4eadffc"
      },
      "execution_count": null,
      "outputs": [
        {
          "output_type": "stream",
          "name": "stdout",
          "text": [
            "'data.frame':\t30000 obs. of  24 variables:\n",
            " $ LIMIT_BAL   : int  20000 120000 90000 50000 50000 50000 500000 100000 140000 20000 ...\n",
            " $ Genero      : Factor w/ 2 levels \"Masculino\",\"Feminino\": 2 2 2 2 1 1 1 2 2 1 ...\n",
            " $ Escolaridade: Factor w/ 4 levels \"Pos Graduado\",..: 2 2 2 2 2 1 1 2 3 3 ...\n",
            " $ Estado_Civil: Factor w/ 4 levels \"Desconhecido\",..: 2 3 3 2 2 3 3 3 2 3 ...\n",
            " $ Idade       : Factor w/ 3 levels \"Jovem\",\"Adulto\",..: 1 1 2 2 3 2 1 1 1 2 ...\n",
            " $ PAY_0       : Factor w/ 11 levels \"-2\",\"-1\",\"0\",..: 5 2 3 3 2 3 3 3 3 1 ...\n",
            " $ PAY_2       : Factor w/ 11 levels \"-2\",\"-1\",\"0\",..: 5 5 3 3 3 3 3 2 3 1 ...\n",
            " $ PAY_3       : Factor w/ 11 levels \"-2\",\"-1\",\"0\",..: 2 3 3 3 2 3 3 2 5 1 ...\n",
            " $ PAY_4       : Factor w/ 11 levels \"-2\",\"-1\",\"0\",..: 2 3 3 3 3 3 3 3 3 1 ...\n",
            " $ PAY_5       : Factor w/ 10 levels \"-2\",\"-1\",\"0\",..: 1 3 3 3 3 3 3 3 3 2 ...\n",
            " $ PAY_6       : Factor w/ 10 levels \"-2\",\"-1\",\"0\",..: 1 4 3 3 3 3 3 2 3 2 ...\n",
            " $ BILL_AMT1   : int  3913 2682 29239 46990 8617 64400 367965 11876 11285 0 ...\n",
            " $ BILL_AMT2   : int  3102 1725 14027 48233 5670 57069 412023 380 14096 0 ...\n",
            " $ BILL_AMT3   : int  689 2682 13559 49291 35835 57608 445007 601 12108 0 ...\n",
            " $ BILL_AMT4   : int  0 3272 14331 28314 20940 19394 542653 221 12211 0 ...\n",
            " $ BILL_AMT5   : int  0 3455 14948 28959 19146 19619 483003 -159 11793 13007 ...\n",
            " $ BILL_AMT6   : int  0 3261 15549 29547 19131 20024 473944 567 3719 13912 ...\n",
            " $ PAY_AMT1    : int  0 0 1518 2000 2000 2500 55000 380 3329 0 ...\n",
            " $ PAY_AMT2    : int  689 1000 1500 2019 36681 1815 40000 601 0 0 ...\n",
            " $ PAY_AMT3    : int  0 1000 1000 1200 10000 657 38000 0 432 0 ...\n",
            " $ PAY_AMT4    : int  0 1000 1000 1100 9000 1000 20239 581 1000 13007 ...\n",
            " $ PAY_AMT5    : int  0 0 1000 1069 689 1000 13750 1687 1000 1122 ...\n",
            " $ PAY_AMT6    : int  0 2000 5000 1000 679 800 13770 1542 1000 0 ...\n",
            " $ inadimplente: int  1 1 0 0 0 0 0 0 0 0 ...\n"
          ]
        }
      ]
    },
    {
      "cell_type": "code",
      "source": [
        "%%R\n",
        "sapply(dados_clientes, function(x) sum(is.na(x)))"
      ],
      "metadata": {
        "colab": {
          "base_uri": "https://localhost:8080/"
        },
        "id": "DHTgpMTL9oyM",
        "outputId": "78d1ab14-600b-424f-f3b3-d789c25a36f4"
      },
      "execution_count": null,
      "outputs": [
        {
          "output_type": "stream",
          "name": "stdout",
          "text": [
            "   LIMIT_BAL       Genero Escolaridade Estado_Civil        Idade        PAY_0 \n",
            "           0            0          345            0            0            0 \n",
            "       PAY_2        PAY_3        PAY_4        PAY_5        PAY_6    BILL_AMT1 \n",
            "           0            0            0            0            0            0 \n",
            "   BILL_AMT2    BILL_AMT3    BILL_AMT4    BILL_AMT5    BILL_AMT6     PAY_AMT1 \n",
            "           0            0            0            0            0            0 \n",
            "    PAY_AMT2     PAY_AMT3     PAY_AMT4     PAY_AMT5     PAY_AMT6 inadimplente \n",
            "           0            0            0            0            0            0 \n"
          ]
        }
      ]
    },
    {
      "cell_type": "code",
      "source": [
        "%%R\n",
        "missmap(dados_clientes, main = \"Valores Missing Observados\")"
      ],
      "metadata": {
        "colab": {
          "base_uri": "https://localhost:8080/",
          "height": 496
        },
        "id": "8s-N48Mt9t00",
        "outputId": "b05714af-8984-4921-8af5-8eef887ccfc1"
      },
      "execution_count": null,
      "outputs": [
        {
          "output_type": "display_data",
          "data": {
            "image/png": "[encoded data removed]"
          },
          "metadata": {}
        }
      ]
    },
    {
      "cell_type": "code",
      "source": [
        "%%R\n",
        "dados_clientes <- na.omit(dados_clientes)"
      ],
      "metadata": {
        "id": "pqeMp7M69zgV"
      },
      "execution_count": null,
      "outputs": []
    },
    {
      "cell_type": "code",
      "source": [
        "%%R\n",
        "missmap(dados_clientes, main = \"Valores Missing Observados\")"
      ],
      "metadata": {
        "colab": {
          "base_uri": "https://localhost:8080/",
          "height": 496
        },
        "id": "iZW34UP897h4",
        "outputId": "379855e8-86c5-4c54-c848-6ba107c2633d"
      },
      "execution_count": null,
      "outputs": [
        {
          "output_type": "display_data",
          "data": {
            "image/png": "[encoded data removed]"
          },
          "metadata": {}
        }
      ]
    },
    {
      "cell_type": "code",
      "source": [
        "%%R\n",
        "dim(dados_clientes)"
      ],
      "metadata": {
        "colab": {
          "base_uri": "https://localhost:8080/"
        },
        "id": "NJeBnPLt9-cO",
        "outputId": "99e00b57-9e66-4089-f0fe-8bc6af4e6c95"
      },
      "execution_count": null,
      "outputs": [
        {
          "output_type": "stream",
          "name": "stdout",
          "text": [
            "[1] 29655    24\n"
          ]
        }
      ]
    },
    {
      "cell_type": "code",
      "source": [
        "%%R\n",
        "head(dados_clientes)"
      ],
      "metadata": {
        "colab": {
          "base_uri": "https://localhost:8080/"
        },
        "id": "-0q7WB8y-ECq",
        "outputId": "0fe9d91a-3929-44ea-cc36-0a715b3339ed"
      },
      "execution_count": null,
      "outputs": [
        {
          "output_type": "stream",
          "name": "stdout",
          "text": [
            "  LIMIT_BAL    Genero Escolaridade Estado_Civil  Idade PAY_0 PAY_2 PAY_3 PAY_4\n",
            "1     20000  Feminino     Graduado       Casado  Jovem     2     2    -1    -1\n",
            "2    120000  Feminino     Graduado     Solteiro  Jovem    -1     2     0     0\n",
            "3     90000  Feminino     Graduado     Solteiro Adulto     0     0     0     0\n",
            "4     50000  Feminino     Graduado       Casado Adulto     0     0     0     0\n",
            "5     50000 Masculino     Graduado       Casado  Idoso    -1     0    -1     0\n",
            "6     50000 Masculino Pos Graduado     Solteiro Adulto     0     0     0     0\n",
            "  PAY_5 PAY_6 BILL_AMT1 BILL_AMT2 BILL_AMT3 BILL_AMT4 BILL_AMT5 BILL_AMT6\n",
            "1    -2    -2      3913      3102       689         0         0         0\n",
            "2     0     2      2682      1725      2682      3272      3455      3261\n",
            "3     0     0     29239     14027     13559     14331     14948     15549\n",
            "4     0     0     46990     48233     49291     28314     28959     29547\n",
            "5     0     0      8617      5670     35835     20940     19146     19131\n",
            "6     0     0     64400     57069     57608     19394     19619     20024\n",
            "  PAY_AMT1 PAY_AMT2 PAY_AMT3 PAY_AMT4 PAY_AMT5 PAY_AMT6 inadimplente\n",
            "1        0      689        0        0        0        0            1\n",
            "2        0     1000     1000     1000        0     2000            1\n",
            "3     1518     1500     1000     1000     1000     5000            0\n",
            "4     2000     2019     1200     1100     1069     1000            0\n",
            "5     2000    36681    10000     9000      689      679            0\n",
            "6     2500     1815      657     1000     1000      800            0\n"
          ]
        }
      ]
    },
    {
      "cell_type": "code",
      "source": [
        "# Alterando a variável dependente para o tipo fator\n",
        "%%R\n",
        "str(dados_clientes$inadimplente)"
      ],
      "metadata": {
        "colab": {
          "base_uri": "https://localhost:8080/"
        },
        "id": "aBTBP3Cg-Hyy",
        "outputId": "ba17ab27-f4a0-45da-c2c7-b4fb0b70c26e"
      },
      "execution_count": null,
      "outputs": [
        {
          "output_type": "stream",
          "name": "stdout",
          "text": [
            " int [1:29655] 1 1 0 0 0 0 0 0 0 0 ...\n"
          ]
        }
      ]
    },
    {
      "cell_type": "code",
      "source": [
        "%%R\n",
        "colnames(dados_clientes)"
      ],
      "metadata": {
        "colab": {
          "base_uri": "https://localhost:8080/"
        },
        "id": "sgHv02Aw-QsM",
        "outputId": "32e8bb94-a54e-400f-c0f9-e6cf3bdef79f"
      },
      "execution_count": null,
      "outputs": [
        {
          "output_type": "stream",
          "name": "stdout",
          "text": [
            " [1] \"LIMIT_BAL\"    \"Genero\"       \"Escolaridade\" \"Estado_Civil\" \"Idade\"       \n",
            " [6] \"PAY_0\"        \"PAY_2\"        \"PAY_3\"        \"PAY_4\"        \"PAY_5\"       \n",
            "[11] \"PAY_6\"        \"BILL_AMT1\"    \"BILL_AMT2\"    \"BILL_AMT3\"    \"BILL_AMT4\"   \n",
            "[16] \"BILL_AMT5\"    \"BILL_AMT6\"    \"PAY_AMT1\"     \"PAY_AMT2\"     \"PAY_AMT3\"    \n",
            "[21] \"PAY_AMT4\"     \"PAY_AMT5\"     \"PAY_AMT6\"     \"inadimplente\"\n"
          ]
        }
      ]
    },
    {
      "cell_type": "code",
      "source": [
        "%%R\n",
        "dados_clientes$inadimplente <- as.factor(dados_clientes$inadimplente)"
      ],
      "metadata": {
        "id": "h3CdikpL-UZP"
      },
      "execution_count": null,
      "outputs": []
    },
    {
      "cell_type": "code",
      "source": [
        "%%R\n",
        "str(dados_clientes$inadimplente)"
      ],
      "metadata": {
        "colab": {
          "base_uri": "https://localhost:8080/"
        },
        "id": "ZMsOjvDx-X78",
        "outputId": "4e75d437-0f8a-4699-d4d0-5d1d9f04084d"
      },
      "execution_count": null,
      "outputs": [
        {
          "output_type": "stream",
          "name": "stdout",
          "text": [
            " Factor w/ 2 levels \"0\",\"1\": 2 2 1 1 1 1 1 1 1 1 ...\n"
          ]
        }
      ]
    },
    {
      "cell_type": "code",
      "source": [
        "%%R\n",
        "head(dados_clientes)"
      ],
      "metadata": {
        "colab": {
          "base_uri": "https://localhost:8080/"
        },
        "id": "nF6CvJVX-bAT",
        "outputId": "f30d584a-648e-40fd-84a5-cc9ce69c85c6"
      },
      "execution_count": null,
      "outputs": [
        {
          "output_type": "stream",
          "name": "stdout",
          "text": [
            "  LIMIT_BAL    Genero Escolaridade Estado_Civil  Idade PAY_0 PAY_2 PAY_3 PAY_4\n",
            "1     20000  Feminino     Graduado       Casado  Jovem     2     2    -1    -1\n",
            "2    120000  Feminino     Graduado     Solteiro  Jovem    -1     2     0     0\n",
            "3     90000  Feminino     Graduado     Solteiro Adulto     0     0     0     0\n",
            "4     50000  Feminino     Graduado       Casado Adulto     0     0     0     0\n",
            "5     50000 Masculino     Graduado       Casado  Idoso    -1     0    -1     0\n",
            "6     50000 Masculino Pos Graduado     Solteiro Adulto     0     0     0     0\n",
            "  PAY_5 PAY_6 BILL_AMT1 BILL_AMT2 BILL_AMT3 BILL_AMT4 BILL_AMT5 BILL_AMT6\n",
            "1    -2    -2      3913      3102       689         0         0         0\n",
            "2     0     2      2682      1725      2682      3272      3455      3261\n",
            "3     0     0     29239     14027     13559     14331     14948     15549\n",
            "4     0     0     46990     48233     49291     28314     28959     29547\n",
            "5     0     0      8617      5670     35835     20940     19146     19131\n",
            "6     0     0     64400     57069     57608     19394     19619     20024\n",
            "  PAY_AMT1 PAY_AMT2 PAY_AMT3 PAY_AMT4 PAY_AMT5 PAY_AMT6 inadimplente\n",
            "1        0      689        0        0        0        0            1\n",
            "2        0     1000     1000     1000        0     2000            1\n",
            "3     1518     1500     1000     1000     1000     5000            0\n",
            "4     2000     2019     1200     1100     1069     1000            0\n",
            "5     2000    36681    10000     9000      689      679            0\n",
            "6     2500     1815      657     1000     1000      800            0\n"
          ]
        }
      ]
    },
    {
      "cell_type": "code",
      "source": [
        "# Total de inadimplentes versus não-inadimplentes\n",
        "%%R\n",
        "table(dados_clientes$inadimplente)"
      ],
      "metadata": {
        "colab": {
          "base_uri": "https://localhost:8080/"
        },
        "id": "csRtDU8V-pF-",
        "outputId": "f9eb7742-2b11-4cb9-dc1b-bf24430d7690"
      },
      "execution_count": null,
      "outputs": [
        {
          "output_type": "stream",
          "name": "stdout",
          "text": [
            "\n",
            "    0     1 \n",
            "23045  6610 \n"
          ]
        }
      ]
    },
    {
      "cell_type": "code",
      "source": [
        "# Vejamos as porcentagens entre as classes\n",
        "%%R\n",
        "prop.table(table(dados_clientes$inadimplente))"
      ],
      "metadata": {
        "colab": {
          "base_uri": "https://localhost:8080/"
        },
        "id": "s5JOZnFu-v_L",
        "outputId": "86520d50-4e59-4ff9-a965-87bdae51971b"
      },
      "execution_count": null,
      "outputs": [
        {
          "output_type": "stream",
          "name": "stdout",
          "text": [
            "\n",
            "        0         1 \n",
            "0.7771034 0.2228966 \n"
          ]
        }
      ]
    },
    {
      "cell_type": "code",
      "source": [
        "# Plot da distribuição usando ggplot2\n",
        "%%R\n",
        "qplot(inadimplente, data = dados_clientes, geom = \"bar\") + \n",
        "  theme(axis.text.x = element_text(angle = 90, hjust = 1))"
      ],
      "metadata": {
        "colab": {
          "base_uri": "https://localhost:8080/",
          "height": 496
        },
        "id": "QiORtHPv-1Wo",
        "outputId": "1c3cc044-47d8-4d7b-fcb2-2a494714889c"
      },
      "execution_count": null,
      "outputs": [
        {
          "output_type": "display_data",
          "data": {
            "image/png": "[encoded data removed]"
          },
          "metadata": {}
        }
      ]
    },
    {
      "cell_type": "markdown",
      "source": [
        "Nos dados, nós temos muito mais clientes que pagaram do que clientes que ficaram inadimplentes, mostrando que nossa base está desbalanceada."
      ],
      "metadata": {
        "id": "mPvPRXxANyG-"
      }
    },
    {
      "cell_type": "code",
      "source": [
        "# Set seed\n",
        "%%R\n",
        "set.seed(12345)"
      ],
      "metadata": {
        "id": "1qJMI5vo-8P7"
      },
      "execution_count": null,
      "outputs": []
    },
    {
      "cell_type": "code",
      "source": [
        "# Amostragem estratificada. \n",
        "# Seleciona as linhas de acordo com a variável inadimplente como strata\n",
        "%%R\n",
        "indice <- createDataPartition(dados_clientes$inadimplente, p = 0.75, list = FALSE)"
      ],
      "metadata": {
        "id": "esUHkDvQ_JIE"
      },
      "execution_count": null,
      "outputs": []
    },
    {
      "cell_type": "code",
      "source": [
        "%%R\n",
        "dim(indice)"
      ],
      "metadata": {
        "colab": {
          "base_uri": "https://localhost:8080/"
        },
        "id": "sMhO8kjR_NZ4",
        "outputId": "34297954-b627-4c11-fdb0-bd6b509e448a"
      },
      "execution_count": null,
      "outputs": [
        {
          "output_type": "stream",
          "name": "stdout",
          "text": [
            "[1] 22242     1\n"
          ]
        }
      ]
    },
    {
      "cell_type": "code",
      "source": [
        "# Definimos os dados de treinamento como subconjunto do conjunto de dados original\n",
        "# com números de indice de linha (conforme identificado acima) e todas as colunas\n",
        "%%R\n",
        "dados_treino <- dados_clientes[indice,]"
      ],
      "metadata": {
        "id": "qi1l3KOk_QgQ"
      },
      "execution_count": null,
      "outputs": []
    },
    {
      "cell_type": "code",
      "source": [
        "%%R\n",
        "dim(dados_treino)"
      ],
      "metadata": {
        "colab": {
          "base_uri": "https://localhost:8080/"
        },
        "id": "oWdykRaR_WVS",
        "outputId": "4d2c666c-4e49-4a3a-f066-cdf46038dfbf"
      },
      "execution_count": null,
      "outputs": [
        {
          "output_type": "stream",
          "name": "stdout",
          "text": [
            "[1] 22242    24\n"
          ]
        }
      ]
    },
    {
      "cell_type": "code",
      "source": [
        "%%R\n",
        "table(dados_treino$inadimplente)"
      ],
      "metadata": {
        "colab": {
          "base_uri": "https://localhost:8080/"
        },
        "id": "scVCTGnr_bO-",
        "outputId": "af3300a6-5056-449e-c379-8233da24e03e"
      },
      "execution_count": null,
      "outputs": [
        {
          "output_type": "stream",
          "name": "stdout",
          "text": [
            "\n",
            "    0     1 \n",
            "17284  4958 \n"
          ]
        }
      ]
    },
    {
      "cell_type": "code",
      "source": [
        "# Veja as porcentagens entre as classes\n",
        "%%R\n",
        "prop.table(table(dados_treino$inadimplente))"
      ],
      "metadata": {
        "colab": {
          "base_uri": "https://localhost:8080/"
        },
        "id": "KTS0Bdc9_fFM",
        "outputId": "ed83b161-c226-41eb-829c-992023430037"
      },
      "execution_count": null,
      "outputs": [
        {
          "output_type": "stream",
          "name": "stdout",
          "text": [
            "\n",
            "        0         1 \n",
            "0.7770884 0.2229116 \n"
          ]
        }
      ]
    },
    {
      "cell_type": "code",
      "source": [
        "# Número de registros no dataset de treinamento\n",
        "%%R\n",
        "dim(dados_treino)"
      ],
      "metadata": {
        "colab": {
          "base_uri": "https://localhost:8080/"
        },
        "id": "IQ6flhNF_kiV",
        "outputId": "8e3b0766-9ce5-481c-a88a-ebef494fd91f"
      },
      "execution_count": null,
      "outputs": [
        {
          "output_type": "stream",
          "name": "stdout",
          "text": [
            "[1] 22242    24\n"
          ]
        }
      ]
    },
    {
      "cell_type": "code",
      "source": [
        "# Comparamoos as porcentagens entre as classes de treinamento e dados originais\n",
        "%%R\n",
        "compara_dados <- cbind(prop.table(table(dados_treino$inadimplente)), \n",
        "                       prop.table(table(dados_clientes$inadimplente)))"
      ],
      "metadata": {
        "id": "ZEewdVGj_pPM"
      },
      "execution_count": null,
      "outputs": []
    },
    {
      "cell_type": "code",
      "source": [
        "%%R\n",
        "colnames(compara_dados) <- c(\"Treinamento\", \"Original\")"
      ],
      "metadata": {
        "id": "4gi8Uqjf_u0l"
      },
      "execution_count": null,
      "outputs": []
    },
    {
      "cell_type": "code",
      "source": [
        "%%R\n",
        "compara_dados"
      ],
      "metadata": {
        "colab": {
          "base_uri": "https://localhost:8080/"
        },
        "id": "HRzNpUgW_0O2",
        "outputId": "efa565df-4e9c-4edd-b6d8-9ee9f440269a"
      },
      "execution_count": null,
      "outputs": [
        {
          "output_type": "stream",
          "name": "stdout",
          "text": [
            "  Treinamento  Original\n",
            "0   0.7770884 0.7771034\n",
            "1   0.2229116 0.2228966\n"
          ]
        }
      ]
    },
    {
      "cell_type": "code",
      "source": [
        "# Melt Data - Converte colunas em linhas\n",
        "%%R\n",
        "melt_compara_dados <- melt(compara_dados)"
      ],
      "metadata": {
        "id": "WGnkqFWe_8iT"
      },
      "execution_count": null,
      "outputs": []
    },
    {
      "cell_type": "code",
      "source": [
        "%%R\n",
        "melt_compara_dados"
      ],
      "metadata": {
        "colab": {
          "base_uri": "https://localhost:8080/"
        },
        "id": "jw-wnILpABGU",
        "outputId": "51ccf9e3-93f1-43f1-9884-2cf6eacf5871"
      },
      "execution_count": null,
      "outputs": [
        {
          "output_type": "stream",
          "name": "stdout",
          "text": [
            "  X1          X2     value\n",
            "1  0 Treinamento 0.7770884\n",
            "2  1 Treinamento 0.2229116\n",
            "3  0    Original 0.7771034\n",
            "4  1    Original 0.2228966\n"
          ]
        }
      ]
    },
    {
      "cell_type": "code",
      "source": [
        "# Plot para ver a distribuição do treinamento vs original\n",
        "%%R\n",
        "ggplot(melt_compara_dados, aes(x = X1, y = value)) + \n",
        "  geom_bar( aes(fill = X2), stat = \"identity\", position = \"dodge\") + \n",
        "  theme(axis.text.x = element_text(angle = 90, hjust = 1))"
      ],
      "metadata": {
        "colab": {
          "base_uri": "https://localhost:8080/",
          "height": 496
        },
        "id": "d1kmENi6ADXq",
        "outputId": "7ba7b6f3-3116-4262-d5eb-e2ba4011ae8d"
      },
      "execution_count": null,
      "outputs": [
        {
          "output_type": "display_data",
          "data": {
            "image/png": "[encoded data removed]"
          },
          "metadata": {}
        }
      ]
    },
    {
      "cell_type": "code",
      "source": [
        "# Tudo o que não está no dataset de treinamento está no dataset de teste. Observe o sinal - (menos)\n",
        "%%R\n",
        "dados_teste <- dados_clientes[-indice,]"
      ],
      "metadata": {
        "id": "xvB7Udu9AMc5"
      },
      "execution_count": null,
      "outputs": []
    },
    {
      "cell_type": "code",
      "source": [
        "%%R\n",
        "dim(dados_teste)"
      ],
      "metadata": {
        "colab": {
          "base_uri": "https://localhost:8080/"
        },
        "id": "KFkPQDhBAT-_",
        "outputId": "dea0ee06-7fb0-4c69-dd24-3f0395571361"
      },
      "execution_count": null,
      "outputs": [
        {
          "output_type": "stream",
          "name": "stdout",
          "text": [
            "[1] 7413   24\n"
          ]
        }
      ]
    },
    {
      "cell_type": "code",
      "source": [
        "%%R\n",
        "dim(dados_treino)"
      ],
      "metadata": {
        "colab": {
          "base_uri": "https://localhost:8080/"
        },
        "id": "sKur1Q2nAX59",
        "outputId": "bb4b277c-9981-4129-80b2-e11c0778144a"
      },
      "execution_count": null,
      "outputs": [
        {
          "output_type": "stream",
          "name": "stdout",
          "text": [
            "[1] 22242    24\n"
          ]
        }
      ]
    },
    {
      "cell_type": "code",
      "source": [
        "#################### Modelo de Machine Learning ####################"
      ],
      "metadata": {
        "id": "c5gRyzGYAbnx"
      },
      "execution_count": null,
      "outputs": []
    },
    {
      "cell_type": "code",
      "source": [
        "# Construindo a primeira versão do modelo\n",
        "%%R\n",
        "head(dados_treino)"
      ],
      "metadata": {
        "colab": {
          "base_uri": "https://localhost:8080/"
        },
        "id": "ZVVDJ78eAoJO",
        "outputId": "6b67c4c4-0c72-4e9d-ef87-8d63e4af02a9"
      },
      "execution_count": null,
      "outputs": [
        {
          "output_type": "stream",
          "name": "stdout",
          "text": [
            "  LIMIT_BAL    Genero Escolaridade Estado_Civil  Idade PAY_0 PAY_2 PAY_3 PAY_4\n",
            "2    120000  Feminino     Graduado     Solteiro  Jovem    -1     2     0     0\n",
            "3     90000  Feminino     Graduado     Solteiro Adulto     0     0     0     0\n",
            "4     50000  Feminino     Graduado       Casado Adulto     0     0     0     0\n",
            "5     50000 Masculino     Graduado       Casado  Idoso    -1     0    -1     0\n",
            "6     50000 Masculino Pos Graduado     Solteiro Adulto     0     0     0     0\n",
            "7    500000 Masculino Pos Graduado     Solteiro  Jovem     0     0     0     0\n",
            "  PAY_5 PAY_6 BILL_AMT1 BILL_AMT2 BILL_AMT3 BILL_AMT4 BILL_AMT5 BILL_AMT6\n",
            "2     0     2      2682      1725      2682      3272      3455      3261\n",
            "3     0     0     29239     14027     13559     14331     14948     15549\n",
            "4     0     0     46990     48233     49291     28314     28959     29547\n",
            "5     0     0      8617      5670     35835     20940     19146     19131\n",
            "6     0     0     64400     57069     57608     19394     19619     20024\n",
            "7     0     0    367965    412023    445007    542653    483003    473944\n",
            "  PAY_AMT1 PAY_AMT2 PAY_AMT3 PAY_AMT4 PAY_AMT5 PAY_AMT6 inadimplente\n",
            "2        0     1000     1000     1000        0     2000            1\n",
            "3     1518     1500     1000     1000     1000     5000            0\n",
            "4     2000     2019     1200     1100     1069     1000            0\n",
            "5     2000    36681    10000     9000      689      679            0\n",
            "6     2500     1815      657     1000     1000      800            0\n",
            "7    55000    40000    38000    20239    13750    13770            0\n"
          ]
        }
      ]
    },
    {
      "cell_type": "code",
      "source": [
        "%%R\n",
        "modelo_v1 <- randomForest(inadimplente ~ ., data = dados_treino)"
      ],
      "metadata": {
        "id": "gSWbwt5gAtZD"
      },
      "execution_count": null,
      "outputs": []
    },
    {
      "cell_type": "code",
      "source": [
        "%%R\n",
        "modelo_v1"
      ],
      "metadata": {
        "colab": {
          "base_uri": "https://localhost:8080/"
        },
        "id": "8MlIgXC1Az_P",
        "outputId": "8a72fd68-4edc-453f-8c0c-0b8591d484ab"
      },
      "execution_count": null,
      "outputs": [
        {
          "output_type": "stream",
          "name": "stdout",
          "text": [
            "\n",
            "Call:\n",
            " randomForest(formula = inadimplente ~ ., data = dados_treino) \n",
            "               Type of random forest: classification\n",
            "                     Number of trees: 500\n",
            "No. of variables tried at each split: 4\n",
            "\n",
            "        OOB estimate of  error rate: 18.21%\n",
            "Confusion matrix:\n",
            "      0    1 class.error\n",
            "0 16338  946   0.0547327\n",
            "1  3105 1853   0.6262606\n"
          ]
        }
      ]
    },
    {
      "cell_type": "code",
      "source": [
        "# Avaliando o modelo\n",
        "%%R\n",
        "plot(modelo_v1)"
      ],
      "metadata": {
        "colab": {
          "base_uri": "https://localhost:8080/",
          "height": 496
        },
        "id": "o5D77lrPA3Cn",
        "outputId": "798ca4bb-5b20-4c36-cfb3-e2fdebee5fc2"
      },
      "execution_count": null,
      "outputs": [
        {
          "output_type": "display_data",
          "data": {
            "image/png": "[encoded data removed]"
          },
          "metadata": {}
        }
      ]
    },
    {
      "cell_type": "markdown",
      "source": [
        "Na primeira linha temos a performance do modelo, onde ele comeca com valor mais baixo e vai melhorando.\n",
        "\n",
        "A linha preta é o erro onde podemos observar que o modelo começa errando muito e com a evolução, o erro diminui.\n",
        "\n"
      ],
      "metadata": {
        "id": "XcfJsoxmazNP"
      }
    },
    {
      "cell_type": "code",
      "source": [
        "# Previsões com dados de teste\n",
        "%%R\n",
        "previsoes_v1 <- predict(modelo_v1, dados_teste)"
      ],
      "metadata": {
        "id": "400Z7gOnBKsm"
      },
      "execution_count": null,
      "outputs": []
    },
    {
      "cell_type": "code",
      "source": [
        "# Confusion Matrix\n",
        "%%R\n",
        "cm_v1 <- caret::confusionMatrix(previsoes_v1, dados_teste$inadimplente, positive = \"1\")\n",
        "cm_v1"
      ],
      "metadata": {
        "colab": {
          "base_uri": "https://localhost:8080/"
        },
        "id": "ZDlT0rp_BTvj",
        "outputId": "f33d7aff-79c6-4a3f-d659-c42c1fadf236"
      },
      "execution_count": null,
      "outputs": [
        {
          "output_type": "stream",
          "name": "stdout",
          "text": [
            "Confusion Matrix and Statistics\n",
            "\n",
            "          Reference\n",
            "Prediction    0    1\n",
            "         0 5443 1055\n",
            "         1  318  597\n",
            "                                          \n",
            "               Accuracy : 0.8148          \n",
            "                 95% CI : (0.8058, 0.8236)\n",
            "    No Information Rate : 0.7771          \n",
            "    P-Value [Acc > NIR] : 1.01e-15        \n",
            "                                          \n",
            "                  Kappa : 0.3641          \n",
            "                                          \n",
            " Mcnemar's Test P-Value : < 2.2e-16       \n",
            "                                          \n",
            "            Sensitivity : 0.36138         \n",
            "            Specificity : 0.94480         \n",
            "         Pos Pred Value : 0.65246         \n",
            "         Neg Pred Value : 0.83764         \n",
            "             Prevalence : 0.22285         \n",
            "         Detection Rate : 0.08053         \n",
            "   Detection Prevalence : 0.12343         \n",
            "      Balanced Accuracy : 0.65309         \n",
            "                                          \n",
            "       'Positive' Class : 1               \n",
            "                                          \n"
          ]
        }
      ]
    },
    {
      "cell_type": "markdown",
      "source": [
        "O modelo tem uma boa acurácia (81%), porém classificou 1055 que pagaram em não pagantes. Isso pode causar problemas para a instituição. Vamos tentar balancear as classes e melhorar essas classificações."
      ],
      "metadata": {
        "id": "dC7HXF8gf43V"
      }
    },
    {
      "cell_type": "code",
      "source": [
        "# Calculando Precision, Recall e F1-Score, métricas de avaliação do modelo preditivo\n",
        "%%R\n",
        "y <- dados_teste$inadimplente\n",
        "y_pred_v1 <- previsoes_v1"
      ],
      "metadata": {
        "id": "D-HknekJBgah"
      },
      "execution_count": null,
      "outputs": []
    },
    {
      "cell_type": "code",
      "source": [
        "%%R\n",
        "precision <- posPredValue(y_pred_v1, y)\n",
        "precision"
      ],
      "metadata": {
        "colab": {
          "base_uri": "https://localhost:8080/"
        },
        "id": "xIoDwe1GBp_c",
        "outputId": "3597310e-4139-4c71-f3cf-14b359af5231"
      },
      "execution_count": null,
      "outputs": [
        {
          "output_type": "stream",
          "name": "stdout",
          "text": [
            "[1] 0.8376424\n"
          ]
        }
      ]
    },
    {
      "cell_type": "code",
      "source": [
        "%%R\n",
        "recall <- sensitivity(y_pred_v1, y)\n",
        "recall"
      ],
      "metadata": {
        "colab": {
          "base_uri": "https://localhost:8080/"
        },
        "id": "z-wDdJ1bBtkx",
        "outputId": "0408994c-7edb-4fec-b4be-a2f18a08b6fa"
      },
      "execution_count": null,
      "outputs": [
        {
          "output_type": "stream",
          "name": "stdout",
          "text": [
            "[1] 0.9448012\n"
          ]
        }
      ]
    },
    {
      "cell_type": "code",
      "source": [
        "%%R\n",
        "F1 <- (2 * precision * recall) / (precision + recall)\n",
        "F1"
      ],
      "metadata": {
        "colab": {
          "base_uri": "https://localhost:8080/"
        },
        "id": "lOzmC8-1Bxej",
        "outputId": "e52a37e6-f73e-43f6-a415-6e3c5f7cdb6c"
      },
      "execution_count": null,
      "outputs": [
        {
          "output_type": "stream",
          "name": "stdout",
          "text": [
            "[1] 0.8880007\n"
          ]
        }
      ]
    },
    {
      "cell_type": "code",
      "source": [
        "# Balanceamento de classe\n",
        "%%R\n",
        "install.packages('abind')\n",
        "install.packages('zoo')\n",
        "install.packages('xts')\n",
        "install.packages('quantmod')\n",
        "install.packages('ROCR')"
      ],
      "metadata": {
        "colab": {
          "base_uri": "https://localhost:8080/"
        },
        "id": "hTyq736fB1-m",
        "outputId": "f7c07fc8-2d91-4e05-9cf9-8da73d217f27"
      },
      "execution_count": null,
      "outputs": [
        {
          "output_type": "stream",
          "name": "stderr",
          "text": [
            "R[write to console]: Installing package into ‘/usr/local/lib/R/site-library’\n",
            "(as ‘lib’ is unspecified)\n",
            "\n",
            "R[write to console]: trying URL 'https://cran.rstudio.com/src/contrib/abind_1.4-5.tar.gz'\n",
            "\n",
            "R[write to console]: Content type 'application/x-gzip'\n",
            "R[write to console]:  length 21810 bytes (21 KB)\n",
            "\n",
            "R[write to console]: =\n",
            "R[write to console]: =\n",
            "R[write to console]: =\n",
            "R[write to console]: =\n",
            "R[write to console]: =\n",
            "R[write to console]: =\n",
            "R[write to console]: =\n",
            "R[write to console]: =\n",
            "R[write to console]: =\n",
            "R[write to console]: =\n",
            "R[write to console]: =\n",
            "R[write to console]: =\n",
            "R[write to console]: =\n",
            "R[write to console]: =\n",
            "R[write to console]: =\n",
            "R[write to console]: =\n",
            "R[write to console]: =\n",
            "R[write to console]: =\n",
            "R[write to console]: =\n",
            "R[write to console]: =\n",
            "R[write to console]: =\n",
            "R[write to console]: =\n",
            "R[write to console]: =\n",
            "R[write to console]: =\n",
            "R[write to console]: =\n",
            "R[write to console]: =\n",
            "R[write to console]: =\n",
            "R[write to console]: =\n",
            "R[write to console]: =\n",
            "R[write to console]: =\n",
            "R[write to console]: =\n",
            "R[write to console]: =\n",
            "R[write to console]: =\n",
            "R[write to console]: =\n",
            "R[write to console]: =\n",
            "R[write to console]: =\n",
            "R[write to console]: =\n",
            "R[write to console]: =\n",
            "R[write to console]: =\n",
            "R[write to console]: =\n",
            "R[write to console]: =\n",
            "R[write to console]: =\n",
            "R[write to console]: =\n",
            "R[write to console]: =\n",
            "R[write to console]: =\n",
            "R[write to console]: =\n",
            "R[write to console]: =\n",
            "R[write to console]: =\n",
            "R[write to console]: =\n",
            "R[write to console]: =\n",
            "R[write to console]: \n",
            "\n",
            "R[write to console]: downloaded 21 KB\n",
            "\n",
            "\n",
            "R[write to console]: \n",
            "\n",
            "R[write to console]: \n",
            "R[write to console]: The downloaded source packages are in\n",
            "\t‘/tmp/Rtmpbr5fDm/downloaded_packages’\n",
            "R[write to console]: \n",
            "R[write to console]: \n",
            "\n",
            "R[write to console]: Installing package into ‘/usr/local/lib/R/site-library’\n",
            "(as ‘lib’ is unspecified)\n",
            "\n",
            "R[write to console]: trying URL 'https://cran.rstudio.com/src/contrib/zoo_1.8-9.tar.gz'\n",
            "\n",
            "R[write to console]: Content type 'application/x-gzip'\n",
            "R[write to console]:  length 793891 bytes (775 KB)\n",
            "\n",
            "R[write to console]: =\n",
            "R[write to console]: =\n",
            "R[write to console]: =\n",
            "R[write to console]: =\n",
            "R[write to console]: =\n",
            "R[write to console]: =\n",
            "R[write to console]: =\n",
            "R[write to console]: =\n",
            "R[write to console]: =\n",
            "R[write to console]: =\n",
            "R[write to console]: =\n",
            "R[write to console]: =\n",
            "R[write to console]: =\n",
            "R[write to console]: =\n",
            "R[write to console]: =\n",
            "R[write to console]: =\n",
            "R[write to console]: =\n",
            "R[write to console]: =\n",
            "R[write to console]: =\n",
            "R[write to console]: =\n",
            "R[write to console]: =\n",
            "R[write to console]: =\n",
            "R[write to console]: =\n",
            "R[write to console]: =\n",
            "R[write to console]: =\n",
            "R[write to console]: =\n",
            "R[write to console]: =\n",
            "R[write to console]: =\n",
            "R[write to console]: =\n",
            "R[write to console]: =\n",
            "R[write to console]: =\n",
            "R[write to console]: =\n",
            "R[write to console]: =\n",
            "R[write to console]: =\n",
            "R[write to console]: =\n",
            "R[write to console]: =\n",
            "R[write to console]: =\n",
            "R[write to console]: =\n",
            "R[write to console]: =\n",
            "R[write to console]: =\n",
            "R[write to console]: =\n",
            "R[write to console]: =\n",
            "R[write to console]: =\n",
            "R[write to console]: =\n",
            "R[write to console]: =\n",
            "R[write to console]: =\n",
            "R[write to console]: =\n",
            "R[write to console]: =\n",
            "R[write to console]: =\n",
            "R[write to console]: =\n",
            "R[write to console]: \n",
            "\n",
            "R[write to console]: downloaded 775 KB\n",
            "\n",
            "\n",
            "R[write to console]: \n",
            "\n",
            "R[write to console]: \n",
            "R[write to console]: The downloaded source packages are in\n",
            "\t‘/tmp/Rtmpbr5fDm/downloaded_packages’\n",
            "R[write to console]: \n",
            "R[write to console]: \n",
            "\n",
            "R[write to console]: Installing package into ‘/usr/local/lib/R/site-library’\n",
            "(as ‘lib’ is unspecified)\n",
            "\n",
            "R[write to console]: trying URL 'https://cran.rstudio.com/src/contrib/xts_0.12.1.tar.gz'\n",
            "\n",
            "R[write to console]: Content type 'application/x-gzip'\n",
            "R[write to console]:  length 517875 bytes (505 KB)\n",
            "\n",
            "R[write to console]: =\n",
            "R[write to console]: =\n",
            "R[write to console]: =\n",
            "R[write to console]: =\n",
            "R[write to console]: =\n",
            "R[write to console]: =\n",
            "R[write to console]: =\n",
            "R[write to console]: =\n",
            "R[write to console]: =\n",
            "R[write to console]: =\n",
            "R[write to console]: =\n",
            "R[write to console]: =\n",
            "R[write to console]: =\n",
            "R[write to console]: =\n",
            "R[write to console]: =\n",
            "R[write to console]: =\n",
            "R[write to console]: =\n",
            "R[write to console]: =\n",
            "R[write to console]: =\n",
            "R[write to console]: =\n",
            "R[write to console]: =\n",
            "R[write to console]: =\n",
            "R[write to console]: =\n",
            "R[write to console]: =\n",
            "R[write to console]: =\n",
            "R[write to console]: =\n",
            "R[write to console]: =\n",
            "R[write to console]: =\n",
            "R[write to console]: =\n",
            "R[write to console]: =\n",
            "R[write to console]: =\n",
            "R[write to console]: =\n",
            "R[write to console]: =\n",
            "R[write to console]: =\n",
            "R[write to console]: =\n",
            "R[write to console]: =\n",
            "R[write to console]: =\n",
            "R[write to console]: =\n",
            "R[write to console]: =\n",
            "R[write to console]: =\n",
            "R[write to console]: =\n",
            "R[write to console]: =\n",
            "R[write to console]: =\n",
            "R[write to console]: =\n",
            "R[write to console]: =\n",
            "R[write to console]: =\n",
            "R[write to console]: =\n",
            "R[write to console]: =\n",
            "R[write to console]: =\n",
            "R[write to console]: =\n",
            "R[write to console]: \n",
            "\n",
            "R[write to console]: downloaded 505 KB\n",
            "\n",
            "\n",
            "R[write to console]: \n",
            "\n",
            "R[write to console]: \n",
            "R[write to console]: The downloaded source packages are in\n",
            "\t‘/tmp/Rtmpbr5fDm/downloaded_packages’\n",
            "R[write to console]: \n",
            "R[write to console]: \n",
            "\n",
            "R[write to console]: Installing package into ‘/usr/local/lib/R/site-library’\n",
            "(as ‘lib’ is unspecified)\n",
            "\n",
            "R[write to console]: trying URL 'https://cran.rstudio.com/src/contrib/quantmod_0.4.18.tar.gz'\n",
            "\n",
            "R[write to console]: Content type 'application/x-gzip'\n",
            "R[write to console]:  length 154512 bytes (150 KB)\n",
            "\n",
            "R[write to console]: =\n",
            "R[write to console]: =\n",
            "R[write to console]: =\n",
            "R[write to console]: =\n",
            "R[write to console]: =\n",
            "R[write to console]: =\n",
            "R[write to console]: =\n",
            "R[write to console]: =\n",
            "R[write to console]: =\n",
            "R[write to console]: =\n",
            "R[write to console]: =\n",
            "R[write to console]: =\n",
            "R[write to console]: =\n",
            "R[write to console]: =\n",
            "R[write to console]: =\n",
            "R[write to console]: =\n",
            "R[write to console]: =\n",
            "R[write to console]: =\n",
            "R[write to console]: =\n",
            "R[write to console]: =\n",
            "R[write to console]: =\n",
            "R[write to console]: =\n",
            "R[write to console]: =\n",
            "R[write to console]: =\n",
            "R[write to console]: =\n",
            "R[write to console]: =\n",
            "R[write to console]: =\n",
            "R[write to console]: =\n",
            "R[write to console]: =\n",
            "R[write to console]: =\n",
            "R[write to console]: =\n",
            "R[write to console]: =\n",
            "R[write to console]: =\n",
            "R[write to console]: =\n",
            "R[write to console]: =\n",
            "R[write to console]: =\n",
            "R[write to console]: =\n",
            "R[write to console]: =\n",
            "R[write to console]: =\n",
            "R[write to console]: =\n",
            "R[write to console]: =\n",
            "R[write to console]: =\n",
            "R[write to console]: =\n",
            "R[write to console]: =\n",
            "R[write to console]: =\n",
            "R[write to console]: =\n",
            "R[write to console]: =\n",
            "R[write to console]: =\n",
            "R[write to console]: =\n",
            "R[write to console]: =\n",
            "R[write to console]: \n",
            "\n",
            "R[write to console]: downloaded 150 KB\n",
            "\n",
            "\n",
            "R[write to console]: \n",
            "\n",
            "R[write to console]: \n",
            "R[write to console]: The downloaded source packages are in\n",
            "\t‘/tmp/Rtmpbr5fDm/downloaded_packages’\n",
            "R[write to console]: \n",
            "R[write to console]: \n",
            "\n",
            "R[write to console]: Installing package into ‘/usr/local/lib/R/site-library’\n",
            "(as ‘lib’ is unspecified)\n",
            "\n",
            "R[write to console]: trying URL 'https://cran.rstudio.com/src/contrib/ROCR_1.0-11.tar.gz'\n",
            "\n",
            "R[write to console]: Content type 'application/x-gzip'\n",
            "R[write to console]:  length 271680 bytes (265 KB)\n",
            "\n",
            "R[write to console]: =\n",
            "R[write to console]: =\n",
            "R[write to console]: =\n",
            "R[write to console]: =\n",
            "R[write to console]: =\n",
            "R[write to console]: =\n",
            "R[write to console]: =\n",
            "R[write to console]: =\n",
            "R[write to console]: =\n",
            "R[write to console]: =\n",
            "R[write to console]: =\n",
            "R[write to console]: =\n",
            "R[write to console]: =\n",
            "R[write to console]: =\n",
            "R[write to console]: =\n",
            "R[write to console]: =\n",
            "R[write to console]: =\n",
            "R[write to console]: =\n",
            "R[write to console]: =\n",
            "R[write to console]: =\n",
            "R[write to console]: =\n",
            "R[write to console]: =\n",
            "R[write to console]: =\n",
            "R[write to console]: =\n",
            "R[write to console]: =\n",
            "R[write to console]: =\n",
            "R[write to console]: =\n",
            "R[write to console]: =\n",
            "R[write to console]: =\n",
            "R[write to console]: =\n",
            "R[write to console]: =\n",
            "R[write to console]: =\n",
            "R[write to console]: =\n",
            "R[write to console]: =\n",
            "R[write to console]: =\n",
            "R[write to console]: =\n",
            "R[write to console]: =\n",
            "R[write to console]: =\n",
            "R[write to console]: =\n",
            "R[write to console]: =\n",
            "R[write to console]: =\n",
            "R[write to console]: =\n",
            "R[write to console]: =\n",
            "R[write to console]: =\n",
            "R[write to console]: =\n",
            "R[write to console]: =\n",
            "R[write to console]: =\n",
            "R[write to console]: =\n",
            "R[write to console]: =\n",
            "R[write to console]: =\n",
            "R[write to console]: \n",
            "\n",
            "R[write to console]: downloaded 265 KB\n",
            "\n",
            "\n",
            "R[write to console]: \n",
            "\n",
            "R[write to console]: \n",
            "R[write to console]: The downloaded source packages are in\n",
            "\t‘/tmp/Rtmpbr5fDm/downloaded_packages’\n",
            "R[write to console]: \n",
            "R[write to console]: \n",
            "\n",
            "R[write to console]: Installing package into ‘/usr/local/lib/R/site-library’\n",
            "(as ‘lib’ is unspecified)\n",
            "\n"
          ]
        }
      ]
    },
    {
      "cell_type": "code",
      "source": [
        "%%R\n",
        "install.packages( \"https://cran.r-project.org/src/contrib/Archive/DMwR/DMwR_0.4.1.tar.gz\", repos=NULL, type=\"source\" )"
      ],
      "metadata": {
        "colab": {
          "base_uri": "https://localhost:8080/"
        },
        "id": "xF56cvmYGQpQ",
        "outputId": "6eda899a-c94c-45eb-de02-6d36ec381380"
      },
      "execution_count": null,
      "outputs": [
        {
          "output_type": "stream",
          "name": "stderr",
          "text": [
            "R[write to console]: Installing package into ‘/usr/local/lib/R/site-library’\n",
            "(as ‘lib’ is unspecified)\n",
            "\n",
            "R[write to console]: trying URL 'https://cran.r-project.org/src/contrib/Archive/DMwR/DMwR_0.4.1.tar.gz'\n",
            "\n",
            "R[write to console]: Content type 'application/x-gzip'\n",
            "R[write to console]:  length 1941361 bytes (1.9 MB)\n",
            "\n",
            "R[write to console]: =\n",
            "R[write to console]: =\n",
            "R[write to console]: =\n",
            "R[write to console]: =\n",
            "R[write to console]: =\n",
            "R[write to console]: =\n",
            "R[write to console]: =\n",
            "R[write to console]: =\n",
            "R[write to console]: =\n",
            "R[write to console]: =\n",
            "R[write to console]: =\n",
            "R[write to console]: =\n",
            "R[write to console]: =\n",
            "R[write to console]: =\n",
            "R[write to console]: =\n",
            "R[write to console]: =\n",
            "R[write to console]: =\n",
            "R[write to console]: =\n",
            "R[write to console]: =\n",
            "R[write to console]: =\n",
            "R[write to console]: =\n",
            "R[write to console]: =\n",
            "R[write to console]: =\n",
            "R[write to console]: =\n",
            "R[write to console]: =\n",
            "R[write to console]: =\n",
            "R[write to console]: =\n",
            "R[write to console]: =\n",
            "R[write to console]: =\n",
            "R[write to console]: =\n",
            "R[write to console]: =\n",
            "R[write to console]: =\n",
            "R[write to console]: =\n",
            "R[write to console]: =\n",
            "R[write to console]: =\n",
            "R[write to console]: =\n",
            "R[write to console]: =\n",
            "R[write to console]: =\n",
            "R[write to console]: =\n",
            "R[write to console]: =\n",
            "R[write to console]: =\n",
            "R[write to console]: =\n",
            "R[write to console]: =\n",
            "R[write to console]: =\n",
            "R[write to console]: =\n",
            "R[write to console]: =\n",
            "R[write to console]: =\n",
            "R[write to console]: =\n",
            "R[write to console]: =\n",
            "R[write to console]: =\n",
            "R[write to console]: \n",
            "\n",
            "R[write to console]: downloaded 1.9 MB\n",
            "\n",
            "\n"
          ]
        }
      ]
    },
    {
      "cell_type": "code",
      "source": [
        "%%R\n",
        "library(DMwR)"
      ],
      "metadata": {
        "colab": {
          "base_uri": "https://localhost:8080/"
        },
        "id": "9o8IwaIBB81E",
        "outputId": "fd64ee20-82db-4f0d-ea33-b5c548895ec2"
      },
      "execution_count": null,
      "outputs": [
        {
          "output_type": "stream",
          "name": "stderr",
          "text": [
            "R[write to console]: Loading required package: grid\n",
            "\n",
            "R[write to console]: \n",
            "Attaching package: ‘DMwR’\n",
            "\n",
            "\n",
            "R[write to console]: The following objects are masked from ‘package:DMwR2’:\n",
            "\n",
            "    .Eq, .St, algae, algae.sols, centralImputation, centralValue, GSPC,\n",
            "    kNN, knnImputation, lofactor, manyNAs, outliers.ranking, rpartXse,\n",
            "    rt.prune, sales, SelfTrain, sigs.PR, SoftMax, test.algae,\n",
            "    tradeRecord, trading.signals, trading.simulator, tradingEvaluation\n",
            "\n",
            "\n"
          ]
        }
      ]
    },
    {
      "cell_type": "code",
      "source": [
        "# Aplicando o SMOTE - SMOTE: Synthetic Minority Over-sampling Technique\n",
        "# https://arxiv.org/pdf/1106.1813.pdf\n",
        "%%R\n",
        "table(dados_treino$inadimplente)"
      ],
      "metadata": {
        "colab": {
          "base_uri": "https://localhost:8080/"
        },
        "id": "mHJ7SrLHCD0g",
        "outputId": "d1e6d2e8-fcf9-467f-ff0a-fb70ed520f40"
      },
      "execution_count": null,
      "outputs": [
        {
          "output_type": "stream",
          "name": "stdout",
          "text": [
            "\n",
            "    0     1 \n",
            "17284  4958 \n"
          ]
        }
      ]
    },
    {
      "cell_type": "code",
      "source": [
        "%%R\n",
        "prop.table(table(dados_treino$inadimplente))"
      ],
      "metadata": {
        "colab": {
          "base_uri": "https://localhost:8080/"
        },
        "id": "zycH-ofgDZQZ",
        "outputId": "d0f93576-4d95-4a73-beea-ede7087cd8fa"
      },
      "execution_count": null,
      "outputs": [
        {
          "output_type": "stream",
          "name": "stdout",
          "text": [
            "\n",
            "        0         1 \n",
            "0.7770884 0.2229116 \n"
          ]
        }
      ]
    },
    {
      "cell_type": "code",
      "source": [
        "%%R\n",
        "set.seed(9560)"
      ],
      "metadata": {
        "id": "bbWhLTEEDdVW"
      },
      "execution_count": null,
      "outputs": []
    },
    {
      "cell_type": "code",
      "source": [
        "%%R\n",
        "dados_treino_bal <- SMOTE(inadimplente ~ ., data  = dados_treino)                         \n",
        "table(dados_treino_bal$inadimplente)"
      ],
      "metadata": {
        "colab": {
          "base_uri": "https://localhost:8080/"
        },
        "id": "C1ovmo1UDh-q",
        "outputId": "faa0e068-8a2b-4f31-e812-3be7f6c3e2d6"
      },
      "execution_count": null,
      "outputs": [
        {
          "output_type": "stream",
          "name": "stdout",
          "text": [
            "\n",
            "    0     1 \n",
            "19832 14874 \n"
          ]
        }
      ]
    },
    {
      "cell_type": "code",
      "source": [
        "%%R\n",
        "prop.table(table(dados_treino_bal$inadimplente))"
      ],
      "metadata": {
        "colab": {
          "base_uri": "https://localhost:8080/"
        },
        "id": "ot4Al-sYGcil",
        "outputId": "b45d4a06-4147-4ff4-f89e-367954ad91fc"
      },
      "execution_count": null,
      "outputs": [
        {
          "output_type": "stream",
          "name": "stdout",
          "text": [
            "\n",
            "        0         1 \n",
            "0.5714286 0.4285714 \n"
          ]
        }
      ]
    },
    {
      "cell_type": "code",
      "source": [
        "# Construindo a segunda versão do modelo\n",
        "%%R\n",
        "modelo_v2 <- randomForest(inadimplente ~ ., data = dados_treino_bal)\n",
        "modelo_v2"
      ],
      "metadata": {
        "colab": {
          "base_uri": "https://localhost:8080/"
        },
        "id": "b_ptOvJXDnjZ",
        "outputId": "4020d303-e64a-41b1-e645-242698c33b82"
      },
      "execution_count": null,
      "outputs": [
        {
          "output_type": "stream",
          "name": "stdout",
          "text": [
            "\n",
            "Call:\n",
            " randomForest(formula = inadimplente ~ ., data = dados_treino_bal) \n",
            "               Type of random forest: classification\n",
            "                     Number of trees: 500\n",
            "No. of variables tried at each split: 4\n",
            "\n",
            "        OOB estimate of  error rate: 10.13%\n",
            "Confusion matrix:\n",
            "      0     1 class.error\n",
            "0 19005   827  0.04170028\n",
            "1  2690 12184  0.18085249\n"
          ]
        }
      ]
    },
    {
      "cell_type": "code",
      "source": [
        "# Avaliando o modelo\n",
        "%%R\n",
        "plot(modelo_v2)"
      ],
      "metadata": {
        "colab": {
          "base_uri": "https://localhost:8080/",
          "height": 496
        },
        "id": "GLWkl-pnGmSH",
        "outputId": "c4295865-750f-4c6d-f463-2d989ca524b9"
      },
      "execution_count": null,
      "outputs": [
        {
          "output_type": "display_data",
          "data": {
            "image/png": "[encoded data removed]"
          },
          "metadata": {}
        }
      ]
    },
    {
      "cell_type": "code",
      "source": [
        "# Previsões com dados de teste\n",
        "%%R\n",
        "previsoes_v2 <- predict(modelo_v2, dados_teste)"
      ],
      "metadata": {
        "id": "0keg75cmHAsj"
      },
      "execution_count": null,
      "outputs": []
    },
    {
      "cell_type": "code",
      "source": [
        "# Confusion Matrix\n",
        "%%R\n",
        "cm_v2 <- caret::confusionMatrix(previsoes_v2, dados_teste$inadimplente, positive = \"1\")\n",
        "cm_v2"
      ],
      "metadata": {
        "colab": {
          "base_uri": "https://localhost:8080/"
        },
        "id": "ylwsQjf-HRvJ",
        "outputId": "196a6a74-0222-497b-c6f6-aada4b7e0566"
      },
      "execution_count": null,
      "outputs": [
        {
          "output_type": "stream",
          "name": "stdout",
          "text": [
            "Confusion Matrix and Statistics\n",
            "\n",
            "          Reference\n",
            "Prediction    0    1\n",
            "         0 5044  811\n",
            "         1  717  841\n",
            "                                         \n",
            "               Accuracy : 0.7939         \n",
            "                 95% CI : (0.7845, 0.803)\n",
            "    No Information Rate : 0.7771         \n",
            "    P-Value [Acc > NIR] : 0.0002545      \n",
            "                                         \n",
            "                  Kappa : 0.3926         \n",
            "                                         \n",
            " Mcnemar's Test P-Value : 0.0173528      \n",
            "                                         \n",
            "            Sensitivity : 0.5091         \n",
            "            Specificity : 0.8755         \n",
            "         Pos Pred Value : 0.5398         \n",
            "         Neg Pred Value : 0.8615         \n",
            "             Prevalence : 0.2229         \n",
            "         Detection Rate : 0.1134         \n",
            "   Detection Prevalence : 0.2102         \n",
            "      Balanced Accuracy : 0.6923         \n",
            "                                         \n",
            "       'Positive' Class : 1              \n",
            "                                         \n"
          ]
        }
      ]
    },
    {
      "cell_type": "code",
      "source": [
        "# Calculando Precision, Recall e F1-Score, métricas de avaliação do modelo preditivo\n",
        "%%R\n",
        "y <- dados_teste$inadimplente\n",
        "y_pred_v2 <- previsoes_v2"
      ],
      "metadata": {
        "id": "BmNXSz1UHYjW"
      },
      "execution_count": null,
      "outputs": []
    },
    {
      "cell_type": "code",
      "source": [
        "%%R\n",
        "precision <- posPredValue(y_pred_v2, y)\n",
        "precision"
      ],
      "metadata": {
        "colab": {
          "base_uri": "https://localhost:8080/"
        },
        "id": "udo4vEMsHd3W",
        "outputId": "17bf662f-14eb-4c1c-e393-14f25d2b5d48"
      },
      "execution_count": null,
      "outputs": [
        {
          "output_type": "stream",
          "name": "stdout",
          "text": [
            "[1] 0.8614859\n"
          ]
        }
      ]
    },
    {
      "cell_type": "code",
      "source": [
        "%%R\n",
        "recall <- sensitivity(y_pred_v2, y)\n",
        "recall"
      ],
      "metadata": {
        "colab": {
          "base_uri": "https://localhost:8080/"
        },
        "id": "GAwkLRxEHhxg",
        "outputId": "d6d36549-69b7-4cc6-c871-e94576bee71a"
      },
      "execution_count": null,
      "outputs": [
        {
          "output_type": "stream",
          "name": "stdout",
          "text": [
            "[1] 0.8755424\n"
          ]
        }
      ]
    },
    {
      "cell_type": "code",
      "source": [
        "%%R\n",
        "F1 <- (2 * precision * recall) / (precision + recall)\n",
        "F1"
      ],
      "metadata": {
        "colab": {
          "base_uri": "https://localhost:8080/"
        },
        "id": "M65g32I2HlhE",
        "outputId": "98f90a52-2676-48e6-8537-052a075a5a0d"
      },
      "execution_count": null,
      "outputs": [
        {
          "output_type": "stream",
          "name": "stdout",
          "text": [
            "[1] 0.8684573\n"
          ]
        }
      ]
    },
    {
      "cell_type": "code",
      "source": [
        "# Importância das variáveis preditoras para as previsões\n",
        "%%R\n",
        "head(dados_treino_bal)"
      ],
      "metadata": {
        "colab": {
          "base_uri": "https://localhost:8080/"
        },
        "id": "GOVTtwIwHpFY",
        "outputId": "aa680554-6dcc-4f72-9f7d-9daf42adda74"
      },
      "execution_count": null,
      "outputs": [
        {
          "output_type": "stream",
          "name": "stdout",
          "text": [
            "      LIMIT_BAL    Genero Escolaridade Estado_Civil  Idade PAY_0 PAY_2 PAY_3\n",
            "10123     50000 Masculino Ensino Medio     Solteiro  Jovem     0     0     0\n",
            "634      210000  Feminino     Graduado       Casado Adulto    -2    -2    -2\n",
            "23633    210000  Feminino Ensino Medio     Solteiro Adulto    -1    -1    -1\n",
            "26684     30000 Masculino Pos Graduado     Solteiro  Jovem     0     0     0\n",
            "16998    130000  Feminino     Graduado     Solteiro  Jovem    -2    -2    -2\n",
            "9491      50000  Feminino     Graduado       Casado  Jovem     0     0     0\n",
            "      PAY_4 PAY_5 PAY_6 BILL_AMT1 BILL_AMT2 BILL_AMT3 BILL_AMT4 BILL_AMT5\n",
            "10123    -1    -1    -1      7965      8404     10240       170      -220\n",
            "634      -2    -2    -2         0         0         0         0         0\n",
            "23633    -2    -2    -2      7605      1170         0         0         0\n",
            "26684     2     0     0     28436     28845     31071     30248     30354\n",
            "16998    -2    -2    -2      -169      3464      7569      8130       544\n",
            "9491      0     0     0     48255     41550     35553     23711     25975\n",
            "      BILL_AMT6 PAY_AMT1 PAY_AMT2 PAY_AMT3 PAY_AMT4 PAY_AMT5 PAY_AMT6\n",
            "10123       390     1500     2000      170        0     1000     3309\n",
            "634           0        0        0        0        0        0        0\n",
            "23633         0     1170        0        0        0        0     3015\n",
            "26684     29088     1800     3300        0     1500     1500     1300\n",
            "16998       148     4739    22271     8526      544      148    72392\n",
            "9491        900     2400     1842     1000     1928      900    31150\n",
            "      inadimplente\n",
            "10123            0\n",
            "634              0\n",
            "23633            0\n",
            "26684            0\n",
            "16998            0\n",
            "9491             0\n"
          ]
        }
      ]
    },
    {
      "cell_type": "code",
      "source": [
        "%%R\n",
        "varImpPlot(modelo_v2)"
      ],
      "metadata": {
        "colab": {
          "base_uri": "https://localhost:8080/",
          "height": 496
        },
        "id": "QbpumAYwHuFB",
        "outputId": "78013083-b19b-4157-8442-0e7de83b0749"
      },
      "execution_count": null,
      "outputs": [
        {
          "output_type": "display_data",
          "data": {
            "image/png": "[encoded data removed]"
          },
          "metadata": {}
        }
      ]
    },
    {
      "cell_type": "code",
      "source": [
        "# Obtendo as variáveis mais importantes\n",
        "%%R\n",
        "imp_var <- importance(modelo_v2)\n",
        "varImportance <- data.frame(Variables = row.names(imp_var), \n",
        "                            Importance = round(imp_var[ ,'MeanDecreaseGini'],2))"
      ],
      "metadata": {
        "id": "nFi_dgd_H1Ir"
      },
      "execution_count": null,
      "outputs": []
    },
    {
      "cell_type": "code",
      "source": [
        "# Criando o rank de variáveis baseado na importância\n",
        "%%R\n",
        "rankImportance <- varImportance %>% \n",
        "  mutate(Rank = paste0('#', dense_rank(desc(Importance))))"
      ],
      "metadata": {
        "id": "hyLZC8p1H7f8"
      },
      "execution_count": null,
      "outputs": []
    },
    {
      "cell_type": "code",
      "source": [
        "# Usando ggplot2 para visualizar a importância relativa das variáveis\n",
        "%%R\n",
        "ggplot(rankImportance, \n",
        "       aes(x = reorder(Variables, Importance), \n",
        "           y = Importance, \n",
        "           fill = Importance)) + \n",
        "  geom_bar(stat='identity') + \n",
        "  geom_text(aes(x = Variables, y = 0.5, label = Rank), \n",
        "            hjust = 0, \n",
        "            vjust = 0.55, \n",
        "            size = 4, \n",
        "            colour = 'red') +\n",
        "  labs(x = 'Variables') +\n",
        "  coord_flip() "
      ],
      "metadata": {
        "colab": {
          "base_uri": "https://localhost:8080/",
          "height": 496
        },
        "id": "_cXwbT8iICPE",
        "outputId": "ae89c744-d0b4-4534-e125-3cdcd863f734"
      },
      "execution_count": null,
      "outputs": [
        {
          "output_type": "display_data",
          "data": {
            "image/png": "[encoded data removed]"
          },
          "metadata": {}
        }
      ]
    },
    {
      "cell_type": "code",
      "source": [
        "# Construindo a terceira versão do modelo apenas com as variáveis mais importantes\n",
        "%%R\n",
        "colnames(dados_treino_bal)"
      ],
      "metadata": {
        "colab": {
          "base_uri": "https://localhost:8080/"
        },
        "id": "WbGi16oZIHrq",
        "outputId": "3e08e1cc-ee01-4f15-d982-e3a1bed58979"
      },
      "execution_count": null,
      "outputs": [
        {
          "output_type": "stream",
          "name": "stdout",
          "text": [
            " [1] \"LIMIT_BAL\"    \"Genero\"       \"Escolaridade\" \"Estado_Civil\" \"Idade\"       \n",
            " [6] \"PAY_0\"        \"PAY_2\"        \"PAY_3\"        \"PAY_4\"        \"PAY_5\"       \n",
            "[11] \"PAY_6\"        \"BILL_AMT1\"    \"BILL_AMT2\"    \"BILL_AMT3\"    \"BILL_AMT4\"   \n",
            "[16] \"BILL_AMT5\"    \"BILL_AMT6\"    \"PAY_AMT1\"     \"PAY_AMT2\"     \"PAY_AMT3\"    \n",
            "[21] \"PAY_AMT4\"     \"PAY_AMT5\"     \"PAY_AMT6\"     \"inadimplente\"\n"
          ]
        }
      ]
    },
    {
      "cell_type": "code",
      "source": [
        "%%R\n",
        "modelo_v3 <- randomForest(inadimplente ~ PAY_0 + PAY_2 + PAY_3 + PAY_AMT1 + PAY_AMT2 + PAY_5 + BILL_AMT1, \n",
        "                          data = dados_treino_bal)\n",
        "modelo_v3"
      ],
      "metadata": {
        "colab": {
          "base_uri": "https://localhost:8080/"
        },
        "id": "KLntNEaGIOP6",
        "outputId": "5abe209a-dc5a-43b7-d3bd-c941da4612cb"
      },
      "execution_count": null,
      "outputs": [
        {
          "output_type": "stream",
          "name": "stdout",
          "text": [
            "\n",
            "Call:\n",
            " randomForest(formula = inadimplente ~ PAY_0 + PAY_2 + PAY_3 +      PAY_AMT1 + PAY_AMT2 + PAY_5 + BILL_AMT1, data = dados_treino_bal) \n",
            "               Type of random forest: classification\n",
            "                     Number of trees: 500\n",
            "No. of variables tried at each split: 2\n",
            "\n",
            "        OOB estimate of  error rate: 13.59%\n",
            "Confusion matrix:\n",
            "      0     1 class.error\n",
            "0 18844   988  0.04981848\n",
            "1  3727 11147  0.25057147\n"
          ]
        }
      ]
    },
    {
      "cell_type": "code",
      "source": [
        "# Avaliando o modelo\n",
        "%%R\n",
        "plot(modelo_v3)"
      ],
      "metadata": {
        "colab": {
          "base_uri": "https://localhost:8080/",
          "height": 496
        },
        "id": "ejIbrs2jISBS",
        "outputId": "7226fdd5-814f-4c09-da45-9740366420fd"
      },
      "execution_count": null,
      "outputs": [
        {
          "output_type": "display_data",
          "data": {
            "image/png": "[encoded data removed]"
          },
          "metadata": {}
        }
      ]
    },
    {
      "cell_type": "code",
      "source": [
        "# Previsões com dados de teste\n",
        "%%R\n",
        "previsoes_v3 <- predict(modelo_v3, dados_teste)"
      ],
      "metadata": {
        "id": "7JQM8pXmIW1q"
      },
      "execution_count": null,
      "outputs": []
    },
    {
      "cell_type": "code",
      "source": [
        "# Confusion Matrix\n",
        "%%R\n",
        "cm_v3 <- caret::confusionMatrix(previsoes_v3, dados_teste$inadimplente, positive = \"1\")\n",
        "cm_v3"
      ],
      "metadata": {
        "colab": {
          "base_uri": "https://localhost:8080/"
        },
        "id": "PQ8hGORbIuTe",
        "outputId": "99b3da12-bb08-4d06-8f00-c7a8591811f4"
      },
      "execution_count": null,
      "outputs": [
        {
          "output_type": "stream",
          "name": "stdout",
          "text": [
            "Confusion Matrix and Statistics\n",
            "\n",
            "          Reference\n",
            "Prediction    0    1\n",
            "         0 5205  945\n",
            "         1  556  707\n",
            "                                          \n",
            "               Accuracy : 0.7975          \n",
            "                 95% CI : (0.7882, 0.8066)\n",
            "    No Information Rate : 0.7771          \n",
            "    P-Value [Acc > NIR] : 1.092e-05       \n",
            "                                          \n",
            "                  Kappa : 0.3618          \n",
            "                                          \n",
            " Mcnemar's Test P-Value : < 2.2e-16       \n",
            "                                          \n",
            "            Sensitivity : 0.42797         \n",
            "            Specificity : 0.90349         \n",
            "         Pos Pred Value : 0.55978         \n",
            "         Neg Pred Value : 0.84634         \n",
            "             Prevalence : 0.22285         \n",
            "         Detection Rate : 0.09537         \n",
            "   Detection Prevalence : 0.17038         \n",
            "      Balanced Accuracy : 0.66573         \n",
            "                                          \n",
            "       'Positive' Class : 1               \n",
            "                                          \n"
          ]
        }
      ]
    },
    {
      "cell_type": "code",
      "source": [
        "# Calculando Precision, Recall e F1-Score, métricas de avaliação do modelo preditivo\n",
        "%%R\n",
        "y <- dados_teste$inadimplente\n",
        "y_pred_v3 <- previsoes_v3"
      ],
      "metadata": {
        "id": "l6HnhxQDI0LP"
      },
      "execution_count": null,
      "outputs": []
    },
    {
      "cell_type": "code",
      "source": [
        "%%R\n",
        "precision <- posPredValue(y_pred_v3, y)\n",
        "precision"
      ],
      "metadata": {
        "colab": {
          "base_uri": "https://localhost:8080/"
        },
        "id": "GuSQssxVI4_X",
        "outputId": "53af8ac0-5ca9-4617-852b-fb771d1a2095"
      },
      "execution_count": null,
      "outputs": [
        {
          "output_type": "stream",
          "name": "stdout",
          "text": [
            "[1] 0.8463415\n"
          ]
        }
      ]
    },
    {
      "cell_type": "code",
      "source": [
        "%%R\n",
        "recall <- sensitivity(y_pred_v3, y)\n",
        "recall"
      ],
      "metadata": {
        "colab": {
          "base_uri": "https://localhost:8080/"
        },
        "id": "sKSnZ_mPI8rS",
        "outputId": "06c64f18-d646-4fd9-8d3f-4283a2f7682c"
      },
      "execution_count": null,
      "outputs": [
        {
          "output_type": "stream",
          "name": "stdout",
          "text": [
            "[1] 0.903489\n"
          ]
        }
      ]
    },
    {
      "cell_type": "code",
      "source": [
        "%%R\n",
        "F1 <- (2 * precision * recall) / (precision + recall)\n",
        "F1"
      ],
      "metadata": {
        "colab": {
          "base_uri": "https://localhost:8080/"
        },
        "id": "07UnoT1WJAGg",
        "outputId": "bd5cb66a-8490-4216-e641-71cb5c0c7e30"
      },
      "execution_count": null,
      "outputs": [
        {
          "output_type": "stream",
          "name": "stdout",
          "text": [
            "[1] 0.873982\n"
          ]
        }
      ]
    },
    {
      "cell_type": "code",
      "source": [
        "# Salvando o modelo em disco\n",
        "%%R\n",
        "saveRDS(modelo_v3, file = \"modelo_v3.rds\")"
      ],
      "metadata": {
        "id": "H_lmbksKJEIJ"
      },
      "execution_count": null,
      "outputs": []
    },
    {
      "cell_type": "code",
      "source": [
        "# Carregando o modelo\n",
        "%%R\n",
        "modelo_final <- readRDS(\"modelo_v3.rds\")"
      ],
      "metadata": {
        "id": "2px0XvRcJK2G"
      },
      "execution_count": null,
      "outputs": []
    },
    {
      "cell_type": "code",
      "source": [
        "# Previsões com novos dados de 3 clientes\n",
        "\n",
        "# Dados dos clientes\n",
        "%%R\n",
        "PAY_0 <- c(0, 0, 0) \n",
        "PAY_2 <- c(0, 0, 0) \n",
        "PAY_3 <- c(1, 0, 0) \n",
        "PAY_AMT1 <- c(1100, 1000, 1200) \n",
        "PAY_AMT2 <- c(1500, 1300, 1150) \n",
        "PAY_5 <- c(0, 0, 0) \n",
        "BILL_AMT1 <- c(350, 420, 280) "
      ],
      "metadata": {
        "id": "t95j4Hq0JY3o"
      },
      "execution_count": null,
      "outputs": []
    },
    {
      "cell_type": "code",
      "source": [
        "# Concatena em um dataframe\n",
        "%%R\n",
        "novos_clientes <- data.frame(PAY_0, PAY_2, PAY_3, PAY_AMT1, PAY_AMT2, PAY_5, BILL_AMT1)\n",
        "head(novos_clientes)"
      ],
      "metadata": {
        "colab": {
          "base_uri": "https://localhost:8080/"
        },
        "id": "gNp5ny_3JdNE",
        "outputId": "9162c730-a6f6-4485-9aa7-8a0a92f3533c"
      },
      "execution_count": null,
      "outputs": [
        {
          "output_type": "stream",
          "name": "stdout",
          "text": [
            "  PAY_0 PAY_2 PAY_3 PAY_AMT1 PAY_AMT2 PAY_5 BILL_AMT1\n",
            "1     0     0     1     1100     1500     0       350\n",
            "2     0     0     0     1000     1300     0       420\n",
            "3     0     0     0     1200     1150     0       280\n"
          ]
        }
      ]
    },
    {
      "cell_type": "code",
      "source": [
        "# Checando os tipos de dados\n",
        "%%R\n",
        "str(dados_treino_bal)\n",
        "str(novos_clientes)"
      ],
      "metadata": {
        "colab": {
          "base_uri": "https://localhost:8080/"
        },
        "id": "wOWH0Y2hJvWF",
        "outputId": "123d0962-b3b0-4789-a89a-3eca36e9fa46"
      },
      "execution_count": null,
      "outputs": [
        {
          "output_type": "stream",
          "name": "stdout",
          "text": [
            "'data.frame':\t34706 obs. of  24 variables:\n",
            " $ LIMIT_BAL   : num  50000 210000 210000 30000 130000 50000 200000 50000 20000 50000 ...\n",
            " $ Genero      : Factor w/ 2 levels \"Masculino\",\"Feminino\": 1 2 2 1 2 2 2 2 2 1 ...\n",
            " $ Escolaridade: Factor w/ 4 levels \"Pos Graduado\",..: 3 2 3 1 2 2 1 2 2 2 ...\n",
            " $ Estado_Civil: Factor w/ 4 levels \"Desconhecido\",..: 3 2 3 3 3 2 3 3 2 3 ...\n",
            " $ Idade       : Factor w/ 3 levels \"Jovem\",\"Adulto\",..: 1 2 2 1 1 1 2 1 1 3 ...\n",
            " $ PAY_0       : Factor w/ 11 levels \"-2\",\"-1\",\"0\",..: 3 1 2 3 1 3 3 2 3 3 ...\n",
            " $ PAY_2       : Factor w/ 11 levels \"-2\",\"-1\",\"0\",..: 3 1 2 3 1 3 3 2 3 3 ...\n",
            " $ PAY_3       : Factor w/ 11 levels \"-2\",\"-1\",\"0\",..: 3 1 2 3 1 3 1 2 5 3 ...\n",
            " $ PAY_4       : Factor w/ 11 levels \"-2\",\"-1\",\"0\",..: 2 1 1 5 1 3 1 2 6 3 ...\n",
            " $ PAY_5       : Factor w/ 10 levels \"-2\",\"-1\",\"0\",..: 2 1 1 3 1 3 1 2 5 4 ...\n",
            " $ PAY_6       : Factor w/ 10 levels \"-2\",\"-1\",\"0\",..: 2 1 1 3 1 3 1 2 4 3 ...\n",
            " $ BILL_AMT1   : num  7965 0 7605 28436 -169 ...\n",
            " $ BILL_AMT2   : num  8404 0 1170 28845 3464 ...\n",
            " $ BILL_AMT3   : num  10240 0 0 31071 7569 ...\n",
            " $ BILL_AMT4   : num  170 0 0 30248 8130 ...\n",
            " $ BILL_AMT5   : num  -220 0 0 30354 544 ...\n",
            " $ BILL_AMT6   : num  390 0 0 29088 148 ...\n",
            " $ PAY_AMT1    : num  1500 0 1170 1800 4739 ...\n",
            " $ PAY_AMT2    : num  2000 0 0 3300 22271 ...\n",
            " $ PAY_AMT3    : num  170 0 0 0 8526 ...\n",
            " $ PAY_AMT4    : num  0 0 0 1500 544 ...\n",
            " $ PAY_AMT5    : num  1000 0 0 1500 148 900 0 780 500 2000 ...\n",
            " $ PAY_AMT6    : num  3309 0 3015 1300 72392 ...\n",
            " $ inadimplente: Factor w/ 2 levels \"0\",\"1\": 1 1 1 1 1 1 1 1 1 1 ...\n",
            " - attr(*, \"na.action\")= 'omit' Named int [1:345] 48 70 386 503 505 1074 1266 1283 1370 1832 ...\n",
            "  ..- attr(*, \"names\")= chr [1:345] \"48\" \"70\" \"386\" \"503\" ...\n",
            "'data.frame':\t3 obs. of  7 variables:\n",
            " $ PAY_0    : num  0 0 0\n",
            " $ PAY_2    : num  0 0 0\n",
            " $ PAY_3    : num  1 0 0\n",
            " $ PAY_AMT1 : num  1100 1000 1200\n",
            " $ PAY_AMT2 : num  1500 1300 1150\n",
            " $ PAY_5    : num  0 0 0\n",
            " $ BILL_AMT1: num  350 420 280\n"
          ]
        }
      ]
    },
    {
      "cell_type": "code",
      "source": [
        "# Convertendo os tipos de dados\n",
        "%%R\n",
        "novos_clientes$PAY_0 <- factor(novos_clientes$PAY_0, levels = levels(dados_treino_bal$PAY_0))\n",
        "novos_clientes$PAY_2 <- factor(novos_clientes$PAY_2, levels = levels(dados_treino_bal$PAY_2))\n",
        "novos_clientes$PAY_3 <- factor(novos_clientes$PAY_3, levels = levels(dados_treino_bal$PAY_3))\n",
        "novos_clientes$PAY_5 <- factor(novos_clientes$PAY_5, levels = levels(dados_treino_bal$PAY_5))\n",
        "str(novos_clientes)"
      ],
      "metadata": {
        "colab": {
          "base_uri": "https://localhost:8080/"
        },
        "id": "0XR_R9ZHJ3v1",
        "outputId": "da338d86-81a8-4abb-a83f-9d2b1185185c"
      },
      "execution_count": null,
      "outputs": [
        {
          "output_type": "stream",
          "name": "stdout",
          "text": [
            "'data.frame':\t3 obs. of  7 variables:\n",
            " $ PAY_0    : Factor w/ 11 levels \"-2\",\"-1\",\"0\",..: 3 3 3\n",
            " $ PAY_2    : Factor w/ 11 levels \"-2\",\"-1\",\"0\",..: 3 3 3\n",
            " $ PAY_3    : Factor w/ 11 levels \"-2\",\"-1\",\"0\",..: 4 3 3\n",
            " $ PAY_AMT1 : num  1100 1000 1200\n",
            " $ PAY_AMT2 : num  1500 1300 1150\n",
            " $ PAY_5    : Factor w/ 10 levels \"-2\",\"-1\",\"0\",..: 3 3 3\n",
            " $ BILL_AMT1: num  350 420 280\n"
          ]
        }
      ]
    },
    {
      "cell_type": "code",
      "source": [
        "# Previsões\n",
        "%%R\n",
        "previsoes_novos_clientes <- predict(modelo_final, novos_clientes)\n",
        "head(previsoes_novos_clientes)"
      ],
      "metadata": {
        "colab": {
          "base_uri": "https://localhost:8080/"
        },
        "id": "WkqZfgrFJ-KN",
        "outputId": "f8c16daa-2c8e-4619-ac7d-88eec720dd98"
      },
      "execution_count": null,
      "outputs": [
        {
          "output_type": "stream",
          "name": "stdout",
          "text": [
            "1 2 3 \n",
            "1 0 0 \n",
            "Levels: 0 1\n"
          ]
        }
      ]
    },
    {
      "cell_type": "code",
      "source": [
        ""
      ],
      "metadata": {
        "id": "WTHD4zA0KDXV"
      },
      "execution_count": null,
      "outputs": []
    }
  ]
}